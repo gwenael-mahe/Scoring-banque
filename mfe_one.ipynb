{
 "cells": [
  {
   "metadata": {
    "_uuid": "9d7057b0f4ce0d2bb50bfea37c29ce0927cdf53f"
   },
   "cell_type": "markdown",
   "source": [
    "# Introduction: Manual Feature Engineering (part one)\n",
    "\n",
    "If you are new to this competition, I highly suggest checking out [this notebook](https://www.kaggle.com/willkoehrsen/start-here-a-gentle-introduction/) to get started.\n",
    "\n",
    "In this notebook, we will explore making features by hand for the Home Credit Default Risk competition. In an earlier notebook, we used only the `application` data in order to build a model. The best model we made from this data achieved a score on the leaderboard around 0.74. In order to better this score, we will have to include more information from the other dataframes. Here, we will look at using information from the `bureau` and `bureau_balance` data. The definitions of these data files are:\n",
    "\n",
    "* bureau: information about client's previous loans with other financial institutions reported to Home Credit. Each previous loan has its own row.\n",
    "* bureau_balance: monthly information about the previous loans. Each month has its own row.\n",
    "\n",
    "Manual feature engineering can be a tedious process (which is why we use automated feature engineering with featuretools!) and often relies on domain expertise. Since I have limited domain knowledge of loans and what makes a person likely to default, I will instead concentrate of getting as much info as possible into the final training dataframe. The idea is that the model will then pick up on which features are important rather than us having to decide that. Basically, our approach is to make as many features as possible and then give them all to the model to use! Later, we can perform feature reduction using the feature importances from the model or other techniques such as PCA. \n",
    "\n",
    "The process of manual feature engineering will involve plenty of Pandas code, a little patience, and a lot of great practice manipulation data. Even though automated feature engineering tools are starting to be made available, feature engineering will still have to be done using plenty of data wrangling for a little while longer. "
   ]
  },
  {
   "metadata": {
    "_cell_guid": "b1076dfc-b9ad-4769-8c92-a6c4dae69d19",
    "_uuid": "8f2839f25d086af736a60e9eeb907d3b93b6e0e5",
    "collapsed": true,
    "trusted": true
   },
   "cell_type": "code",
   "source": [
    "# pandas and numpy for data manipulation\n",
    "import pandas as pd\n",
    "import numpy as np\n",
    "\n",
    "# matplotlib and seaborn for plotting\n",
    "import matplotlib.pyplot as plt\n",
    "import seaborn as sns\n",
    "\n",
    "# Suppress warnings from pandas\n",
    "import warnings\n",
    "\n",
    "warnings.filterwarnings('ignore')\n",
    "\n",
    "plt.style.use('fivethirtyeight')"
   ],
   "execution_count": 1,
   "outputs": []
  },
  {
   "metadata": {
    "_uuid": "b4e0980ff7f4d8d9f0661b5d5ebf07e66d304222"
   },
   "cell_type": "markdown",
   "source": [
    "## Example: Counts of a client's previous loans\n",
    "\n",
    "To illustrate the general process of manual feature engineering, we will first simply get the count of a client's previous loans at other financial institutions. This requires a number of Pandas operations we will make heavy use of throughout the notebook:\n",
    "\n",
    "* `groupby`: group a dataframe by a column. In this case we will group by the unique client, the `SK_ID_CURR` column\n",
    "* `agg`: perform a calculation on the grouped data such as taking the mean of columns. We can either call the function directly (`grouped_df.mean()`) or use the `agg` function together with a list of transforms (`grouped_df.agg([mean, max, min, sum])`)\n",
    "* `merge`: match the aggregated statistics to the appropriate client. We need to merge the original training data with the calculated stats on the `SK_ID_CURR` column which will insert `NaN` in any cell for which the client does not have the corresponding statistic\n",
    "\n",
    "We also use the (`rename`) function quite a bit specifying the columns to be renamed as a dictionary. This is useful in order to keep track of the new variables we create.\n",
    "\n",
    "This might seem like a lot, which is why we'll eventually write a function to do this process for us. Let's take a look at implementing this by hand first. "
   ]
  },
  {
   "metadata": {
    "_cell_guid": "79c7e3d0-c299-4dcb-8224-4455121ee9b0",
    "_uuid": "d629ff2d2480ee46fbb7e2d37f6b5fab8052498a",
    "trusted": true
   },
   "cell_type": "code",
   "source": [
    "# Read in bureau\n",
    "bureau = pd.read_csv('./input/bureau.csv')\n",
    "bureau.head()"
   ],
   "execution_count": 2,
   "outputs": [
    {
     "data": {
      "text/plain": "   SK_ID_CURR  SK_ID_BUREAU CREDIT_ACTIVE CREDIT_CURRENCY  DAYS_CREDIT  \\\n0      215354       5714462        Closed      currency 1         -497   \n1      215354       5714463        Active      currency 1         -208   \n2      215354       5714464        Active      currency 1         -203   \n3      215354       5714465        Active      currency 1         -203   \n4      215354       5714466        Active      currency 1         -629   \n\n   CREDIT_DAY_OVERDUE  DAYS_CREDIT_ENDDATE  DAYS_ENDDATE_FACT  \\\n0                   0               -153.0             -153.0   \n1                   0               1075.0                NaN   \n2                   0                528.0                NaN   \n3                   0                  NaN                NaN   \n4                   0               1197.0                NaN   \n\n   AMT_CREDIT_MAX_OVERDUE  CNT_CREDIT_PROLONG  AMT_CREDIT_SUM  \\\n0                     NaN                   0         91323.0   \n1                     NaN                   0        225000.0   \n2                     NaN                   0        464323.5   \n3                     NaN                   0         90000.0   \n4                 77674.5                   0       2700000.0   \n\n   AMT_CREDIT_SUM_DEBT  AMT_CREDIT_SUM_LIMIT  AMT_CREDIT_SUM_OVERDUE  \\\n0                  0.0                   NaN                     0.0   \n1             171342.0                   NaN                     0.0   \n2                  NaN                   NaN                     0.0   \n3                  NaN                   NaN                     0.0   \n4                  NaN                   NaN                     0.0   \n\n       CREDIT_TYPE  DAYS_CREDIT_UPDATE  AMT_ANNUITY  \n0  Consumer credit                -131          NaN  \n1      Credit card                 -20          NaN  \n2  Consumer credit                 -16          NaN  \n3      Credit card                 -16          NaN  \n4  Consumer credit                 -21          NaN  ",
      "text/html": "<div>\n<style scoped>\n    .dataframe tbody tr th:only-of-type {\n        vertical-align: middle;\n    }\n\n    .dataframe tbody tr th {\n        vertical-align: top;\n    }\n\n    .dataframe thead th {\n        text-align: right;\n    }\n</style>\n<table border=\"1\" class=\"dataframe\">\n  <thead>\n    <tr style=\"text-align: right;\">\n      <th></th>\n      <th>SK_ID_CURR</th>\n      <th>SK_ID_BUREAU</th>\n      <th>CREDIT_ACTIVE</th>\n      <th>CREDIT_CURRENCY</th>\n      <th>DAYS_CREDIT</th>\n      <th>CREDIT_DAY_OVERDUE</th>\n      <th>DAYS_CREDIT_ENDDATE</th>\n      <th>DAYS_ENDDATE_FACT</th>\n      <th>AMT_CREDIT_MAX_OVERDUE</th>\n      <th>CNT_CREDIT_PROLONG</th>\n      <th>AMT_CREDIT_SUM</th>\n      <th>AMT_CREDIT_SUM_DEBT</th>\n      <th>AMT_CREDIT_SUM_LIMIT</th>\n      <th>AMT_CREDIT_SUM_OVERDUE</th>\n      <th>CREDIT_TYPE</th>\n      <th>DAYS_CREDIT_UPDATE</th>\n      <th>AMT_ANNUITY</th>\n    </tr>\n  </thead>\n  <tbody>\n    <tr>\n      <th>0</th>\n      <td>215354</td>\n      <td>5714462</td>\n      <td>Closed</td>\n      <td>currency 1</td>\n      <td>-497</td>\n      <td>0</td>\n      <td>-153.0</td>\n      <td>-153.0</td>\n      <td>NaN</td>\n      <td>0</td>\n      <td>91323.0</td>\n      <td>0.0</td>\n      <td>NaN</td>\n      <td>0.0</td>\n      <td>Consumer credit</td>\n      <td>-131</td>\n      <td>NaN</td>\n    </tr>\n    <tr>\n      <th>1</th>\n      <td>215354</td>\n      <td>5714463</td>\n      <td>Active</td>\n      <td>currency 1</td>\n      <td>-208</td>\n      <td>0</td>\n      <td>1075.0</td>\n      <td>NaN</td>\n      <td>NaN</td>\n      <td>0</td>\n      <td>225000.0</td>\n      <td>171342.0</td>\n      <td>NaN</td>\n      <td>0.0</td>\n      <td>Credit card</td>\n      <td>-20</td>\n      <td>NaN</td>\n    </tr>\n    <tr>\n      <th>2</th>\n      <td>215354</td>\n      <td>5714464</td>\n      <td>Active</td>\n      <td>currency 1</td>\n      <td>-203</td>\n      <td>0</td>\n      <td>528.0</td>\n      <td>NaN</td>\n      <td>NaN</td>\n      <td>0</td>\n      <td>464323.5</td>\n      <td>NaN</td>\n      <td>NaN</td>\n      <td>0.0</td>\n      <td>Consumer credit</td>\n      <td>-16</td>\n      <td>NaN</td>\n    </tr>\n    <tr>\n      <th>3</th>\n      <td>215354</td>\n      <td>5714465</td>\n      <td>Active</td>\n      <td>currency 1</td>\n      <td>-203</td>\n      <td>0</td>\n      <td>NaN</td>\n      <td>NaN</td>\n      <td>NaN</td>\n      <td>0</td>\n      <td>90000.0</td>\n      <td>NaN</td>\n      <td>NaN</td>\n      <td>0.0</td>\n      <td>Credit card</td>\n      <td>-16</td>\n      <td>NaN</td>\n    </tr>\n    <tr>\n      <th>4</th>\n      <td>215354</td>\n      <td>5714466</td>\n      <td>Active</td>\n      <td>currency 1</td>\n      <td>-629</td>\n      <td>0</td>\n      <td>1197.0</td>\n      <td>NaN</td>\n      <td>77674.5</td>\n      <td>0</td>\n      <td>2700000.0</td>\n      <td>NaN</td>\n      <td>NaN</td>\n      <td>0.0</td>\n      <td>Consumer credit</td>\n      <td>-21</td>\n      <td>NaN</td>\n    </tr>\n  </tbody>\n</table>\n</div>"
     },
     "execution_count": 2,
     "metadata": {},
     "output_type": "execute_result"
    }
   ]
  },
  {
   "metadata": {
    "_uuid": "6665d87bd3a157c20fb5a383322aa153005cad2b",
    "trusted": true
   },
   "cell_type": "code",
   "source": [
    "# Groupby the client id (SK_ID_CURR), count the number of previous loans, and rename the column\n",
    "previous_loan_counts = bureau.groupby('SK_ID_CURR', as_index=False)['SK_ID_BUREAU'].count().rename(columns={'SK_ID_BUREAU': 'previous_loan_counts'})\n",
    "previous_loan_counts.head()"
   ],
   "execution_count": 3,
   "outputs": [
    {
     "data": {
      "text/plain": "   SK_ID_CURR  previous_loan_counts\n0      100001                     7\n1      100002                     8\n2      100003                     4\n3      100004                     2\n4      100005                     3",
      "text/html": "<div>\n<style scoped>\n    .dataframe tbody tr th:only-of-type {\n        vertical-align: middle;\n    }\n\n    .dataframe tbody tr th {\n        vertical-align: top;\n    }\n\n    .dataframe thead th {\n        text-align: right;\n    }\n</style>\n<table border=\"1\" class=\"dataframe\">\n  <thead>\n    <tr style=\"text-align: right;\">\n      <th></th>\n      <th>SK_ID_CURR</th>\n      <th>previous_loan_counts</th>\n    </tr>\n  </thead>\n  <tbody>\n    <tr>\n      <th>0</th>\n      <td>100001</td>\n      <td>7</td>\n    </tr>\n    <tr>\n      <th>1</th>\n      <td>100002</td>\n      <td>8</td>\n    </tr>\n    <tr>\n      <th>2</th>\n      <td>100003</td>\n      <td>4</td>\n    </tr>\n    <tr>\n      <th>3</th>\n      <td>100004</td>\n      <td>2</td>\n    </tr>\n    <tr>\n      <th>4</th>\n      <td>100005</td>\n      <td>3</td>\n    </tr>\n  </tbody>\n</table>\n</div>"
     },
     "execution_count": 3,
     "metadata": {},
     "output_type": "execute_result"
    }
   ]
  },
  {
   "metadata": {
    "_uuid": "1adcc4acb891adae8646211db629fb263660c2bb",
    "trusted": true
   },
   "cell_type": "code",
   "source": [
    "# Join to the training dataframe\n",
    "train = pd.read_csv('./input/application_train.csv')\n",
    "train = train.merge(previous_loan_counts, on='SK_ID_CURR', how='left')\n",
    "\n",
    "# Fill the missing values with 0 \n",
    "train['previous_loan_counts'] = train['previous_loan_counts'].fillna(0)\n",
    "train.head()"
   ],
   "execution_count": 4,
   "outputs": [
    {
     "data": {
      "text/plain": "   SK_ID_CURR  TARGET NAME_CONTRACT_TYPE CODE_GENDER FLAG_OWN_CAR  \\\n0      100002       1         Cash loans           M            N   \n1      100003       0         Cash loans           F            N   \n2      100004       0    Revolving loans           M            Y   \n3      100006       0         Cash loans           F            N   \n4      100007       0         Cash loans           M            N   \n\n  FLAG_OWN_REALTY  CNT_CHILDREN  AMT_INCOME_TOTAL  AMT_CREDIT  AMT_ANNUITY  \\\n0               Y             0          202500.0    406597.5      24700.5   \n1               N             0          270000.0   1293502.5      35698.5   \n2               Y             0           67500.0    135000.0       6750.0   \n3               Y             0          135000.0    312682.5      29686.5   \n4               Y             0          121500.0    513000.0      21865.5   \n\n   ...  FLAG_DOCUMENT_19 FLAG_DOCUMENT_20 FLAG_DOCUMENT_21  \\\n0  ...                 0                0                0   \n1  ...                 0                0                0   \n2  ...                 0                0                0   \n3  ...                 0                0                0   \n4  ...                 0                0                0   \n\n  AMT_REQ_CREDIT_BUREAU_HOUR AMT_REQ_CREDIT_BUREAU_DAY  \\\n0                        0.0                       0.0   \n1                        0.0                       0.0   \n2                        0.0                       0.0   \n3                        NaN                       NaN   \n4                        0.0                       0.0   \n\n  AMT_REQ_CREDIT_BUREAU_WEEK  AMT_REQ_CREDIT_BUREAU_MON  \\\n0                        0.0                        0.0   \n1                        0.0                        0.0   \n2                        0.0                        0.0   \n3                        NaN                        NaN   \n4                        0.0                        0.0   \n\n   AMT_REQ_CREDIT_BUREAU_QRT  AMT_REQ_CREDIT_BUREAU_YEAR  previous_loan_counts  \n0                        0.0                         1.0                   8.0  \n1                        0.0                         0.0                   4.0  \n2                        0.0                         0.0                   2.0  \n3                        NaN                         NaN                   0.0  \n4                        0.0                         0.0                   1.0  \n\n[5 rows x 123 columns]",
      "text/html": "<div>\n<style scoped>\n    .dataframe tbody tr th:only-of-type {\n        vertical-align: middle;\n    }\n\n    .dataframe tbody tr th {\n        vertical-align: top;\n    }\n\n    .dataframe thead th {\n        text-align: right;\n    }\n</style>\n<table border=\"1\" class=\"dataframe\">\n  <thead>\n    <tr style=\"text-align: right;\">\n      <th></th>\n      <th>SK_ID_CURR</th>\n      <th>TARGET</th>\n      <th>NAME_CONTRACT_TYPE</th>\n      <th>CODE_GENDER</th>\n      <th>FLAG_OWN_CAR</th>\n      <th>FLAG_OWN_REALTY</th>\n      <th>CNT_CHILDREN</th>\n      <th>AMT_INCOME_TOTAL</th>\n      <th>AMT_CREDIT</th>\n      <th>AMT_ANNUITY</th>\n      <th>...</th>\n      <th>FLAG_DOCUMENT_19</th>\n      <th>FLAG_DOCUMENT_20</th>\n      <th>FLAG_DOCUMENT_21</th>\n      <th>AMT_REQ_CREDIT_BUREAU_HOUR</th>\n      <th>AMT_REQ_CREDIT_BUREAU_DAY</th>\n      <th>AMT_REQ_CREDIT_BUREAU_WEEK</th>\n      <th>AMT_REQ_CREDIT_BUREAU_MON</th>\n      <th>AMT_REQ_CREDIT_BUREAU_QRT</th>\n      <th>AMT_REQ_CREDIT_BUREAU_YEAR</th>\n      <th>previous_loan_counts</th>\n    </tr>\n  </thead>\n  <tbody>\n    <tr>\n      <th>0</th>\n      <td>100002</td>\n      <td>1</td>\n      <td>Cash loans</td>\n      <td>M</td>\n      <td>N</td>\n      <td>Y</td>\n      <td>0</td>\n      <td>202500.0</td>\n      <td>406597.5</td>\n      <td>24700.5</td>\n      <td>...</td>\n      <td>0</td>\n      <td>0</td>\n      <td>0</td>\n      <td>0.0</td>\n      <td>0.0</td>\n      <td>0.0</td>\n      <td>0.0</td>\n      <td>0.0</td>\n      <td>1.0</td>\n      <td>8.0</td>\n    </tr>\n    <tr>\n      <th>1</th>\n      <td>100003</td>\n      <td>0</td>\n      <td>Cash loans</td>\n      <td>F</td>\n      <td>N</td>\n      <td>N</td>\n      <td>0</td>\n      <td>270000.0</td>\n      <td>1293502.5</td>\n      <td>35698.5</td>\n      <td>...</td>\n      <td>0</td>\n      <td>0</td>\n      <td>0</td>\n      <td>0.0</td>\n      <td>0.0</td>\n      <td>0.0</td>\n      <td>0.0</td>\n      <td>0.0</td>\n      <td>0.0</td>\n      <td>4.0</td>\n    </tr>\n    <tr>\n      <th>2</th>\n      <td>100004</td>\n      <td>0</td>\n      <td>Revolving loans</td>\n      <td>M</td>\n      <td>Y</td>\n      <td>Y</td>\n      <td>0</td>\n      <td>67500.0</td>\n      <td>135000.0</td>\n      <td>6750.0</td>\n      <td>...</td>\n      <td>0</td>\n      <td>0</td>\n      <td>0</td>\n      <td>0.0</td>\n      <td>0.0</td>\n      <td>0.0</td>\n      <td>0.0</td>\n      <td>0.0</td>\n      <td>0.0</td>\n      <td>2.0</td>\n    </tr>\n    <tr>\n      <th>3</th>\n      <td>100006</td>\n      <td>0</td>\n      <td>Cash loans</td>\n      <td>F</td>\n      <td>N</td>\n      <td>Y</td>\n      <td>0</td>\n      <td>135000.0</td>\n      <td>312682.5</td>\n      <td>29686.5</td>\n      <td>...</td>\n      <td>0</td>\n      <td>0</td>\n      <td>0</td>\n      <td>NaN</td>\n      <td>NaN</td>\n      <td>NaN</td>\n      <td>NaN</td>\n      <td>NaN</td>\n      <td>NaN</td>\n      <td>0.0</td>\n    </tr>\n    <tr>\n      <th>4</th>\n      <td>100007</td>\n      <td>0</td>\n      <td>Cash loans</td>\n      <td>M</td>\n      <td>N</td>\n      <td>Y</td>\n      <td>0</td>\n      <td>121500.0</td>\n      <td>513000.0</td>\n      <td>21865.5</td>\n      <td>...</td>\n      <td>0</td>\n      <td>0</td>\n      <td>0</td>\n      <td>0.0</td>\n      <td>0.0</td>\n      <td>0.0</td>\n      <td>0.0</td>\n      <td>0.0</td>\n      <td>0.0</td>\n      <td>1.0</td>\n    </tr>\n  </tbody>\n</table>\n<p>5 rows × 123 columns</p>\n</div>"
     },
     "execution_count": 4,
     "metadata": {},
     "output_type": "execute_result"
    }
   ]
  },
  {
   "metadata": {
    "_uuid": "53d83da3d8a28541c2dd49be8047e110034c10e6"
   },
   "cell_type": "markdown",
   "source": [
    "Scroll all the way to the right to see the new column. "
   ]
  },
  {
   "metadata": {
    "_uuid": "173b8548125c8a344f67d397d7c24af223af7254"
   },
   "cell_type": "markdown",
   "source": [
    "## Assessing Usefulness of New Variable with r value\n",
    "\n",
    "To determine if the new variable is useful, we can calculate the Pearson Correlation Coefficient (r-value) between this variable and the target. This measures the strength of a linear relationship between two variables and ranges from -1 (perfectly negatively linear) to +1 (perfectly positively linear). The r-value is not best measure of the \"usefulness\" of a new variable, but it can give a first approximation of whether a variable will be helpful to a machine learning model. The larger the r-value of a variable with respect to the target, the more a change in this variable is likely to affect the value of the target. Therefore, we look for the variables with the greatest absolute value r-value relative to the target.\n",
    "\n",
    "We can also visually inspect a relationship with the target using the Kernel Density Estimate (KDE) plot. "
   ]
  },
  {
   "metadata": {
    "_uuid": "f5bc72f178a44d45399f620ee43483df2482c02f"
   },
   "cell_type": "markdown",
   "source": [
    "### Kernel Density Estimate Plots\n",
    "\n",
    "The kernel density estimate plot shows the distribution of a single variable (think of it as a smoothed histogram). To see the different in distributions dependent on the value of a categorical variable, we can color the distributions differently according to the category. For example, we can show the kernel density estimate of the `previous_loan_count` colored by whether the `TARGET` = 1 or 0. The resulting KDE will show any significant differences in the distribution of the variable between people who did not repay their loan (`TARGET == 1`) and the people who did (`TARGET == 0`). This can serve as an indicator of whether a variable will be 'relevant' to a machine learning model. \n",
    "\n",
    "We will put this plotting functionality in a function to re-use for any variable. "
   ]
  },
  {
   "metadata": {
    "_uuid": "4a5fab58ab8327c7f53361b584603d78df96c7a4",
    "collapsed": true,
    "trusted": true
   },
   "cell_type": "code",
   "source": [
    "# Plots the disribution of a variable colored by value of the target\n",
    "def kde_target(var_name, df):\n",
    "    # Calculate the correlation coefficient between the new variable and the target\n",
    "    corr = df['TARGET'].corr(df[var_name])\n",
    "\n",
    "    # Calculate medians for repaid vs not repaid\n",
    "    avg_repaid = df.loc[df['TARGET'] == 0, var_name].median()\n",
    "    avg_not_repaid = df.loc[df['TARGET'] == 1, var_name].median()\n",
    "\n",
    "    plt.figure(figsize=(12, 6))\n",
    "\n",
    "    # Plot the distribution for target == 0 and target == 1\n",
    "    sns.kdeplot(df.loc[df['TARGET'] == 0, var_name], label='TARGET == 0')\n",
    "    sns.kdeplot(df.loc[df['TARGET'] == 1, var_name], label='TARGET == 1')\n",
    "\n",
    "    # label the plot\n",
    "    plt.xlabel(var_name)\n",
    "    plt.ylabel('Density')\n",
    "    plt.title('%s Distribution' % var_name)\n",
    "    plt.legend()\n",
    "\n",
    "    # print out the correlation\n",
    "    print('The correlation between %s and the TARGET is %0.4f' % (var_name, corr))\n",
    "    # Print out average values\n",
    "    print('Median value for loan that was not repaid = %0.4f' % avg_not_repaid)\n",
    "    print('Median value for loan that was repaid =     %0.4f' % avg_repaid)\n"
   ],
   "execution_count": 5,
   "outputs": []
  },
  {
   "metadata": {
    "_uuid": "783e2b23b473f5f61d17ba5b5b64349d3a1d60cf"
   },
   "cell_type": "markdown",
   "source": [
    "We can test this function using the `EXT_SOURCE_3` variable which we [found to be one of the most important variables ](https://www.kaggle.com/willkoehrsen/start-here-a-gentle-introduction) according to a Random Forest and Gradient Boosting Machine. "
   ]
  },
  {
   "metadata": {
    "_uuid": "f9e51eb7f02c5612edef3c950ae89da3b8ececf4",
    "trusted": true
   },
   "cell_type": "code",
   "source": [
    "kde_target('EXT_SOURCE_3', train)"
   ],
   "execution_count": 6,
   "outputs": [
    {
     "name": "stdout",
     "output_type": "stream",
     "text": [
      "The correlation between EXT_SOURCE_3 and the TARGET is -0.1789\n",
      "Median value for loan that was not repaid = 0.3791\n",
      "Median value for loan that was repaid =     0.5460\n"
     ]
    },
    {
     "data": {
      "text/plain": "<Figure size 864x432 with 1 Axes>",
      "image/png": "[encoded data removed]"
     },
     "metadata": {},
     "output_type": "display_data"
    }
   ]
  },
  {
   "metadata": {
    "_uuid": "c4598cb54ad22b04646683832e2e4c4bc98ff8e9"
   },
   "cell_type": "markdown",
   "source": [
    "Now for the new variable we just made, the number of previous loans at other institutions."
   ]
  },
  {
   "metadata": {
    "_uuid": "bbae3d4e85f106c1e7b457ad71e1549c0e7b1267",
    "trusted": true
   },
   "cell_type": "code",
   "source": [
    "kde_target('previous_loan_counts', train)"
   ],
   "execution_count": 7,
   "outputs": [
    {
     "name": "stdout",
     "output_type": "stream",
     "text": [
      "The correlation between previous_loan_counts and the TARGET is -0.0100\n",
      "Median value for loan that was not repaid = 3.0000\n",
      "Median value for loan that was repaid =     4.0000\n"
     ]
    },
    {
     "data": {
      "text/plain": "<Figure size 864x432 with 1 Axes>",
      "image/png": "[encoded data removed]"
     },
     "metadata": {},
     "output_type": "display_data"
    }
   ]
  },
  {
   "metadata": {
    "_uuid": "a85c4e3f8ccb54bb4dbbd85a414744d301916fd8"
   },
   "cell_type": "markdown",
   "source": [
    "From this it's difficult to tell if this variable will be important. The correlation coefficient is extremely weak and there is almost no noticeable difference in the distributions. \n",
    "\n",
    "Let's move on to make a few more variables from the bureau dataframe. We will take the mean, min, and max of every numeric column in the bureau dataframe."
   ]
  },
  {
   "metadata": {
    "_uuid": "11f1b0ab2146ec95a50055d2788b5f05c43e0afb"
   },
   "cell_type": "markdown",
   "source": [
    "## Aggregating Numeric Columns\n",
    "\n",
    "To account for the numeric information in the `bureau` dataframe, we can compute statistics for all the numeric columns. To do so, we `groupby` the client id, `agg` the grouped dataframe, and merge the result back into the training data. The `agg` function will only calculate the values for the numeric columns where the operation is considered valid. We will stick to using `'mean', 'max', 'min', 'sum'` but any function can be passed in here. We can even write our own function and use it in an `agg` call. "
   ]
  },
  {
   "metadata": {
    "_uuid": "582885d850fa1316ce869b856b9d886ad542b04b",
    "trusted": true
   },
   "cell_type": "code",
   "source": [
    "# Group by the client id, calculate aggregation statistics\n",
    "bureau_agg = bureau.drop(columns=['SK_ID_BUREAU']).groupby('SK_ID_CURR', as_index=False).agg(['count', 'mean', 'max', 'min', 'sum']).reset_index()\n",
    "bureau_agg.head()"
   ],
   "execution_count": 8,
   "outputs": [
    {
     "data": {
      "text/plain": "  SK_ID_CURR DAYS_CREDIT                               CREDIT_DAY_OVERDUE  \\\n                   count         mean  max   min   sum              count   \n0     100001           7  -735.000000  -49 -1572 -5145                  7   \n1     100002           8  -874.000000 -103 -1437 -6992                  8   \n2     100003           4 -1400.750000 -606 -2586 -5603                  4   \n3     100004           2  -867.000000 -408 -1326 -1734                  2   \n4     100005           3  -190.666667  -62  -373  -572                  3   \n\n                ... DAYS_CREDIT_UPDATE                               \\\n  mean max min  ...              count        mean  max   min   sum   \n0  0.0   0   0  ...                  7  -93.142857   -6  -155  -652   \n1  0.0   0   0  ...                  8 -499.875000   -7 -1185 -3999   \n2  0.0   0   0  ...                  4 -816.000000  -43 -2131 -3264   \n3  0.0   0   0  ...                  2 -532.000000 -382  -682 -1064   \n4  0.0   0   0  ...                  3  -54.333333  -11  -121  -163   \n\n  AMT_ANNUITY                                      \n        count         mean      max  min      sum  \n0           7  3545.357143  10822.5  0.0  24817.5  \n1           7     0.000000      0.0  0.0      0.0  \n2           0          NaN      NaN  NaN      0.0  \n3           0          NaN      NaN  NaN      0.0  \n4           3  1420.500000   4261.5  0.0   4261.5  \n\n[5 rows x 61 columns]",
      "text/html": "<div>\n<style scoped>\n    .dataframe tbody tr th:only-of-type {\n        vertical-align: middle;\n    }\n\n    .dataframe tbody tr th {\n        vertical-align: top;\n    }\n\n    .dataframe thead tr th {\n        text-align: left;\n    }\n</style>\n<table border=\"1\" class=\"dataframe\">\n  <thead>\n    <tr>\n      <th></th>\n      <th>SK_ID_CURR</th>\n      <th colspan=\"5\" halign=\"left\">DAYS_CREDIT</th>\n      <th colspan=\"4\" halign=\"left\">CREDIT_DAY_OVERDUE</th>\n      <th>...</th>\n      <th colspan=\"5\" halign=\"left\">DAYS_CREDIT_UPDATE</th>\n      <th colspan=\"5\" halign=\"left\">AMT_ANNUITY</th>\n    </tr>\n    <tr>\n      <th></th>\n      <th></th>\n      <th>count</th>\n      <th>mean</th>\n      <th>max</th>\n      <th>min</th>\n      <th>sum</th>\n      <th>count</th>\n      <th>mean</th>\n      <th>max</th>\n      <th>min</th>\n      <th>...</th>\n      <th>count</th>\n      <th>mean</th>\n      <th>max</th>\n      <th>min</th>\n      <th>sum</th>\n      <th>count</th>\n      <th>mean</th>\n      <th>max</th>\n      <th>min</th>\n      <th>sum</th>\n    </tr>\n  </thead>\n  <tbody>\n    <tr>\n      <th>0</th>\n      <td>100001</td>\n      <td>7</td>\n      <td>-735.000000</td>\n      <td>-49</td>\n      <td>-1572</td>\n      <td>-5145</td>\n      <td>7</td>\n      <td>0.0</td>\n      <td>0</td>\n      <td>0</td>\n      <td>...</td>\n      <td>7</td>\n      <td>-93.142857</td>\n      <td>-6</td>\n      <td>-155</td>\n      <td>-652</td>\n      <td>7</td>\n      <td>3545.357143</td>\n      <td>10822.5</td>\n      <td>0.0</td>\n      <td>24817.5</td>\n    </tr>\n    <tr>\n      <th>1</th>\n      <td>100002</td>\n      <td>8</td>\n      <td>-874.000000</td>\n      <td>-103</td>\n      <td>-1437</td>\n      <td>-6992</td>\n      <td>8</td>\n      <td>0.0</td>\n      <td>0</td>\n      <td>0</td>\n      <td>...</td>\n      <td>8</td>\n      <td>-499.875000</td>\n      <td>-7</td>\n      <td>-1185</td>\n      <td>-3999</td>\n      <td>7</td>\n      <td>0.000000</td>\n      <td>0.0</td>\n      <td>0.0</td>\n      <td>0.0</td>\n    </tr>\n    <tr>\n      <th>2</th>\n      <td>100003</td>\n      <td>4</td>\n      <td>-1400.750000</td>\n      <td>-606</td>\n      <td>-2586</td>\n      <td>-5603</td>\n      <td>4</td>\n      <td>0.0</td>\n      <td>0</td>\n      <td>0</td>\n      <td>...</td>\n      <td>4</td>\n      <td>-816.000000</td>\n      <td>-43</td>\n      <td>-2131</td>\n      <td>-3264</td>\n      <td>0</td>\n      <td>NaN</td>\n      <td>NaN</td>\n      <td>NaN</td>\n      <td>0.0</td>\n    </tr>\n    <tr>\n      <th>3</th>\n      <td>100004</td>\n      <td>2</td>\n      <td>-867.000000</td>\n      <td>-408</td>\n      <td>-1326</td>\n      <td>-1734</td>\n      <td>2</td>\n      <td>0.0</td>\n      <td>0</td>\n      <td>0</td>\n      <td>...</td>\n      <td>2</td>\n      <td>-532.000000</td>\n      <td>-382</td>\n      <td>-682</td>\n      <td>-1064</td>\n      <td>0</td>\n      <td>NaN</td>\n      <td>NaN</td>\n      <td>NaN</td>\n      <td>0.0</td>\n    </tr>\n    <tr>\n      <th>4</th>\n      <td>100005</td>\n      <td>3</td>\n      <td>-190.666667</td>\n      <td>-62</td>\n      <td>-373</td>\n      <td>-572</td>\n      <td>3</td>\n      <td>0.0</td>\n      <td>0</td>\n      <td>0</td>\n      <td>...</td>\n      <td>3</td>\n      <td>-54.333333</td>\n      <td>-11</td>\n      <td>-121</td>\n      <td>-163</td>\n      <td>3</td>\n      <td>1420.500000</td>\n      <td>4261.5</td>\n      <td>0.0</td>\n      <td>4261.5</td>\n    </tr>\n  </tbody>\n</table>\n<p>5 rows × 61 columns</p>\n</div>"
     },
     "execution_count": 8,
     "metadata": {},
     "output_type": "execute_result"
    }
   ]
  },
  {
   "metadata": {
    "_uuid": "812f7b1e0d6016768d9276da790b0986181f9fdd"
   },
   "cell_type": "markdown",
   "source": [
    "We need to create new names for each of these columns. The following code makes new names by appending the stat to the name. Here we have to deal with the fact that the dataframe has a multi-level index. I find these confusing and hard to work with, so I try to reduce to a single level index as quickly as possible."
   ]
  },
  {
   "metadata": {
    "_uuid": "01acafad68d285c875018ae916c002e9dad1a2fa",
    "collapsed": true,
    "trusted": true
   },
   "cell_type": "code",
   "source": [
    "# List of column names\n",
    "columns = ['SK_ID_CURR']\n",
    "\n",
    "# Iterate through the variables names\n",
    "for var in bureau_agg.columns.levels[0]:\n",
    "    # Skip the id name\n",
    "    if var != 'SK_ID_CURR':\n",
    "\n",
    "        # Iterate through the stat names\n",
    "        for stat in bureau_agg.columns.levels[1][:-1]:\n",
    "            # Make a new column name for the variable and stat\n",
    "            columns.append('bureau_%s_%s' % (var, stat))"
   ],
   "execution_count": 9,
   "outputs": []
  },
  {
   "metadata": {
    "_uuid": "4f34abd311ffcb34e9feb0786998e478ffd90766",
    "trusted": true
   },
   "cell_type": "code",
   "source": [
    "# Assign the list of columns names as the dataframe column names\n",
    "bureau_agg.columns = columns\n",
    "bureau_agg.head()"
   ],
   "execution_count": 10,
   "outputs": [
    {
     "data": {
      "text/plain": "   SK_ID_CURR  bureau_DAYS_CREDIT_count  bureau_DAYS_CREDIT_mean  \\\n0      100001                         7              -735.000000   \n1      100002                         8              -874.000000   \n2      100003                         4             -1400.750000   \n3      100004                         2              -867.000000   \n4      100005                         3              -190.666667   \n\n   bureau_DAYS_CREDIT_max  bureau_DAYS_CREDIT_min  bureau_DAYS_CREDIT_sum  \\\n0                     -49                   -1572                   -5145   \n1                    -103                   -1437                   -6992   \n2                    -606                   -2586                   -5603   \n3                    -408                   -1326                   -1734   \n4                     -62                    -373                    -572   \n\n   bureau_CREDIT_DAY_OVERDUE_count  bureau_CREDIT_DAY_OVERDUE_mean  \\\n0                                7                             0.0   \n1                                8                             0.0   \n2                                4                             0.0   \n3                                2                             0.0   \n4                                3                             0.0   \n\n   bureau_CREDIT_DAY_OVERDUE_max  bureau_CREDIT_DAY_OVERDUE_min  ...  \\\n0                              0                              0  ...   \n1                              0                              0  ...   \n2                              0                              0  ...   \n3                              0                              0  ...   \n4                              0                              0  ...   \n\n   bureau_DAYS_CREDIT_UPDATE_count  bureau_DAYS_CREDIT_UPDATE_mean  \\\n0                                7                      -93.142857   \n1                                8                     -499.875000   \n2                                4                     -816.000000   \n3                                2                     -532.000000   \n4                                3                      -54.333333   \n\n   bureau_DAYS_CREDIT_UPDATE_max  bureau_DAYS_CREDIT_UPDATE_min  \\\n0                             -6                           -155   \n1                             -7                          -1185   \n2                            -43                          -2131   \n3                           -382                           -682   \n4                            -11                           -121   \n\n   bureau_DAYS_CREDIT_UPDATE_sum  bureau_AMT_ANNUITY_count  \\\n0                           -652                         7   \n1                          -3999                         7   \n2                          -3264                         0   \n3                          -1064                         0   \n4                           -163                         3   \n\n   bureau_AMT_ANNUITY_mean  bureau_AMT_ANNUITY_max  bureau_AMT_ANNUITY_min  \\\n0              3545.357143                 10822.5                     0.0   \n1                 0.000000                     0.0                     0.0   \n2                      NaN                     NaN                     NaN   \n3                      NaN                     NaN                     NaN   \n4              1420.500000                  4261.5                     0.0   \n\n   bureau_AMT_ANNUITY_sum  \n0                 24817.5  \n1                     0.0  \n2                     0.0  \n3                     0.0  \n4                  4261.5  \n\n[5 rows x 61 columns]",
      "text/html": "<div>\n<style scoped>\n    .dataframe tbody tr th:only-of-type {\n        vertical-align: middle;\n    }\n\n    .dataframe tbody tr th {\n        vertical-align: top;\n    }\n\n    .dataframe thead th {\n        text-align: right;\n    }\n</style>\n<table border=\"1\" class=\"dataframe\">\n  <thead>\n    <tr style=\"text-align: right;\">\n      <th></th>\n      <th>SK_ID_CURR</th>\n      <th>bureau_DAYS_CREDIT_count</th>\n      <th>bureau_DAYS_CREDIT_mean</th>\n      <th>bureau_DAYS_CREDIT_max</th>\n      <th>bureau_DAYS_CREDIT_min</th>\n      <th>bureau_DAYS_CREDIT_sum</th>\n      <th>bureau_CREDIT_DAY_OVERDUE_count</th>\n      <th>bureau_CREDIT_DAY_OVERDUE_mean</th>\n      <th>bureau_CREDIT_DAY_OVERDUE_max</th>\n      <th>bureau_CREDIT_DAY_OVERDUE_min</th>\n      <th>...</th>\n      <th>bureau_DAYS_CREDIT_UPDATE_count</th>\n      <th>bureau_DAYS_CREDIT_UPDATE_mean</th>\n      <th>bureau_DAYS_CREDIT_UPDATE_max</th>\n      <th>bureau_DAYS_CREDIT_UPDATE_min</th>\n      <th>bureau_DAYS_CREDIT_UPDATE_sum</th>\n      <th>bureau_AMT_ANNUITY_count</th>\n      <th>bureau_AMT_ANNUITY_mean</th>\n      <th>bureau_AMT_ANNUITY_max</th>\n      <th>bureau_AMT_ANNUITY_min</th>\n      <th>bureau_AMT_ANNUITY_sum</th>\n    </tr>\n  </thead>\n  <tbody>\n    <tr>\n      <th>0</th>\n      <td>100001</td>\n      <td>7</td>\n      <td>-735.000000</td>\n      <td>-49</td>\n      <td>-1572</td>\n      <td>-5145</td>\n      <td>7</td>\n      <td>0.0</td>\n      <td>0</td>\n      <td>0</td>\n      <td>...</td>\n      <td>7</td>\n      <td>-93.142857</td>\n      <td>-6</td>\n      <td>-155</td>\n      <td>-652</td>\n      <td>7</td>\n      <td>3545.357143</td>\n      <td>10822.5</td>\n      <td>0.0</td>\n      <td>24817.5</td>\n    </tr>\n    <tr>\n      <th>1</th>\n      <td>100002</td>\n      <td>8</td>\n      <td>-874.000000</td>\n      <td>-103</td>\n      <td>-1437</td>\n      <td>-6992</td>\n      <td>8</td>\n      <td>0.0</td>\n      <td>0</td>\n      <td>0</td>\n      <td>...</td>\n      <td>8</td>\n      <td>-499.875000</td>\n      <td>-7</td>\n      <td>-1185</td>\n      <td>-3999</td>\n      <td>7</td>\n      <td>0.000000</td>\n      <td>0.0</td>\n      <td>0.0</td>\n      <td>0.0</td>\n    </tr>\n    <tr>\n      <th>2</th>\n      <td>100003</td>\n      <td>4</td>\n      <td>-1400.750000</td>\n      <td>-606</td>\n      <td>-2586</td>\n      <td>-5603</td>\n      <td>4</td>\n      <td>0.0</td>\n      <td>0</td>\n      <td>0</td>\n      <td>...</td>\n      <td>4</td>\n      <td>-816.000000</td>\n      <td>-43</td>\n      <td>-2131</td>\n      <td>-3264</td>\n      <td>0</td>\n      <td>NaN</td>\n      <td>NaN</td>\n      <td>NaN</td>\n      <td>0.0</td>\n    </tr>\n    <tr>\n      <th>3</th>\n      <td>100004</td>\n      <td>2</td>\n      <td>-867.000000</td>\n      <td>-408</td>\n      <td>-1326</td>\n      <td>-1734</td>\n      <td>2</td>\n      <td>0.0</td>\n      <td>0</td>\n      <td>0</td>\n      <td>...</td>\n      <td>2</td>\n      <td>-532.000000</td>\n      <td>-382</td>\n      <td>-682</td>\n      <td>-1064</td>\n      <td>0</td>\n      <td>NaN</td>\n      <td>NaN</td>\n      <td>NaN</td>\n      <td>0.0</td>\n    </tr>\n    <tr>\n      <th>4</th>\n      <td>100005</td>\n      <td>3</td>\n      <td>-190.666667</td>\n      <td>-62</td>\n      <td>-373</td>\n      <td>-572</td>\n      <td>3</td>\n      <td>0.0</td>\n      <td>0</td>\n      <td>0</td>\n      <td>...</td>\n      <td>3</td>\n      <td>-54.333333</td>\n      <td>-11</td>\n      <td>-121</td>\n      <td>-163</td>\n      <td>3</td>\n      <td>1420.500000</td>\n      <td>4261.5</td>\n      <td>0.0</td>\n      <td>4261.5</td>\n    </tr>\n  </tbody>\n</table>\n<p>5 rows × 61 columns</p>\n</div>"
     },
     "execution_count": 10,
     "metadata": {},
     "output_type": "execute_result"
    }
   ]
  },
  {
   "metadata": {
    "_uuid": "13c6a8b69a3bdbd1bf2d420d984f78400fc969d3"
   },
   "cell_type": "markdown",
   "source": [
    "Now we simply merge with the training data as we did before."
   ]
  },
  {
   "metadata": {
    "_uuid": "2da1e6aa5651f4567813896d79d2e087fd5e7749",
    "trusted": true
   },
   "cell_type": "code",
   "source": [
    "# Merge with the training data\n",
    "train = train.merge(bureau_agg, on='SK_ID_CURR', how='left')\n",
    "train.head()"
   ],
   "execution_count": 11,
   "outputs": [
    {
     "data": {
      "text/plain": "   SK_ID_CURR  TARGET NAME_CONTRACT_TYPE CODE_GENDER FLAG_OWN_CAR  \\\n0      100002       1         Cash loans           M            N   \n1      100003       0         Cash loans           F            N   \n2      100004       0    Revolving loans           M            Y   \n3      100006       0         Cash loans           F            N   \n4      100007       0         Cash loans           M            N   \n\n  FLAG_OWN_REALTY  CNT_CHILDREN  AMT_INCOME_TOTAL  AMT_CREDIT  AMT_ANNUITY  \\\n0               Y             0          202500.0    406597.5      24700.5   \n1               N             0          270000.0   1293502.5      35698.5   \n2               Y             0           67500.0    135000.0       6750.0   \n3               Y             0          135000.0    312682.5      29686.5   \n4               Y             0          121500.0    513000.0      21865.5   \n\n   ...  bureau_DAYS_CREDIT_UPDATE_count bureau_DAYS_CREDIT_UPDATE_mean  \\\n0  ...                              8.0                       -499.875   \n1  ...                              4.0                       -816.000   \n2  ...                              2.0                       -532.000   \n3  ...                              NaN                            NaN   \n4  ...                              1.0                       -783.000   \n\n  bureau_DAYS_CREDIT_UPDATE_max bureau_DAYS_CREDIT_UPDATE_min  \\\n0                          -7.0                       -1185.0   \n1                         -43.0                       -2131.0   \n2                        -382.0                        -682.0   \n3                           NaN                           NaN   \n4                        -783.0                        -783.0   \n\n  bureau_DAYS_CREDIT_UPDATE_sum bureau_AMT_ANNUITY_count  \\\n0                       -3999.0                      7.0   \n1                       -3264.0                      0.0   \n2                       -1064.0                      0.0   \n3                           NaN                      NaN   \n4                        -783.0                      0.0   \n\n   bureau_AMT_ANNUITY_mean  bureau_AMT_ANNUITY_max  bureau_AMT_ANNUITY_min  \\\n0                      0.0                     0.0                     0.0   \n1                      NaN                     NaN                     NaN   \n2                      NaN                     NaN                     NaN   \n3                      NaN                     NaN                     NaN   \n4                      NaN                     NaN                     NaN   \n\n   bureau_AMT_ANNUITY_sum  \n0                     0.0  \n1                     0.0  \n2                     0.0  \n3                     NaN  \n4                     0.0  \n\n[5 rows x 183 columns]",
      "text/html": "<div>\n<style scoped>\n    .dataframe tbody tr th:only-of-type {\n        vertical-align: middle;\n    }\n\n    .dataframe tbody tr th {\n        vertical-align: top;\n    }\n\n    .dataframe thead th {\n        text-align: right;\n    }\n</style>\n<table border=\"1\" class=\"dataframe\">\n  <thead>\n    <tr style=\"text-align: right;\">\n      <th></th>\n      <th>SK_ID_CURR</th>\n      <th>TARGET</th>\n      <th>NAME_CONTRACT_TYPE</th>\n      <th>CODE_GENDER</th>\n      <th>FLAG_OWN_CAR</th>\n      <th>FLAG_OWN_REALTY</th>\n      <th>CNT_CHILDREN</th>\n      <th>AMT_INCOME_TOTAL</th>\n      <th>AMT_CREDIT</th>\n      <th>AMT_ANNUITY</th>\n      <th>...</th>\n      <th>bureau_DAYS_CREDIT_UPDATE_count</th>\n      <th>bureau_DAYS_CREDIT_UPDATE_mean</th>\n      <th>bureau_DAYS_CREDIT_UPDATE_max</th>\n      <th>bureau_DAYS_CREDIT_UPDATE_min</th>\n      <th>bureau_DAYS_CREDIT_UPDATE_sum</th>\n      <th>bureau_AMT_ANNUITY_count</th>\n      <th>bureau_AMT_ANNUITY_mean</th>\n      <th>bureau_AMT_ANNUITY_max</th>\n      <th>bureau_AMT_ANNUITY_min</th>\n      <th>bureau_AMT_ANNUITY_sum</th>\n    </tr>\n  </thead>\n  <tbody>\n    <tr>\n      <th>0</th>\n      <td>100002</td>\n      <td>1</td>\n      <td>Cash loans</td>\n      <td>M</td>\n      <td>N</td>\n      <td>Y</td>\n      <td>0</td>\n      <td>202500.0</td>\n      <td>406597.5</td>\n      <td>24700.5</td>\n      <td>...</td>\n      <td>8.0</td>\n      <td>-499.875</td>\n      <td>-7.0</td>\n      <td>-1185.0</td>\n      <td>-3999.0</td>\n      <td>7.0</td>\n      <td>0.0</td>\n      <td>0.0</td>\n      <td>0.0</td>\n      <td>0.0</td>\n    </tr>\n    <tr>\n      <th>1</th>\n      <td>100003</td>\n      <td>0</td>\n      <td>Cash loans</td>\n      <td>F</td>\n      <td>N</td>\n      <td>N</td>\n      <td>0</td>\n      <td>270000.0</td>\n      <td>1293502.5</td>\n      <td>35698.5</td>\n      <td>...</td>\n      <td>4.0</td>\n      <td>-816.000</td>\n      <td>-43.0</td>\n      <td>-2131.0</td>\n      <td>-3264.0</td>\n      <td>0.0</td>\n      <td>NaN</td>\n      <td>NaN</td>\n      <td>NaN</td>\n      <td>0.0</td>\n    </tr>\n    <tr>\n      <th>2</th>\n      <td>100004</td>\n      <td>0</td>\n      <td>Revolving loans</td>\n      <td>M</td>\n      <td>Y</td>\n      <td>Y</td>\n      <td>0</td>\n      <td>67500.0</td>\n      <td>135000.0</td>\n      <td>6750.0</td>\n      <td>...</td>\n      <td>2.0</td>\n      <td>-532.000</td>\n      <td>-382.0</td>\n      <td>-682.0</td>\n      <td>-1064.0</td>\n      <td>0.0</td>\n      <td>NaN</td>\n      <td>NaN</td>\n      <td>NaN</td>\n      <td>0.0</td>\n    </tr>\n    <tr>\n      <th>3</th>\n      <td>100006</td>\n      <td>0</td>\n      <td>Cash loans</td>\n      <td>F</td>\n      <td>N</td>\n      <td>Y</td>\n      <td>0</td>\n      <td>135000.0</td>\n      <td>312682.5</td>\n      <td>29686.5</td>\n      <td>...</td>\n      <td>NaN</td>\n      <td>NaN</td>\n      <td>NaN</td>\n      <td>NaN</td>\n      <td>NaN</td>\n      <td>NaN</td>\n      <td>NaN</td>\n      <td>NaN</td>\n      <td>NaN</td>\n      <td>NaN</td>\n    </tr>\n    <tr>\n      <th>4</th>\n      <td>100007</td>\n      <td>0</td>\n      <td>Cash loans</td>\n      <td>M</td>\n      <td>N</td>\n      <td>Y</td>\n      <td>0</td>\n      <td>121500.0</td>\n      <td>513000.0</td>\n      <td>21865.5</td>\n      <td>...</td>\n      <td>1.0</td>\n      <td>-783.000</td>\n      <td>-783.0</td>\n      <td>-783.0</td>\n      <td>-783.0</td>\n      <td>0.0</td>\n      <td>NaN</td>\n      <td>NaN</td>\n      <td>NaN</td>\n      <td>0.0</td>\n    </tr>\n  </tbody>\n</table>\n<p>5 rows × 183 columns</p>\n</div>"
     },
     "execution_count": 11,
     "metadata": {},
     "output_type": "execute_result"
    }
   ]
  },
  {
   "metadata": {
    "_uuid": "290cf9aaa44d462f0f987ef35bb22b0010bd01a0"
   },
   "cell_type": "markdown",
   "source": [
    "### Correlations of Aggregated Values with Target\n",
    "\n",
    "We can calculate the correlation of all new values with the target. Again, we can use these as an approximation of the variables which may be important for modeling. "
   ]
  },
  {
   "metadata": {
    "_uuid": "8cf94533bb8df06623f70d0cb01c24156f8af689",
    "trusted": true,
    "collapsed": true
   },
   "cell_type": "code",
   "source": [
    "# List of new correlations\n",
    "new_corrs = []\n",
    "\n",
    "# Iterate through the columns \n",
    "for col in columns:\n",
    "    # Calculate correlation with the target\n",
    "    corr = train['TARGET'].corr(train[col])\n",
    "\n",
    "    # Append the list as a tuple\n",
    "\n",
    "    new_corrs.append((col, corr))"
   ],
   "execution_count": 12,
   "outputs": []
  },
  {
   "metadata": {
    "_uuid": "774fe7e4c3e2708de823d3f94f65137b56bc2c2a"
   },
   "cell_type": "markdown",
   "source": [
    "In the code below, we sort the correlations by the magnitude (absolute value) using the `sorted` Python function. We also make use of an anonymous `lambda` function, another important Python operation that is good to know. "
   ]
  },
  {
   "metadata": {
    "_uuid": "2802a2568214396e919837353683c63867d38a17",
    "trusted": true
   },
   "cell_type": "code",
   "source": [
    "# Sort the correlations by the absolute value\n",
    "# Make sure to reverse to put the largest values at the front of list\n",
    "new_corrs = sorted(new_corrs, key=lambda x: abs(x[1]), reverse=True)\n",
    "new_corrs[:15]"
   ],
   "execution_count": 13,
   "outputs": [
    {
     "data": {
      "text/plain": "[('bureau_DAYS_CREDIT_mean', 0.089728967219981),\n ('bureau_DAYS_CREDIT_min', 0.07524825103010374),\n ('bureau_DAYS_CREDIT_UPDATE_mean', 0.06892735266968684),\n ('bureau_DAYS_ENDDATE_FACT_min', 0.055887379843920795),\n ('bureau_DAYS_CREDIT_ENDDATE_sum', 0.053734895601020585),\n ('bureau_DAYS_ENDDATE_FACT_mean', 0.05319962585758622),\n ('bureau_DAYS_CREDIT_max', 0.04978205463997309),\n ('bureau_DAYS_ENDDATE_FACT_sum', 0.048853502611115936),\n ('bureau_DAYS_CREDIT_ENDDATE_mean', 0.04698275433483553),\n ('bureau_DAYS_CREDIT_UPDATE_min', 0.04286392247073023),\n ('bureau_DAYS_CREDIT_sum', 0.04199982481484667),\n ('bureau_DAYS_CREDIT_UPDATE_sum', 0.0414036353530601),\n ('bureau_DAYS_CREDIT_ENDDATE_max', 0.03658963469632898),\n ('bureau_DAYS_CREDIT_ENDDATE_min', 0.034281109921615996),\n ('bureau_DAYS_ENDDATE_FACT_count', -0.03049230665332547)]"
     },
     "execution_count": 13,
     "metadata": {},
     "output_type": "execute_result"
    }
   ]
  },
  {
   "metadata": {
    "_uuid": "581f41a665ed3b23d8b28a6e3050a11bc8a68dcf"
   },
   "cell_type": "markdown",
   "source": [
    "None of the new variables have a significant correlation with the TARGET. We can look at the KDE plot of the highest correlated variable, `bureau_DAYS_CREDIT_mean`, with the target in  in terms of absolute magnitude correlation. "
   ]
  },
  {
   "metadata": {
    "_uuid": "be155ee8fd05290d11a205b95f4b553b8ade06e3",
    "trusted": true
   },
   "cell_type": "code",
   "source": [
    "kde_target('bureau_DAYS_CREDIT_mean', train)"
   ],
   "execution_count": 14,
   "outputs": [
    {
     "name": "stdout",
     "output_type": "stream",
     "text": [
      "The correlation between bureau_DAYS_CREDIT_mean and the TARGET is 0.0897\n",
      "Median value for loan that was not repaid = -835.3333\n",
      "Median value for loan that was repaid =     -1067.0000\n"
     ]
    },
    {
     "data": {
      "text/plain": "<Figure size 864x432 with 1 Axes>",
      "image/png": "[encoded data removed]"
     },
     "metadata": {},
     "output_type": "display_data"
    }
   ]
  },
  {
   "metadata": {
    "_uuid": "58ca4b2852b486fa10e1bf31c2a7e61e9de52dd7"
   },
   "cell_type": "markdown",
   "source": [
    "The definition of this column is: \"How many days before current application did client apply for Credit Bureau credit\". My interpretation is this is the number of days that the previous loan was applied for before the application for a loan at Home Credit. Therefore, a larger negative number indicates the loan was further before the current loan application. We see an extremely weak positive relationship between the average of this variable and the target meaning that clients who applied for loans further in the past potentially are more likely to repay loans at Home Credit. With a correlation this weak though, it is just as likely to be noise as a signal. \n",
    "\n",
    "#### The Multiple Comparisons Problem\n",
    "\n",
    "When we have lots of variables, we expect some of them to be correlated just by pure chance, a [problem known as multiple comparisons](https://towardsdatascience.com/the-multiple-comparisons-problem-e5573e8b9578). We can make hundreds of features, and some will turn out to be corelated with the target simply because of random noise in the data. Then, when our model trains, it may overfit to these variables because it thinks they have a relationship with the target in the training set, but this does not necessarily generalize to the test set. There are many considerations that we have to take into account when making features! "
   ]
  },
  {
   "metadata": {
    "_uuid": "645ab51cb64cd20f122d61e17ef8ad1ed78443cc"
   },
   "cell_type": "markdown",
   "source": [
    "## Function for Numeric Aggregations\n",
    "\n",
    "Let's encapsulate all of the previous work into a function. This will allow us to compute aggregate stats for numeric columns across any dataframe. We will re-use this function when we want to apply the same operations for other dataframes."
   ]
  },
  {
   "metadata": {
    "_uuid": "8203852b47164d7800f69e572dda2cbe83c50976",
    "collapsed": true,
    "trusted": true
   },
   "cell_type": "code",
   "source": [
    "def agg_numeric(df, group_var, df_name):\n",
    "    \"\"\"Aggregates the numeric values in a dataframe. This can\n",
    "    be used to create features for each instance of the grouping variable.\n",
    "    \n",
    "    Parameters\n",
    "    --------\n",
    "        df (dataframe): \n",
    "            the dataframe to calculate the statistics on\n",
    "        group_var (string): \n",
    "            the variable by which to group df\n",
    "        df_name (string): \n",
    "            the variable used to rename the columns\n",
    "        \n",
    "    Return\n",
    "    --------\n",
    "        agg (dataframe): \n",
    "            a dataframe with the statistics aggregated for \n",
    "            all numeric columns. Each instance of the grouping variable will have \n",
    "            the statistics (mean, min, max, sum; currently supported) calculated. \n",
    "            The columns are also renamed to keep track of features created.\n",
    "    \n",
    "    \"\"\"\n",
    "    # Remove id variables other than grouping variable\n",
    "    for col in df:\n",
    "        if col != group_var and 'SK_ID' in col:\n",
    "            df = df.drop(columns=col)\n",
    "\n",
    "    group_ids = df[group_var]\n",
    "    numeric_df = df.select_dtypes('number')\n",
    "    numeric_df[group_var] = group_ids\n",
    "\n",
    "    # Group by the specified variable and calculate the statistics\n",
    "    agg = numeric_df.groupby(group_var).agg(['count', 'mean', 'max', 'min', 'sum']).reset_index()\n",
    "\n",
    "    # Need to create new column names\n",
    "    columns = [group_var]\n",
    "\n",
    "    # Iterate through the variables names\n",
    "    for var in agg.columns.levels[0]:\n",
    "        # Skip the grouping variable\n",
    "        if var != group_var:\n",
    "            # Iterate through the stat names\n",
    "            for stat in agg.columns.levels[1][:-1]:\n",
    "                # Make a new column name for the variable and stat\n",
    "                columns.append('%s_%s_%s' % (df_name, var, stat))\n",
    "\n",
    "    agg.columns = columns\n",
    "    return agg"
   ],
   "execution_count": 15,
   "outputs": []
  },
  {
   "metadata": {
    "_uuid": "2784423d6e900b66f108cb2e6a425d63eb28743e",
    "trusted": true
   },
   "cell_type": "code",
   "source": [
    "bureau_agg_new = agg_numeric(bureau.drop(columns=['SK_ID_BUREAU']), group_var='SK_ID_CURR', df_name='bureau')\n",
    "bureau_agg_new.head()"
   ],
   "execution_count": 16,
   "outputs": [
    {
     "data": {
      "text/plain": "   SK_ID_CURR  bureau_DAYS_CREDIT_count  bureau_DAYS_CREDIT_mean  \\\n0      100001                         7              -735.000000   \n1      100002                         8              -874.000000   \n2      100003                         4             -1400.750000   \n3      100004                         2              -867.000000   \n4      100005                         3              -190.666667   \n\n   bureau_DAYS_CREDIT_max  bureau_DAYS_CREDIT_min  bureau_DAYS_CREDIT_sum  \\\n0                     -49                   -1572                   -5145   \n1                    -103                   -1437                   -6992   \n2                    -606                   -2586                   -5603   \n3                    -408                   -1326                   -1734   \n4                     -62                    -373                    -572   \n\n   bureau_CREDIT_DAY_OVERDUE_count  bureau_CREDIT_DAY_OVERDUE_mean  \\\n0                                7                             0.0   \n1                                8                             0.0   \n2                                4                             0.0   \n3                                2                             0.0   \n4                                3                             0.0   \n\n   bureau_CREDIT_DAY_OVERDUE_max  bureau_CREDIT_DAY_OVERDUE_min  ...  \\\n0                              0                              0  ...   \n1                              0                              0  ...   \n2                              0                              0  ...   \n3                              0                              0  ...   \n4                              0                              0  ...   \n\n   bureau_DAYS_CREDIT_UPDATE_count  bureau_DAYS_CREDIT_UPDATE_mean  \\\n0                                7                      -93.142857   \n1                                8                     -499.875000   \n2                                4                     -816.000000   \n3                                2                     -532.000000   \n4                                3                      -54.333333   \n\n   bureau_DAYS_CREDIT_UPDATE_max  bureau_DAYS_CREDIT_UPDATE_min  \\\n0                             -6                           -155   \n1                             -7                          -1185   \n2                            -43                          -2131   \n3                           -382                           -682   \n4                            -11                           -121   \n\n   bureau_DAYS_CREDIT_UPDATE_sum  bureau_AMT_ANNUITY_count  \\\n0                           -652                         7   \n1                          -3999                         7   \n2                          -3264                         0   \n3                          -1064                         0   \n4                           -163                         3   \n\n   bureau_AMT_ANNUITY_mean  bureau_AMT_ANNUITY_max  bureau_AMT_ANNUITY_min  \\\n0              3545.357143                 10822.5                     0.0   \n1                 0.000000                     0.0                     0.0   \n2                      NaN                     NaN                     NaN   \n3                      NaN                     NaN                     NaN   \n4              1420.500000                  4261.5                     0.0   \n\n   bureau_AMT_ANNUITY_sum  \n0                 24817.5  \n1                     0.0  \n2                     0.0  \n3                     0.0  \n4                  4261.5  \n\n[5 rows x 61 columns]",
      "text/html": "<div>\n<style scoped>\n    .dataframe tbody tr th:only-of-type {\n        vertical-align: middle;\n    }\n\n    .dataframe tbody tr th {\n        vertical-align: top;\n    }\n\n    .dataframe thead th {\n        text-align: right;\n    }\n</style>\n<table border=\"1\" class=\"dataframe\">\n  <thead>\n    <tr style=\"text-align: right;\">\n      <th></th>\n      <th>SK_ID_CURR</th>\n      <th>bureau_DAYS_CREDIT_count</th>\n      <th>bureau_DAYS_CREDIT_mean</th>\n      <th>bureau_DAYS_CREDIT_max</th>\n      <th>bureau_DAYS_CREDIT_min</th>\n      <th>bureau_DAYS_CREDIT_sum</th>\n      <th>bureau_CREDIT_DAY_OVERDUE_count</th>\n      <th>bureau_CREDIT_DAY_OVERDUE_mean</th>\n      <th>bureau_CREDIT_DAY_OVERDUE_max</th>\n      <th>bureau_CREDIT_DAY_OVERDUE_min</th>\n      <th>...</th>\n      <th>bureau_DAYS_CREDIT_UPDATE_count</th>\n      <th>bureau_DAYS_CREDIT_UPDATE_mean</th>\n      <th>bureau_DAYS_CREDIT_UPDATE_max</th>\n      <th>bureau_DAYS_CREDIT_UPDATE_min</th>\n      <th>bureau_DAYS_CREDIT_UPDATE_sum</th>\n      <th>bureau_AMT_ANNUITY_count</th>\n      <th>bureau_AMT_ANNUITY_mean</th>\n      <th>bureau_AMT_ANNUITY_max</th>\n      <th>bureau_AMT_ANNUITY_min</th>\n      <th>bureau_AMT_ANNUITY_sum</th>\n    </tr>\n  </thead>\n  <tbody>\n    <tr>\n      <th>0</th>\n      <td>100001</td>\n      <td>7</td>\n      <td>-735.000000</td>\n      <td>-49</td>\n      <td>-1572</td>\n      <td>-5145</td>\n      <td>7</td>\n      <td>0.0</td>\n      <td>0</td>\n      <td>0</td>\n      <td>...</td>\n      <td>7</td>\n      <td>-93.142857</td>\n      <td>-6</td>\n      <td>-155</td>\n      <td>-652</td>\n      <td>7</td>\n      <td>3545.357143</td>\n      <td>10822.5</td>\n      <td>0.0</td>\n      <td>24817.5</td>\n    </tr>\n    <tr>\n      <th>1</th>\n      <td>100002</td>\n      <td>8</td>\n      <td>-874.000000</td>\n      <td>-103</td>\n      <td>-1437</td>\n      <td>-6992</td>\n      <td>8</td>\n      <td>0.0</td>\n      <td>0</td>\n      <td>0</td>\n      <td>...</td>\n      <td>8</td>\n      <td>-499.875000</td>\n      <td>-7</td>\n      <td>-1185</td>\n      <td>-3999</td>\n      <td>7</td>\n      <td>0.000000</td>\n      <td>0.0</td>\n      <td>0.0</td>\n      <td>0.0</td>\n    </tr>\n    <tr>\n      <th>2</th>\n      <td>100003</td>\n      <td>4</td>\n      <td>-1400.750000</td>\n      <td>-606</td>\n      <td>-2586</td>\n      <td>-5603</td>\n      <td>4</td>\n      <td>0.0</td>\n      <td>0</td>\n      <td>0</td>\n      <td>...</td>\n      <td>4</td>\n      <td>-816.000000</td>\n      <td>-43</td>\n      <td>-2131</td>\n      <td>-3264</td>\n      <td>0</td>\n      <td>NaN</td>\n      <td>NaN</td>\n      <td>NaN</td>\n      <td>0.0</td>\n    </tr>\n    <tr>\n      <th>3</th>\n      <td>100004</td>\n      <td>2</td>\n      <td>-867.000000</td>\n      <td>-408</td>\n      <td>-1326</td>\n      <td>-1734</td>\n      <td>2</td>\n      <td>0.0</td>\n      <td>0</td>\n      <td>0</td>\n      <td>...</td>\n      <td>2</td>\n      <td>-532.000000</td>\n      <td>-382</td>\n      <td>-682</td>\n      <td>-1064</td>\n      <td>0</td>\n      <td>NaN</td>\n      <td>NaN</td>\n      <td>NaN</td>\n      <td>0.0</td>\n    </tr>\n    <tr>\n      <th>4</th>\n      <td>100005</td>\n      <td>3</td>\n      <td>-190.666667</td>\n      <td>-62</td>\n      <td>-373</td>\n      <td>-572</td>\n      <td>3</td>\n      <td>0.0</td>\n      <td>0</td>\n      <td>0</td>\n      <td>...</td>\n      <td>3</td>\n      <td>-54.333333</td>\n      <td>-11</td>\n      <td>-121</td>\n      <td>-163</td>\n      <td>3</td>\n      <td>1420.500000</td>\n      <td>4261.5</td>\n      <td>0.0</td>\n      <td>4261.5</td>\n    </tr>\n  </tbody>\n</table>\n<p>5 rows × 61 columns</p>\n</div>"
     },
     "execution_count": 16,
     "metadata": {},
     "output_type": "execute_result"
    }
   ]
  },
  {
   "metadata": {
    "_uuid": "171660155dd332d9df85f61fdd7004a9f2593e59"
   },
   "cell_type": "markdown",
   "source": [
    "To make sure the function worked as intended, we should compare with the aggregated dataframe we constructed by hand. "
   ]
  },
  {
   "metadata": {
    "_uuid": "57dab1b1b23d0bd0167c9367688b56b43066a721",
    "trusted": true
   },
   "cell_type": "code",
   "source": [
    "bureau_agg.head()"
   ],
   "execution_count": 17,
   "outputs": [
    {
     "data": {
      "text/plain": "   SK_ID_CURR  bureau_DAYS_CREDIT_count  bureau_DAYS_CREDIT_mean  \\\n0      100001                         7              -735.000000   \n1      100002                         8              -874.000000   \n2      100003                         4             -1400.750000   \n3      100004                         2              -867.000000   \n4      100005                         3              -190.666667   \n\n   bureau_DAYS_CREDIT_max  bureau_DAYS_CREDIT_min  bureau_DAYS_CREDIT_sum  \\\n0                     -49                   -1572                   -5145   \n1                    -103                   -1437                   -6992   \n2                    -606                   -2586                   -5603   \n3                    -408                   -1326                   -1734   \n4                     -62                    -373                    -572   \n\n   bureau_CREDIT_DAY_OVERDUE_count  bureau_CREDIT_DAY_OVERDUE_mean  \\\n0                                7                             0.0   \n1                                8                             0.0   \n2                                4                             0.0   \n3                                2                             0.0   \n4                                3                             0.0   \n\n   bureau_CREDIT_DAY_OVERDUE_max  bureau_CREDIT_DAY_OVERDUE_min  ...  \\\n0                              0                              0  ...   \n1                              0                              0  ...   \n2                              0                              0  ...   \n3                              0                              0  ...   \n4                              0                              0  ...   \n\n   bureau_DAYS_CREDIT_UPDATE_count  bureau_DAYS_CREDIT_UPDATE_mean  \\\n0                                7                      -93.142857   \n1                                8                     -499.875000   \n2                                4                     -816.000000   \n3                                2                     -532.000000   \n4                                3                      -54.333333   \n\n   bureau_DAYS_CREDIT_UPDATE_max  bureau_DAYS_CREDIT_UPDATE_min  \\\n0                             -6                           -155   \n1                             -7                          -1185   \n2                            -43                          -2131   \n3                           -382                           -682   \n4                            -11                           -121   \n\n   bureau_DAYS_CREDIT_UPDATE_sum  bureau_AMT_ANNUITY_count  \\\n0                           -652                         7   \n1                          -3999                         7   \n2                          -3264                         0   \n3                          -1064                         0   \n4                           -163                         3   \n\n   bureau_AMT_ANNUITY_mean  bureau_AMT_ANNUITY_max  bureau_AMT_ANNUITY_min  \\\n0              3545.357143                 10822.5                     0.0   \n1                 0.000000                     0.0                     0.0   \n2                      NaN                     NaN                     NaN   \n3                      NaN                     NaN                     NaN   \n4              1420.500000                  4261.5                     0.0   \n\n   bureau_AMT_ANNUITY_sum  \n0                 24817.5  \n1                     0.0  \n2                     0.0  \n3                     0.0  \n4                  4261.5  \n\n[5 rows x 61 columns]",
      "text/html": "<div>\n<style scoped>\n    .dataframe tbody tr th:only-of-type {\n        vertical-align: middle;\n    }\n\n    .dataframe tbody tr th {\n        vertical-align: top;\n    }\n\n    .dataframe thead th {\n        text-align: right;\n    }\n</style>\n<table border=\"1\" class=\"dataframe\">\n  <thead>\n    <tr style=\"text-align: right;\">\n      <th></th>\n      <th>SK_ID_CURR</th>\n      <th>bureau_DAYS_CREDIT_count</th>\n      <th>bureau_DAYS_CREDIT_mean</th>\n      <th>bureau_DAYS_CREDIT_max</th>\n      <th>bureau_DAYS_CREDIT_min</th>\n      <th>bureau_DAYS_CREDIT_sum</th>\n      <th>bureau_CREDIT_DAY_OVERDUE_count</th>\n      <th>bureau_CREDIT_DAY_OVERDUE_mean</th>\n      <th>bureau_CREDIT_DAY_OVERDUE_max</th>\n      <th>bureau_CREDIT_DAY_OVERDUE_min</th>\n      <th>...</th>\n      <th>bureau_DAYS_CREDIT_UPDATE_count</th>\n      <th>bureau_DAYS_CREDIT_UPDATE_mean</th>\n      <th>bureau_DAYS_CREDIT_UPDATE_max</th>\n      <th>bureau_DAYS_CREDIT_UPDATE_min</th>\n      <th>bureau_DAYS_CREDIT_UPDATE_sum</th>\n      <th>bureau_AMT_ANNUITY_count</th>\n      <th>bureau_AMT_ANNUITY_mean</th>\n      <th>bureau_AMT_ANNUITY_max</th>\n      <th>bureau_AMT_ANNUITY_min</th>\n      <th>bureau_AMT_ANNUITY_sum</th>\n    </tr>\n  </thead>\n  <tbody>\n    <tr>\n      <th>0</th>\n      <td>100001</td>\n      <td>7</td>\n      <td>-735.000000</td>\n      <td>-49</td>\n      <td>-1572</td>\n      <td>-5145</td>\n      <td>7</td>\n      <td>0.0</td>\n      <td>0</td>\n      <td>0</td>\n      <td>...</td>\n      <td>7</td>\n      <td>-93.142857</td>\n      <td>-6</td>\n      <td>-155</td>\n      <td>-652</td>\n      <td>7</td>\n      <td>3545.357143</td>\n      <td>10822.5</td>\n      <td>0.0</td>\n      <td>24817.5</td>\n    </tr>\n    <tr>\n      <th>1</th>\n      <td>100002</td>\n      <td>8</td>\n      <td>-874.000000</td>\n      <td>-103</td>\n      <td>-1437</td>\n      <td>-6992</td>\n      <td>8</td>\n      <td>0.0</td>\n      <td>0</td>\n      <td>0</td>\n      <td>...</td>\n      <td>8</td>\n      <td>-499.875000</td>\n      <td>-7</td>\n      <td>-1185</td>\n      <td>-3999</td>\n      <td>7</td>\n      <td>0.000000</td>\n      <td>0.0</td>\n      <td>0.0</td>\n      <td>0.0</td>\n    </tr>\n    <tr>\n      <th>2</th>\n      <td>100003</td>\n      <td>4</td>\n      <td>-1400.750000</td>\n      <td>-606</td>\n      <td>-2586</td>\n      <td>-5603</td>\n      <td>4</td>\n      <td>0.0</td>\n      <td>0</td>\n      <td>0</td>\n      <td>...</td>\n      <td>4</td>\n      <td>-816.000000</td>\n      <td>-43</td>\n      <td>-2131</td>\n      <td>-3264</td>\n      <td>0</td>\n      <td>NaN</td>\n      <td>NaN</td>\n      <td>NaN</td>\n      <td>0.0</td>\n    </tr>\n    <tr>\n      <th>3</th>\n      <td>100004</td>\n      <td>2</td>\n      <td>-867.000000</td>\n      <td>-408</td>\n      <td>-1326</td>\n      <td>-1734</td>\n      <td>2</td>\n      <td>0.0</td>\n      <td>0</td>\n      <td>0</td>\n      <td>...</td>\n      <td>2</td>\n      <td>-532.000000</td>\n      <td>-382</td>\n      <td>-682</td>\n      <td>-1064</td>\n      <td>0</td>\n      <td>NaN</td>\n      <td>NaN</td>\n      <td>NaN</td>\n      <td>0.0</td>\n    </tr>\n    <tr>\n      <th>4</th>\n      <td>100005</td>\n      <td>3</td>\n      <td>-190.666667</td>\n      <td>-62</td>\n      <td>-373</td>\n      <td>-572</td>\n      <td>3</td>\n      <td>0.0</td>\n      <td>0</td>\n      <td>0</td>\n      <td>...</td>\n      <td>3</td>\n      <td>-54.333333</td>\n      <td>-11</td>\n      <td>-121</td>\n      <td>-163</td>\n      <td>3</td>\n      <td>1420.500000</td>\n      <td>4261.5</td>\n      <td>0.0</td>\n      <td>4261.5</td>\n    </tr>\n  </tbody>\n</table>\n<p>5 rows × 61 columns</p>\n</div>"
     },
     "execution_count": 17,
     "metadata": {},
     "output_type": "execute_result"
    }
   ]
  },
  {
   "metadata": {
    "_uuid": "af5a3d2ebc6850707c0bb021bc08df50b98d008b"
   },
   "cell_type": "markdown",
   "source": [
    "If we go through and inspect the values, we do find that they are equivalent. We will be able to reuse this function for calculating numeric stats for other dataframes. Using functions allows for consistent results and decreases the amount of work we have to do in the future! \n",
    "\n",
    "### Correlation Function\n",
    "\n",
    "Before we move on, we can also make the code to calculate correlations with the target into a function."
   ]
  },
  {
   "metadata": {
    "_uuid": "f55cdb9e28c9fcdb16b7922ce90c99ddda590e67",
    "collapsed": true,
    "trusted": true
   },
   "cell_type": "code",
   "source": [
    "# Function to calculate correlations with the target for a dataframe\n",
    "def target_corrs(df):\n",
    "    # List of correlations\n",
    "    corrs = []\n",
    "\n",
    "    # Iterate through the columns \n",
    "    for col in df.columns:\n",
    "        print(col)\n",
    "        # Skip the target column\n",
    "        if col != 'TARGET':\n",
    "            # Calculate correlation with the target\n",
    "            corr = df['TARGET'].corr(df[col])\n",
    "\n",
    "            # Append the list as a tuple\n",
    "            corrs.append((col, corr))\n",
    "\n",
    "    # Sort by absolute magnitude of correlations\n",
    "    corrs = sorted(corrs, key=lambda x: abs(x[1]), reverse=True)\n",
    "\n",
    "    return corrs"
   ],
   "execution_count": 18,
   "outputs": []
  },
  {
   "metadata": {
    "_uuid": "a86ad170924ebf66122d24083679d2a061a080ff"
   },
   "cell_type": "markdown",
   "source": [
    "## Categorical Variables\n",
    "\n",
    "Now we move from the numeric columns to the categorical columns. These are discrete string variables, so we cannot just calculate statistics such as mean \n",
    "and max which only work with numeric variables. Instead, we will rely on calculating value counts of each category within each categorical variable. As an example, if we have the following dataframe:\n",
    "\n",
    "| SK_ID_CURR | Loan type |\n",
    "|------------|-----------|\n",
    "| 1          | home      |\n",
    "| 1          | home      |\n",
    "| 1          | home      |\n",
    "| 1          | credit    |\n",
    "| 2          | credit    |\n",
    "| 3          | credit    |\n",
    "| 3          | cash      |\n",
    "| 3          | cash      |\n",
    "| 4          | credit    |\n",
    "| 4          | home      |\n",
    "| 4          | home      |\n",
    "\n",
    "we will use this information counting the number of loans in each category for each client. \n",
    "\n",
    "| SK_ID_CURR | credit count | cash count | home count | total count |\n",
    "|------------|--------------|------------|------------|-------------|\n",
    "| 1          | 1            | 0          | 3          | 4           |\n",
    "| 2          | 1            | 0          | 0          | 1           |\n",
    "| 3          | 1            | 2          | 0          | 3           |\n",
    "| 4          | 1            | 0          | 2          | 3           |\n",
    "\n",
    "\n",
    "Then we can normalize these value counts by the total number of occurences of that categorical variable for that observation (meaning that the normalized counts must sum to 1.0 for each observation).\n",
    "\n",
    "| SK_ID_CURR | credit count | cash count | home count | total count | credit count norm | cash count norm | home count norm |\n",
    "|------------|--------------|------------|------------|-------------|-------------------|-----------------|-----------------|\n",
    "| 1          | 1            | 0          | 3          | 4           | 0.25              | 0               | 0.75            |\n",
    "| 2          | 1            | 0          | 0          | 1           | 1.00              | 0               | 0               |\n",
    "| 3          | 1            | 2          | 0          | 3           | 0.33              | 0.66            | 0               |\n",
    "| 4          | 1            | 0          | 2          | 3           | 0.33              | 0               | 0.66            |\n",
    "\n",
    "Hopefully, encoding the categorical variables this way will allow us to capture the information they contain. If anyone has a better idea for this process, please let me know in the comments!\n",
    "We will now go through this process step-by-step. At the end, we will wrap up all the code into one function to be re-used for many dataframes."
   ]
  },
  {
   "metadata": {
    "_uuid": "3a8c1a8a74741d727a17ec0e83c237abb931e89e"
   },
   "cell_type": "markdown",
   "source": [
    "First we one-hot encode a dataframe with only the categorical columns (`dtype == 'object'`)."
   ]
  },
  {
   "metadata": {
    "trusted": true,
    "_uuid": "cd9fee51331a8181b29867d04b568336aa2bd445"
   },
   "cell_type": "code",
   "source": [
    "categorical = pd.get_dummies(bureau.select_dtypes('object'))\n",
    "categorical['SK_ID_CURR'] = bureau['SK_ID_CURR']\n",
    "categorical.head()"
   ],
   "execution_count": 19,
   "outputs": [
    {
     "data": {
      "text/plain": "   CREDIT_ACTIVE_Active  CREDIT_ACTIVE_Bad debt  CREDIT_ACTIVE_Closed  \\\n0                     0                       0                     1   \n1                     1                       0                     0   \n2                     1                       0                     0   \n3                     1                       0                     0   \n4                     1                       0                     0   \n\n   CREDIT_ACTIVE_Sold  CREDIT_CURRENCY_currency 1  CREDIT_CURRENCY_currency 2  \\\n0                   0                           1                           0   \n1                   0                           1                           0   \n2                   0                           1                           0   \n3                   0                           1                           0   \n4                   0                           1                           0   \n\n   CREDIT_CURRENCY_currency 3  CREDIT_CURRENCY_currency 4  \\\n0                           0                           0   \n1                           0                           0   \n2                           0                           0   \n3                           0                           0   \n4                           0                           0   \n\n   CREDIT_TYPE_Another type of loan  CREDIT_TYPE_Car loan  ...  \\\n0                                 0                     0  ...   \n1                                 0                     0  ...   \n2                                 0                     0  ...   \n3                                 0                     0  ...   \n4                                 0                     0  ...   \n\n   CREDIT_TYPE_Loan for business development  \\\n0                                          0   \n1                                          0   \n2                                          0   \n3                                          0   \n4                                          0   \n\n   CREDIT_TYPE_Loan for purchase of shares (margin lending)  \\\n0                                                  0          \n1                                                  0          \n2                                                  0          \n3                                                  0          \n4                                                  0          \n\n   CREDIT_TYPE_Loan for the purchase of equipment  \\\n0                                               0   \n1                                               0   \n2                                               0   \n3                                               0   \n4                                               0   \n\n   CREDIT_TYPE_Loan for working capital replenishment  CREDIT_TYPE_Microloan  \\\n0                                                  0                       0   \n1                                                  0                       0   \n2                                                  0                       0   \n3                                                  0                       0   \n4                                                  0                       0   \n\n   CREDIT_TYPE_Mobile operator loan  CREDIT_TYPE_Mortgage  \\\n0                                 0                     0   \n1                                 0                     0   \n2                                 0                     0   \n3                                 0                     0   \n4                                 0                     0   \n\n   CREDIT_TYPE_Real estate loan  CREDIT_TYPE_Unknown type of loan  SK_ID_CURR  \n0                             0                                 0      215354  \n1                             0                                 0      215354  \n2                             0                                 0      215354  \n3                             0                                 0      215354  \n4                             0                                 0      215354  \n\n[5 rows x 24 columns]",
      "text/html": "<div>\n<style scoped>\n    .dataframe tbody tr th:only-of-type {\n        vertical-align: middle;\n    }\n\n    .dataframe tbody tr th {\n        vertical-align: top;\n    }\n\n    .dataframe thead th {\n        text-align: right;\n    }\n</style>\n<table border=\"1\" class=\"dataframe\">\n  <thead>\n    <tr style=\"text-align: right;\">\n      <th></th>\n      <th>CREDIT_ACTIVE_Active</th>\n      <th>CREDIT_ACTIVE_Bad debt</th>\n      <th>CREDIT_ACTIVE_Closed</th>\n      <th>CREDIT_ACTIVE_Sold</th>\n      <th>CREDIT_CURRENCY_currency 1</th>\n      <th>CREDIT_CURRENCY_currency 2</th>\n      <th>CREDIT_CURRENCY_currency 3</th>\n      <th>CREDIT_CURRENCY_currency 4</th>\n      <th>CREDIT_TYPE_Another type of loan</th>\n      <th>CREDIT_TYPE_Car loan</th>\n      <th>...</th>\n      <th>CREDIT_TYPE_Loan for business development</th>\n      <th>CREDIT_TYPE_Loan for purchase of shares (margin lending)</th>\n      <th>CREDIT_TYPE_Loan for the purchase of equipment</th>\n      <th>CREDIT_TYPE_Loan for working capital replenishment</th>\n      <th>CREDIT_TYPE_Microloan</th>\n      <th>CREDIT_TYPE_Mobile operator loan</th>\n      <th>CREDIT_TYPE_Mortgage</th>\n      <th>CREDIT_TYPE_Real estate loan</th>\n      <th>CREDIT_TYPE_Unknown type of loan</th>\n      <th>SK_ID_CURR</th>\n    </tr>\n  </thead>\n  <tbody>\n    <tr>\n      <th>0</th>\n      <td>0</td>\n      <td>0</td>\n      <td>1</td>\n      <td>0</td>\n      <td>1</td>\n      <td>0</td>\n      <td>0</td>\n      <td>0</td>\n      <td>0</td>\n      <td>0</td>\n      <td>...</td>\n      <td>0</td>\n      <td>0</td>\n      <td>0</td>\n      <td>0</td>\n      <td>0</td>\n      <td>0</td>\n      <td>0</td>\n      <td>0</td>\n      <td>0</td>\n      <td>215354</td>\n    </tr>\n    <tr>\n      <th>1</th>\n      <td>1</td>\n      <td>0</td>\n      <td>0</td>\n      <td>0</td>\n      <td>1</td>\n      <td>0</td>\n      <td>0</td>\n      <td>0</td>\n      <td>0</td>\n      <td>0</td>\n      <td>...</td>\n      <td>0</td>\n      <td>0</td>\n      <td>0</td>\n      <td>0</td>\n      <td>0</td>\n      <td>0</td>\n      <td>0</td>\n      <td>0</td>\n      <td>0</td>\n      <td>215354</td>\n    </tr>\n    <tr>\n      <th>2</th>\n      <td>1</td>\n      <td>0</td>\n      <td>0</td>\n      <td>0</td>\n      <td>1</td>\n      <td>0</td>\n      <td>0</td>\n      <td>0</td>\n      <td>0</td>\n      <td>0</td>\n      <td>...</td>\n      <td>0</td>\n      <td>0</td>\n      <td>0</td>\n      <td>0</td>\n      <td>0</td>\n      <td>0</td>\n      <td>0</td>\n      <td>0</td>\n      <td>0</td>\n      <td>215354</td>\n    </tr>\n    <tr>\n      <th>3</th>\n      <td>1</td>\n      <td>0</td>\n      <td>0</td>\n      <td>0</td>\n      <td>1</td>\n      <td>0</td>\n      <td>0</td>\n      <td>0</td>\n      <td>0</td>\n      <td>0</td>\n      <td>...</td>\n      <td>0</td>\n      <td>0</td>\n      <td>0</td>\n      <td>0</td>\n      <td>0</td>\n      <td>0</td>\n      <td>0</td>\n      <td>0</td>\n      <td>0</td>\n      <td>215354</td>\n    </tr>\n    <tr>\n      <th>4</th>\n      <td>1</td>\n      <td>0</td>\n      <td>0</td>\n      <td>0</td>\n      <td>1</td>\n      <td>0</td>\n      <td>0</td>\n      <td>0</td>\n      <td>0</td>\n      <td>0</td>\n      <td>...</td>\n      <td>0</td>\n      <td>0</td>\n      <td>0</td>\n      <td>0</td>\n      <td>0</td>\n      <td>0</td>\n      <td>0</td>\n      <td>0</td>\n      <td>0</td>\n      <td>215354</td>\n    </tr>\n  </tbody>\n</table>\n<p>5 rows × 24 columns</p>\n</div>"
     },
     "execution_count": 19,
     "metadata": {},
     "output_type": "execute_result"
    }
   ]
  },
  {
   "metadata": {
    "trusted": true,
    "_uuid": "839ae477431e4131cfecc3bc0b2046ee964c6623"
   },
   "cell_type": "code",
   "source": [
    "categorical_grouped = categorical.groupby('SK_ID_CURR').agg(['sum', 'mean'])\n",
    "categorical_grouped.head()"
   ],
   "execution_count": 20,
   "outputs": [
    {
     "data": {
      "text/plain": "           CREDIT_ACTIVE_Active           CREDIT_ACTIVE_Bad debt       \\\n                            sum      mean                    sum mean   \nSK_ID_CURR                                                              \n100001                        3  0.428571                      0  0.0   \n100002                        2  0.250000                      0  0.0   \n100003                        1  0.250000                      0  0.0   \n100004                        0  0.000000                      0  0.0   \n100005                        2  0.666667                      0  0.0   \n\n           CREDIT_ACTIVE_Closed           CREDIT_ACTIVE_Sold       \\\n                            sum      mean                sum mean   \nSK_ID_CURR                                                          \n100001                        4  0.571429                  0  0.0   \n100002                        6  0.750000                  0  0.0   \n100003                        3  0.750000                  0  0.0   \n100004                        2  1.000000                  0  0.0   \n100005                        1  0.333333                  0  0.0   \n\n           CREDIT_CURRENCY_currency 1       ... CREDIT_TYPE_Microloan       \\\n                                  sum mean  ...                   sum mean   \nSK_ID_CURR                                  ...                              \n100001                              7  1.0  ...                     0  0.0   \n100002                              8  1.0  ...                     0  0.0   \n100003                              4  1.0  ...                     0  0.0   \n100004                              2  1.0  ...                     0  0.0   \n100005                              3  1.0  ...                     0  0.0   \n\n           CREDIT_TYPE_Mobile operator loan      CREDIT_TYPE_Mortgage       \\\n                                        sum mean                  sum mean   \nSK_ID_CURR                                                                   \n100001                                    0  0.0                    0  0.0   \n100002                                    0  0.0                    0  0.0   \n100003                                    0  0.0                    0  0.0   \n100004                                    0  0.0                    0  0.0   \n100005                                    0  0.0                    0  0.0   \n\n           CREDIT_TYPE_Real estate loan      CREDIT_TYPE_Unknown type of loan  \\\n                                    sum mean                              sum   \nSK_ID_CURR                                                                      \n100001                                0  0.0                                0   \n100002                                0  0.0                                0   \n100003                                0  0.0                                0   \n100004                                0  0.0                                0   \n100005                                0  0.0                                0   \n\n                 \n           mean  \nSK_ID_CURR       \n100001      0.0  \n100002      0.0  \n100003      0.0  \n100004      0.0  \n100005      0.0  \n\n[5 rows x 46 columns]",
      "text/html": "<div>\n<style scoped>\n    .dataframe tbody tr th:only-of-type {\n        vertical-align: middle;\n    }\n\n    .dataframe tbody tr th {\n        vertical-align: top;\n    }\n\n    .dataframe thead tr th {\n        text-align: left;\n    }\n\n    .dataframe thead tr:last-of-type th {\n        text-align: right;\n    }\n</style>\n<table border=\"1\" class=\"dataframe\">\n  <thead>\n    <tr>\n      <th></th>\n      <th colspan=\"2\" halign=\"left\">CREDIT_ACTIVE_Active</th>\n      <th colspan=\"2\" halign=\"left\">CREDIT_ACTIVE_Bad debt</th>\n      <th colspan=\"2\" halign=\"left\">CREDIT_ACTIVE_Closed</th>\n      <th colspan=\"2\" halign=\"left\">CREDIT_ACTIVE_Sold</th>\n      <th colspan=\"2\" halign=\"left\">CREDIT_CURRENCY_currency 1</th>\n      <th>...</th>\n      <th colspan=\"2\" halign=\"left\">CREDIT_TYPE_Microloan</th>\n      <th colspan=\"2\" halign=\"left\">CREDIT_TYPE_Mobile operator loan</th>\n      <th colspan=\"2\" halign=\"left\">CREDIT_TYPE_Mortgage</th>\n      <th colspan=\"2\" halign=\"left\">CREDIT_TYPE_Real estate loan</th>\n      <th colspan=\"2\" halign=\"left\">CREDIT_TYPE_Unknown type of loan</th>\n    </tr>\n    <tr>\n      <th></th>\n      <th>sum</th>\n      <th>mean</th>\n      <th>sum</th>\n      <th>mean</th>\n      <th>sum</th>\n      <th>mean</th>\n      <th>sum</th>\n      <th>mean</th>\n      <th>sum</th>\n      <th>mean</th>\n      <th>...</th>\n      <th>sum</th>\n      <th>mean</th>\n      <th>sum</th>\n      <th>mean</th>\n      <th>sum</th>\n      <th>mean</th>\n      <th>sum</th>\n      <th>mean</th>\n      <th>sum</th>\n      <th>mean</th>\n    </tr>\n    <tr>\n      <th>SK_ID_CURR</th>\n      <th></th>\n      <th></th>\n      <th></th>\n      <th></th>\n      <th></th>\n      <th></th>\n      <th></th>\n      <th></th>\n      <th></th>\n      <th></th>\n      <th></th>\n      <th></th>\n      <th></th>\n      <th></th>\n      <th></th>\n      <th></th>\n      <th></th>\n      <th></th>\n      <th></th>\n      <th></th>\n      <th></th>\n    </tr>\n  </thead>\n  <tbody>\n    <tr>\n      <th>100001</th>\n      <td>3</td>\n      <td>0.428571</td>\n      <td>0</td>\n      <td>0.0</td>\n      <td>4</td>\n      <td>0.571429</td>\n      <td>0</td>\n      <td>0.0</td>\n      <td>7</td>\n      <td>1.0</td>\n      <td>...</td>\n      <td>0</td>\n      <td>0.0</td>\n      <td>0</td>\n      <td>0.0</td>\n      <td>0</td>\n      <td>0.0</td>\n      <td>0</td>\n      <td>0.0</td>\n      <td>0</td>\n      <td>0.0</td>\n    </tr>\n    <tr>\n      <th>100002</th>\n      <td>2</td>\n      <td>0.250000</td>\n      <td>0</td>\n      <td>0.0</td>\n      <td>6</td>\n      <td>0.750000</td>\n      <td>0</td>\n      <td>0.0</td>\n      <td>8</td>\n      <td>1.0</td>\n      <td>...</td>\n      <td>0</td>\n      <td>0.0</td>\n      <td>0</td>\n      <td>0.0</td>\n      <td>0</td>\n      <td>0.0</td>\n      <td>0</td>\n      <td>0.0</td>\n      <td>0</td>\n      <td>0.0</td>\n    </tr>\n    <tr>\n      <th>100003</th>\n      <td>1</td>\n      <td>0.250000</td>\n      <td>0</td>\n      <td>0.0</td>\n      <td>3</td>\n      <td>0.750000</td>\n      <td>0</td>\n      <td>0.0</td>\n      <td>4</td>\n      <td>1.0</td>\n      <td>...</td>\n      <td>0</td>\n      <td>0.0</td>\n      <td>0</td>\n      <td>0.0</td>\n      <td>0</td>\n      <td>0.0</td>\n      <td>0</td>\n      <td>0.0</td>\n      <td>0</td>\n      <td>0.0</td>\n    </tr>\n    <tr>\n      <th>100004</th>\n      <td>0</td>\n      <td>0.000000</td>\n      <td>0</td>\n      <td>0.0</td>\n      <td>2</td>\n      <td>1.000000</td>\n      <td>0</td>\n      <td>0.0</td>\n      <td>2</td>\n      <td>1.0</td>\n      <td>...</td>\n      <td>0</td>\n      <td>0.0</td>\n      <td>0</td>\n      <td>0.0</td>\n      <td>0</td>\n      <td>0.0</td>\n      <td>0</td>\n      <td>0.0</td>\n      <td>0</td>\n      <td>0.0</td>\n    </tr>\n    <tr>\n      <th>100005</th>\n      <td>2</td>\n      <td>0.666667</td>\n      <td>0</td>\n      <td>0.0</td>\n      <td>1</td>\n      <td>0.333333</td>\n      <td>0</td>\n      <td>0.0</td>\n      <td>3</td>\n      <td>1.0</td>\n      <td>...</td>\n      <td>0</td>\n      <td>0.0</td>\n      <td>0</td>\n      <td>0.0</td>\n      <td>0</td>\n      <td>0.0</td>\n      <td>0</td>\n      <td>0.0</td>\n      <td>0</td>\n      <td>0.0</td>\n    </tr>\n  </tbody>\n</table>\n<p>5 rows × 46 columns</p>\n</div>"
     },
     "execution_count": 20,
     "metadata": {},
     "output_type": "execute_result"
    }
   ]
  },
  {
   "metadata": {
    "_uuid": "ed965c98dee32b0b9194a97c0babd1ade9896e52"
   },
   "cell_type": "markdown",
   "source": [
    "The `sum` columns represent the count of that category for the associated client and the `mean` represents the normalized count. One-hot encoding makes the process of calculating these figures very easy!\n",
    "\n",
    "We can use a similar function as before to rename the columns. Again, we have to deal with the multi-level index for the columns. We iterate through the first level (level 0) which is the name of the categorical variable appended with the value of the category (from one-hot encoding). Then we iterate  stats we calculated for each client. We will rename the column with the level 0 name appended with the stat. As an example, the column with `CREDIT_ACTIVE_Active` as level 0 and `sum` as level 1 will become `CREDIT_ACTIVE_Active_count`. "
   ]
  },
  {
   "metadata": {
    "trusted": true,
    "_uuid": "d0348b245ddb0e1f7bfa1e72b5c2e5b04416f66b"
   },
   "cell_type": "code",
   "source": [
    "categorical_grouped.columns.levels[0][:10]"
   ],
   "execution_count": 21,
   "outputs": [
    {
     "data": {
      "text/plain": "Index(['CREDIT_ACTIVE_Active', 'CREDIT_ACTIVE_Bad debt',\n       'CREDIT_ACTIVE_Closed', 'CREDIT_ACTIVE_Sold',\n       'CREDIT_CURRENCY_currency 1', 'CREDIT_CURRENCY_currency 2',\n       'CREDIT_CURRENCY_currency 3', 'CREDIT_CURRENCY_currency 4',\n       'CREDIT_TYPE_Another type of loan', 'CREDIT_TYPE_Car loan'],\n      dtype='object')"
     },
     "execution_count": 21,
     "metadata": {},
     "output_type": "execute_result"
    }
   ]
  },
  {
   "metadata": {
    "trusted": true,
    "_uuid": "dbfa21f67f3fa910bdb052f482c6cbf684a2e474"
   },
   "cell_type": "code",
   "source": [
    "categorical_grouped.columns.levels[1]"
   ],
   "execution_count": 22,
   "outputs": [
    {
     "data": {
      "text/plain": "Index(['sum', 'mean'], dtype='object')"
     },
     "execution_count": 22,
     "metadata": {},
     "output_type": "execute_result"
    }
   ]
  },
  {
   "metadata": {
    "trusted": true,
    "_uuid": "41dccd044bedbf169b761daeff0e5d7b177d08ef"
   },
   "cell_type": "code",
   "source": [
    "group_var = 'SK_ID_CURR'\n",
    "\n",
    "# Need to create new column names\n",
    "columns = []\n",
    "\n",
    "# Iterate through the variables names\n",
    "for var in categorical_grouped.columns.levels[0]:\n",
    "    # Skip the grouping variable\n",
    "    if var != group_var:\n",
    "        # Iterate through the stat names\n",
    "        for stat in ['count', 'count_norm']:\n",
    "            # Make a new column name for the variable and stat\n",
    "            columns.append('%s_%s' % (var, stat))\n",
    "\n",
    "#  Rename the columns\n",
    "categorical_grouped.columns = columns\n",
    "\n",
    "categorical_grouped.head()"
   ],
   "execution_count": 23,
   "outputs": [
    {
     "data": {
      "text/plain": "            CREDIT_ACTIVE_Active_count  CREDIT_ACTIVE_Active_count_norm  \\\nSK_ID_CURR                                                                \n100001                               3                         0.428571   \n100002                               2                         0.250000   \n100003                               1                         0.250000   \n100004                               0                         0.000000   \n100005                               2                         0.666667   \n\n            CREDIT_ACTIVE_Bad debt_count  CREDIT_ACTIVE_Bad debt_count_norm  \\\nSK_ID_CURR                                                                    \n100001                                 0                                0.0   \n100002                                 0                                0.0   \n100003                                 0                                0.0   \n100004                                 0                                0.0   \n100005                                 0                                0.0   \n\n            CREDIT_ACTIVE_Closed_count  CREDIT_ACTIVE_Closed_count_norm  \\\nSK_ID_CURR                                                                \n100001                               4                         0.571429   \n100002                               6                         0.750000   \n100003                               3                         0.750000   \n100004                               2                         1.000000   \n100005                               1                         0.333333   \n\n            CREDIT_ACTIVE_Sold_count  CREDIT_ACTIVE_Sold_count_norm  \\\nSK_ID_CURR                                                            \n100001                             0                            0.0   \n100002                             0                            0.0   \n100003                             0                            0.0   \n100004                             0                            0.0   \n100005                             0                            0.0   \n\n            CREDIT_CURRENCY_currency 1_count  \\\nSK_ID_CURR                                     \n100001                                     7   \n100002                                     8   \n100003                                     4   \n100004                                     2   \n100005                                     3   \n\n            CREDIT_CURRENCY_currency 1_count_norm  ...  \\\nSK_ID_CURR                                         ...   \n100001                                        1.0  ...   \n100002                                        1.0  ...   \n100003                                        1.0  ...   \n100004                                        1.0  ...   \n100005                                        1.0  ...   \n\n            CREDIT_TYPE_Microloan_count  CREDIT_TYPE_Microloan_count_norm  \\\nSK_ID_CURR                                                                  \n100001                                0                               0.0   \n100002                                0                               0.0   \n100003                                0                               0.0   \n100004                                0                               0.0   \n100005                                0                               0.0   \n\n            CREDIT_TYPE_Mobile operator loan_count  \\\nSK_ID_CURR                                           \n100001                                           0   \n100002                                           0   \n100003                                           0   \n100004                                           0   \n100005                                           0   \n\n            CREDIT_TYPE_Mobile operator loan_count_norm  \\\nSK_ID_CURR                                                \n100001                                              0.0   \n100002                                              0.0   \n100003                                              0.0   \n100004                                              0.0   \n100005                                              0.0   \n\n            CREDIT_TYPE_Mortgage_count  CREDIT_TYPE_Mortgage_count_norm  \\\nSK_ID_CURR                                                                \n100001                               0                              0.0   \n100002                               0                              0.0   \n100003                               0                              0.0   \n100004                               0                              0.0   \n100005                               0                              0.0   \n\n            CREDIT_TYPE_Real estate loan_count  \\\nSK_ID_CURR                                       \n100001                                       0   \n100002                                       0   \n100003                                       0   \n100004                                       0   \n100005                                       0   \n\n            CREDIT_TYPE_Real estate loan_count_norm  \\\nSK_ID_CURR                                            \n100001                                          0.0   \n100002                                          0.0   \n100003                                          0.0   \n100004                                          0.0   \n100005                                          0.0   \n\n            CREDIT_TYPE_Unknown type of loan_count  \\\nSK_ID_CURR                                           \n100001                                           0   \n100002                                           0   \n100003                                           0   \n100004                                           0   \n100005                                           0   \n\n            CREDIT_TYPE_Unknown type of loan_count_norm  \nSK_ID_CURR                                               \n100001                                              0.0  \n100002                                              0.0  \n100003                                              0.0  \n100004                                              0.0  \n100005                                              0.0  \n\n[5 rows x 46 columns]",
      "text/html": "<div>\n<style scoped>\n    .dataframe tbody tr th:only-of-type {\n        vertical-align: middle;\n    }\n\n    .dataframe tbody tr th {\n        vertical-align: top;\n    }\n\n    .dataframe thead th {\n        text-align: right;\n    }\n</style>\n<table border=\"1\" class=\"dataframe\">\n  <thead>\n    <tr style=\"text-align: right;\">\n      <th></th>\n      <th>CREDIT_ACTIVE_Active_count</th>\n      <th>CREDIT_ACTIVE_Active_count_norm</th>\n      <th>CREDIT_ACTIVE_Bad debt_count</th>\n      <th>CREDIT_ACTIVE_Bad debt_count_norm</th>\n      <th>CREDIT_ACTIVE_Closed_count</th>\n      <th>CREDIT_ACTIVE_Closed_count_norm</th>\n      <th>CREDIT_ACTIVE_Sold_count</th>\n      <th>CREDIT_ACTIVE_Sold_count_norm</th>\n      <th>CREDIT_CURRENCY_currency 1_count</th>\n      <th>CREDIT_CURRENCY_currency 1_count_norm</th>\n      <th>...</th>\n      <th>CREDIT_TYPE_Microloan_count</th>\n      <th>CREDIT_TYPE_Microloan_count_norm</th>\n      <th>CREDIT_TYPE_Mobile operator loan_count</th>\n      <th>CREDIT_TYPE_Mobile operator loan_count_norm</th>\n      <th>CREDIT_TYPE_Mortgage_count</th>\n      <th>CREDIT_TYPE_Mortgage_count_norm</th>\n      <th>CREDIT_TYPE_Real estate loan_count</th>\n      <th>CREDIT_TYPE_Real estate loan_count_norm</th>\n      <th>CREDIT_TYPE_Unknown type of loan_count</th>\n      <th>CREDIT_TYPE_Unknown type of loan_count_norm</th>\n    </tr>\n    <tr>\n      <th>SK_ID_CURR</th>\n      <th></th>\n      <th></th>\n      <th></th>\n      <th></th>\n      <th></th>\n      <th></th>\n      <th></th>\n      <th></th>\n      <th></th>\n      <th></th>\n      <th></th>\n      <th></th>\n      <th></th>\n      <th></th>\n      <th></th>\n      <th></th>\n      <th></th>\n      <th></th>\n      <th></th>\n      <th></th>\n      <th></th>\n    </tr>\n  </thead>\n  <tbody>\n    <tr>\n      <th>100001</th>\n      <td>3</td>\n      <td>0.428571</td>\n      <td>0</td>\n      <td>0.0</td>\n      <td>4</td>\n      <td>0.571429</td>\n      <td>0</td>\n      <td>0.0</td>\n      <td>7</td>\n      <td>1.0</td>\n      <td>...</td>\n      <td>0</td>\n      <td>0.0</td>\n      <td>0</td>\n      <td>0.0</td>\n      <td>0</td>\n      <td>0.0</td>\n      <td>0</td>\n      <td>0.0</td>\n      <td>0</td>\n      <td>0.0</td>\n    </tr>\n    <tr>\n      <th>100002</th>\n      <td>2</td>\n      <td>0.250000</td>\n      <td>0</td>\n      <td>0.0</td>\n      <td>6</td>\n      <td>0.750000</td>\n      <td>0</td>\n      <td>0.0</td>\n      <td>8</td>\n      <td>1.0</td>\n      <td>...</td>\n      <td>0</td>\n      <td>0.0</td>\n      <td>0</td>\n      <td>0.0</td>\n      <td>0</td>\n      <td>0.0</td>\n      <td>0</td>\n      <td>0.0</td>\n      <td>0</td>\n      <td>0.0</td>\n    </tr>\n    <tr>\n      <th>100003</th>\n      <td>1</td>\n      <td>0.250000</td>\n      <td>0</td>\n      <td>0.0</td>\n      <td>3</td>\n      <td>0.750000</td>\n      <td>0</td>\n      <td>0.0</td>\n      <td>4</td>\n      <td>1.0</td>\n      <td>...</td>\n      <td>0</td>\n      <td>0.0</td>\n      <td>0</td>\n      <td>0.0</td>\n      <td>0</td>\n      <td>0.0</td>\n      <td>0</td>\n      <td>0.0</td>\n      <td>0</td>\n      <td>0.0</td>\n    </tr>\n    <tr>\n      <th>100004</th>\n      <td>0</td>\n      <td>0.000000</td>\n      <td>0</td>\n      <td>0.0</td>\n      <td>2</td>\n      <td>1.000000</td>\n      <td>0</td>\n      <td>0.0</td>\n      <td>2</td>\n      <td>1.0</td>\n      <td>...</td>\n      <td>0</td>\n      <td>0.0</td>\n      <td>0</td>\n      <td>0.0</td>\n      <td>0</td>\n      <td>0.0</td>\n      <td>0</td>\n      <td>0.0</td>\n      <td>0</td>\n      <td>0.0</td>\n    </tr>\n    <tr>\n      <th>100005</th>\n      <td>2</td>\n      <td>0.666667</td>\n      <td>0</td>\n      <td>0.0</td>\n      <td>1</td>\n      <td>0.333333</td>\n      <td>0</td>\n      <td>0.0</td>\n      <td>3</td>\n      <td>1.0</td>\n      <td>...</td>\n      <td>0</td>\n      <td>0.0</td>\n      <td>0</td>\n      <td>0.0</td>\n      <td>0</td>\n      <td>0.0</td>\n      <td>0</td>\n      <td>0.0</td>\n      <td>0</td>\n      <td>0.0</td>\n    </tr>\n  </tbody>\n</table>\n<p>5 rows × 46 columns</p>\n</div>"
     },
     "execution_count": 23,
     "metadata": {},
     "output_type": "execute_result"
    }
   ]
  },
  {
   "metadata": {
    "_uuid": "6ebc592c38c6d7664c7c57d3884ea80dfeabf760"
   },
   "cell_type": "markdown",
   "source": [
    "The sum column records the counts and the mean column records the normalized count. \n",
    "\n",
    "We can merge this dataframe into the training data."
   ]
  },
  {
   "metadata": {
    "trusted": true,
    "_uuid": "69e0695167a8e793c1a1d3934f8a8e510343606d"
   },
   "cell_type": "code",
   "source": [
    "train = train.merge(categorical_grouped, left_on='SK_ID_CURR', right_index=True, how='left')\n",
    "train.head()"
   ],
   "execution_count": 24,
   "outputs": [
    {
     "data": {
      "text/plain": "   SK_ID_CURR  TARGET NAME_CONTRACT_TYPE CODE_GENDER FLAG_OWN_CAR  \\\n0      100002       1         Cash loans           M            N   \n1      100003       0         Cash loans           F            N   \n2      100004       0    Revolving loans           M            Y   \n3      100006       0         Cash loans           F            N   \n4      100007       0         Cash loans           M            N   \n\n  FLAG_OWN_REALTY  CNT_CHILDREN  AMT_INCOME_TOTAL  AMT_CREDIT  AMT_ANNUITY  \\\n0               Y             0          202500.0    406597.5      24700.5   \n1               N             0          270000.0   1293502.5      35698.5   \n2               Y             0           67500.0    135000.0       6750.0   \n3               Y             0          135000.0    312682.5      29686.5   \n4               Y             0          121500.0    513000.0      21865.5   \n\n   ...  CREDIT_TYPE_Microloan_count CREDIT_TYPE_Microloan_count_norm  \\\n0  ...                          0.0                              0.0   \n1  ...                          0.0                              0.0   \n2  ...                          0.0                              0.0   \n3  ...                          NaN                              NaN   \n4  ...                          0.0                              0.0   \n\n  CREDIT_TYPE_Mobile operator loan_count  \\\n0                                    0.0   \n1                                    0.0   \n2                                    0.0   \n3                                    NaN   \n4                                    0.0   \n\n  CREDIT_TYPE_Mobile operator loan_count_norm CREDIT_TYPE_Mortgage_count  \\\n0                                         0.0                        0.0   \n1                                         0.0                        0.0   \n2                                         0.0                        0.0   \n3                                         NaN                        NaN   \n4                                         0.0                        0.0   \n\n  CREDIT_TYPE_Mortgage_count_norm  CREDIT_TYPE_Real estate loan_count  \\\n0                             0.0                                 0.0   \n1                             0.0                                 0.0   \n2                             0.0                                 0.0   \n3                             NaN                                 NaN   \n4                             0.0                                 0.0   \n\n   CREDIT_TYPE_Real estate loan_count_norm  \\\n0                                      0.0   \n1                                      0.0   \n2                                      0.0   \n3                                      NaN   \n4                                      0.0   \n\n   CREDIT_TYPE_Unknown type of loan_count  \\\n0                                     0.0   \n1                                     0.0   \n2                                     0.0   \n3                                     NaN   \n4                                     0.0   \n\n   CREDIT_TYPE_Unknown type of loan_count_norm  \n0                                          0.0  \n1                                          0.0  \n2                                          0.0  \n3                                          NaN  \n4                                          0.0  \n\n[5 rows x 229 columns]",
      "text/html": "<div>\n<style scoped>\n    .dataframe tbody tr th:only-of-type {\n        vertical-align: middle;\n    }\n\n    .dataframe tbody tr th {\n        vertical-align: top;\n    }\n\n    .dataframe thead th {\n        text-align: right;\n    }\n</style>\n<table border=\"1\" class=\"dataframe\">\n  <thead>\n    <tr style=\"text-align: right;\">\n      <th></th>\n      <th>SK_ID_CURR</th>\n      <th>TARGET</th>\n      <th>NAME_CONTRACT_TYPE</th>\n      <th>CODE_GENDER</th>\n      <th>FLAG_OWN_CAR</th>\n      <th>FLAG_OWN_REALTY</th>\n      <th>CNT_CHILDREN</th>\n      <th>AMT_INCOME_TOTAL</th>\n      <th>AMT_CREDIT</th>\n      <th>AMT_ANNUITY</th>\n      <th>...</th>\n      <th>CREDIT_TYPE_Microloan_count</th>\n      <th>CREDIT_TYPE_Microloan_count_norm</th>\n      <th>CREDIT_TYPE_Mobile operator loan_count</th>\n      <th>CREDIT_TYPE_Mobile operator loan_count_norm</th>\n      <th>CREDIT_TYPE_Mortgage_count</th>\n      <th>CREDIT_TYPE_Mortgage_count_norm</th>\n      <th>CREDIT_TYPE_Real estate loan_count</th>\n      <th>CREDIT_TYPE_Real estate loan_count_norm</th>\n      <th>CREDIT_TYPE_Unknown type of loan_count</th>\n      <th>CREDIT_TYPE_Unknown type of loan_count_norm</th>\n    </tr>\n  </thead>\n  <tbody>\n    <tr>\n      <th>0</th>\n      <td>100002</td>\n      <td>1</td>\n      <td>Cash loans</td>\n      <td>M</td>\n      <td>N</td>\n      <td>Y</td>\n      <td>0</td>\n      <td>202500.0</td>\n      <td>406597.5</td>\n      <td>24700.5</td>\n      <td>...</td>\n      <td>0.0</td>\n      <td>0.0</td>\n      <td>0.0</td>\n      <td>0.0</td>\n      <td>0.0</td>\n      <td>0.0</td>\n      <td>0.0</td>\n      <td>0.0</td>\n      <td>0.0</td>\n      <td>0.0</td>\n    </tr>\n    <tr>\n      <th>1</th>\n      <td>100003</td>\n      <td>0</td>\n      <td>Cash loans</td>\n      <td>F</td>\n      <td>N</td>\n      <td>N</td>\n      <td>0</td>\n      <td>270000.0</td>\n      <td>1293502.5</td>\n      <td>35698.5</td>\n      <td>...</td>\n      <td>0.0</td>\n      <td>0.0</td>\n      <td>0.0</td>\n      <td>0.0</td>\n      <td>0.0</td>\n      <td>0.0</td>\n      <td>0.0</td>\n      <td>0.0</td>\n      <td>0.0</td>\n      <td>0.0</td>\n    </tr>\n    <tr>\n      <th>2</th>\n      <td>100004</td>\n      <td>0</td>\n      <td>Revolving loans</td>\n      <td>M</td>\n      <td>Y</td>\n      <td>Y</td>\n      <td>0</td>\n      <td>67500.0</td>\n      <td>135000.0</td>\n      <td>6750.0</td>\n      <td>...</td>\n      <td>0.0</td>\n      <td>0.0</td>\n      <td>0.0</td>\n      <td>0.0</td>\n      <td>0.0</td>\n      <td>0.0</td>\n      <td>0.0</td>\n      <td>0.0</td>\n      <td>0.0</td>\n      <td>0.0</td>\n    </tr>\n    <tr>\n      <th>3</th>\n      <td>100006</td>\n      <td>0</td>\n      <td>Cash loans</td>\n      <td>F</td>\n      <td>N</td>\n      <td>Y</td>\n      <td>0</td>\n      <td>135000.0</td>\n      <td>312682.5</td>\n      <td>29686.5</td>\n      <td>...</td>\n      <td>NaN</td>\n      <td>NaN</td>\n      <td>NaN</td>\n      <td>NaN</td>\n      <td>NaN</td>\n      <td>NaN</td>\n      <td>NaN</td>\n      <td>NaN</td>\n      <td>NaN</td>\n      <td>NaN</td>\n    </tr>\n    <tr>\n      <th>4</th>\n      <td>100007</td>\n      <td>0</td>\n      <td>Cash loans</td>\n      <td>M</td>\n      <td>N</td>\n      <td>Y</td>\n      <td>0</td>\n      <td>121500.0</td>\n      <td>513000.0</td>\n      <td>21865.5</td>\n      <td>...</td>\n      <td>0.0</td>\n      <td>0.0</td>\n      <td>0.0</td>\n      <td>0.0</td>\n      <td>0.0</td>\n      <td>0.0</td>\n      <td>0.0</td>\n      <td>0.0</td>\n      <td>0.0</td>\n      <td>0.0</td>\n    </tr>\n  </tbody>\n</table>\n<p>5 rows × 229 columns</p>\n</div>"
     },
     "execution_count": 24,
     "metadata": {},
     "output_type": "execute_result"
    }
   ]
  },
  {
   "metadata": {
    "trusted": true,
    "_uuid": "072b94cbbc2dba8df21d777e46bc693d731fd512"
   },
   "cell_type": "code",
   "source": [
    "train.shape"
   ],
   "execution_count": 25,
   "outputs": [
    {
     "data": {
      "text/plain": "(307511, 229)"
     },
     "execution_count": 25,
     "metadata": {},
     "output_type": "execute_result"
    }
   ]
  },
  {
   "metadata": {
    "trusted": true,
    "_uuid": "28ba0118d6544d6d4fe436901ee9dc8834ae1b0e"
   },
   "cell_type": "code",
   "source": [
    "train.iloc[:10, 123:]"
   ],
   "execution_count": 26,
   "outputs": [
    {
     "data": {
      "text/plain": "   bureau_DAYS_CREDIT_count  bureau_DAYS_CREDIT_mean  bureau_DAYS_CREDIT_max  \\\n0                       8.0              -874.000000                  -103.0   \n1                       4.0             -1400.750000                  -606.0   \n2                       2.0              -867.000000                  -408.0   \n3                       NaN                      NaN                     NaN   \n4                       1.0             -1149.000000                 -1149.0   \n5                       3.0              -757.333333                   -78.0   \n6                      18.0             -1271.500000                  -239.0   \n7                       2.0             -1939.500000                 -1138.0   \n8                       4.0             -1773.000000                 -1309.0   \n9                       NaN                      NaN                     NaN   \n\n   bureau_DAYS_CREDIT_min  bureau_DAYS_CREDIT_sum  \\\n0                 -1437.0                 -6992.0   \n1                 -2586.0                 -5603.0   \n2                 -1326.0                 -1734.0   \n3                     NaN                     NaN   \n4                 -1149.0                 -1149.0   \n5                 -1097.0                 -2272.0   \n6                 -2882.0                -22887.0   \n7                 -2741.0                 -3879.0   \n8                 -2508.0                 -7092.0   \n9                     NaN                     NaN   \n\n   bureau_CREDIT_DAY_OVERDUE_count  bureau_CREDIT_DAY_OVERDUE_mean  \\\n0                              8.0                             0.0   \n1                              4.0                             0.0   \n2                              2.0                             0.0   \n3                              NaN                             NaN   \n4                              1.0                             0.0   \n5                              3.0                             0.0   \n6                             18.0                             0.0   \n7                              2.0                             0.0   \n8                              4.0                             0.0   \n9                              NaN                             NaN   \n\n   bureau_CREDIT_DAY_OVERDUE_max  bureau_CREDIT_DAY_OVERDUE_min  \\\n0                            0.0                            0.0   \n1                            0.0                            0.0   \n2                            0.0                            0.0   \n3                            NaN                            NaN   \n4                            0.0                            0.0   \n5                            0.0                            0.0   \n6                            0.0                            0.0   \n7                            0.0                            0.0   \n8                            0.0                            0.0   \n9                            NaN                            NaN   \n\n   bureau_CREDIT_DAY_OVERDUE_sum  ...  CREDIT_TYPE_Microloan_count  \\\n0                            0.0  ...                          0.0   \n1                            0.0  ...                          0.0   \n2                            0.0  ...                          0.0   \n3                            NaN  ...                          NaN   \n4                            0.0  ...                          0.0   \n5                            0.0  ...                          0.0   \n6                            0.0  ...                          0.0   \n7                            0.0  ...                          0.0   \n8                            0.0  ...                          0.0   \n9                            NaN  ...                          NaN   \n\n   CREDIT_TYPE_Microloan_count_norm  CREDIT_TYPE_Mobile operator loan_count  \\\n0                               0.0                                     0.0   \n1                               0.0                                     0.0   \n2                               0.0                                     0.0   \n3                               NaN                                     NaN   \n4                               0.0                                     0.0   \n5                               0.0                                     0.0   \n6                               0.0                                     0.0   \n7                               0.0                                     0.0   \n8                               0.0                                     0.0   \n9                               NaN                                     NaN   \n\n   CREDIT_TYPE_Mobile operator loan_count_norm  CREDIT_TYPE_Mortgage_count  \\\n0                                          0.0                         0.0   \n1                                          0.0                         0.0   \n2                                          0.0                         0.0   \n3                                          NaN                         NaN   \n4                                          0.0                         0.0   \n5                                          0.0                         0.0   \n6                                          0.0                         0.0   \n7                                          0.0                         0.0   \n8                                          0.0                         0.0   \n9                                          NaN                         NaN   \n\n   CREDIT_TYPE_Mortgage_count_norm  CREDIT_TYPE_Real estate loan_count  \\\n0                              0.0                                 0.0   \n1                              0.0                                 0.0   \n2                              0.0                                 0.0   \n3                              NaN                                 NaN   \n4                              0.0                                 0.0   \n5                              0.0                                 0.0   \n6                              0.0                                 0.0   \n7                              0.0                                 0.0   \n8                              0.0                                 0.0   \n9                              NaN                                 NaN   \n\n   CREDIT_TYPE_Real estate loan_count_norm  \\\n0                                      0.0   \n1                                      0.0   \n2                                      0.0   \n3                                      NaN   \n4                                      0.0   \n5                                      0.0   \n6                                      0.0   \n7                                      0.0   \n8                                      0.0   \n9                                      NaN   \n\n   CREDIT_TYPE_Unknown type of loan_count  \\\n0                                     0.0   \n1                                     0.0   \n2                                     0.0   \n3                                     NaN   \n4                                     0.0   \n5                                     0.0   \n6                                     0.0   \n7                                     0.0   \n8                                     0.0   \n9                                     NaN   \n\n   CREDIT_TYPE_Unknown type of loan_count_norm  \n0                                          0.0  \n1                                          0.0  \n2                                          0.0  \n3                                          NaN  \n4                                          0.0  \n5                                          0.0  \n6                                          0.0  \n7                                          0.0  \n8                                          0.0  \n9                                          NaN  \n\n[10 rows x 106 columns]",
      "text/html": "<div>\n<style scoped>\n    .dataframe tbody tr th:only-of-type {\n        vertical-align: middle;\n    }\n\n    .dataframe tbody tr th {\n        vertical-align: top;\n    }\n\n    .dataframe thead th {\n        text-align: right;\n    }\n</style>\n<table border=\"1\" class=\"dataframe\">\n  <thead>\n    <tr style=\"text-align: right;\">\n      <th></th>\n      <th>bureau_DAYS_CREDIT_count</th>\n      <th>bureau_DAYS_CREDIT_mean</th>\n      <th>bureau_DAYS_CREDIT_max</th>\n      <th>bureau_DAYS_CREDIT_min</th>\n      <th>bureau_DAYS_CREDIT_sum</th>\n      <th>bureau_CREDIT_DAY_OVERDUE_count</th>\n      <th>bureau_CREDIT_DAY_OVERDUE_mean</th>\n      <th>bureau_CREDIT_DAY_OVERDUE_max</th>\n      <th>bureau_CREDIT_DAY_OVERDUE_min</th>\n      <th>bureau_CREDIT_DAY_OVERDUE_sum</th>\n      <th>...</th>\n      <th>CREDIT_TYPE_Microloan_count</th>\n      <th>CREDIT_TYPE_Microloan_count_norm</th>\n      <th>CREDIT_TYPE_Mobile operator loan_count</th>\n      <th>CREDIT_TYPE_Mobile operator loan_count_norm</th>\n      <th>CREDIT_TYPE_Mortgage_count</th>\n      <th>CREDIT_TYPE_Mortgage_count_norm</th>\n      <th>CREDIT_TYPE_Real estate loan_count</th>\n      <th>CREDIT_TYPE_Real estate loan_count_norm</th>\n      <th>CREDIT_TYPE_Unknown type of loan_count</th>\n      <th>CREDIT_TYPE_Unknown type of loan_count_norm</th>\n    </tr>\n  </thead>\n  <tbody>\n    <tr>\n      <th>0</th>\n      <td>8.0</td>\n      <td>-874.000000</td>\n      <td>-103.0</td>\n      <td>-1437.0</td>\n      <td>-6992.0</td>\n      <td>8.0</td>\n      <td>0.0</td>\n      <td>0.0</td>\n      <td>0.0</td>\n      <td>0.0</td>\n      <td>...</td>\n      <td>0.0</td>\n      <td>0.0</td>\n      <td>0.0</td>\n      <td>0.0</td>\n      <td>0.0</td>\n      <td>0.0</td>\n      <td>0.0</td>\n      <td>0.0</td>\n      <td>0.0</td>\n      <td>0.0</td>\n    </tr>\n    <tr>\n      <th>1</th>\n      <td>4.0</td>\n      <td>-1400.750000</td>\n      <td>-606.0</td>\n      <td>-2586.0</td>\n      <td>-5603.0</td>\n      <td>4.0</td>\n      <td>0.0</td>\n      <td>0.0</td>\n      <td>0.0</td>\n      <td>0.0</td>\n      <td>...</td>\n      <td>0.0</td>\n      <td>0.0</td>\n      <td>0.0</td>\n      <td>0.0</td>\n      <td>0.0</td>\n      <td>0.0</td>\n      <td>0.0</td>\n      <td>0.0</td>\n      <td>0.0</td>\n      <td>0.0</td>\n    </tr>\n    <tr>\n      <th>2</th>\n      <td>2.0</td>\n      <td>-867.000000</td>\n      <td>-408.0</td>\n      <td>-1326.0</td>\n      <td>-1734.0</td>\n      <td>2.0</td>\n      <td>0.0</td>\n      <td>0.0</td>\n      <td>0.0</td>\n      <td>0.0</td>\n      <td>...</td>\n      <td>0.0</td>\n      <td>0.0</td>\n      <td>0.0</td>\n      <td>0.0</td>\n      <td>0.0</td>\n      <td>0.0</td>\n      <td>0.0</td>\n      <td>0.0</td>\n      <td>0.0</td>\n      <td>0.0</td>\n    </tr>\n    <tr>\n      <th>3</th>\n      <td>NaN</td>\n      <td>NaN</td>\n      <td>NaN</td>\n      <td>NaN</td>\n      <td>NaN</td>\n      <td>NaN</td>\n      <td>NaN</td>\n      <td>NaN</td>\n      <td>NaN</td>\n      <td>NaN</td>\n      <td>...</td>\n      <td>NaN</td>\n      <td>NaN</td>\n      <td>NaN</td>\n      <td>NaN</td>\n      <td>NaN</td>\n      <td>NaN</td>\n      <td>NaN</td>\n      <td>NaN</td>\n      <td>NaN</td>\n      <td>NaN</td>\n    </tr>\n    <tr>\n      <th>4</th>\n      <td>1.0</td>\n      <td>-1149.000000</td>\n      <td>-1149.0</td>\n      <td>-1149.0</td>\n      <td>-1149.0</td>\n      <td>1.0</td>\n      <td>0.0</td>\n      <td>0.0</td>\n      <td>0.0</td>\n      <td>0.0</td>\n      <td>...</td>\n      <td>0.0</td>\n      <td>0.0</td>\n      <td>0.0</td>\n      <td>0.0</td>\n      <td>0.0</td>\n      <td>0.0</td>\n      <td>0.0</td>\n      <td>0.0</td>\n      <td>0.0</td>\n      <td>0.0</td>\n    </tr>\n    <tr>\n      <th>5</th>\n      <td>3.0</td>\n      <td>-757.333333</td>\n      <td>-78.0</td>\n      <td>-1097.0</td>\n      <td>-2272.0</td>\n      <td>3.0</td>\n      <td>0.0</td>\n      <td>0.0</td>\n      <td>0.0</td>\n      <td>0.0</td>\n      <td>...</td>\n      <td>0.0</td>\n      <td>0.0</td>\n      <td>0.0</td>\n      <td>0.0</td>\n      <td>0.0</td>\n      <td>0.0</td>\n      <td>0.0</td>\n      <td>0.0</td>\n      <td>0.0</td>\n      <td>0.0</td>\n    </tr>\n    <tr>\n      <th>6</th>\n      <td>18.0</td>\n      <td>-1271.500000</td>\n      <td>-239.0</td>\n      <td>-2882.0</td>\n      <td>-22887.0</td>\n      <td>18.0</td>\n      <td>0.0</td>\n      <td>0.0</td>\n      <td>0.0</td>\n      <td>0.0</td>\n      <td>...</td>\n      <td>0.0</td>\n      <td>0.0</td>\n      <td>0.0</td>\n      <td>0.0</td>\n      <td>0.0</td>\n      <td>0.0</td>\n      <td>0.0</td>\n      <td>0.0</td>\n      <td>0.0</td>\n      <td>0.0</td>\n    </tr>\n    <tr>\n      <th>7</th>\n      <td>2.0</td>\n      <td>-1939.500000</td>\n      <td>-1138.0</td>\n      <td>-2741.0</td>\n      <td>-3879.0</td>\n      <td>2.0</td>\n      <td>0.0</td>\n      <td>0.0</td>\n      <td>0.0</td>\n      <td>0.0</td>\n      <td>...</td>\n      <td>0.0</td>\n      <td>0.0</td>\n      <td>0.0</td>\n      <td>0.0</td>\n      <td>0.0</td>\n      <td>0.0</td>\n      <td>0.0</td>\n      <td>0.0</td>\n      <td>0.0</td>\n      <td>0.0</td>\n    </tr>\n    <tr>\n      <th>8</th>\n      <td>4.0</td>\n      <td>-1773.000000</td>\n      <td>-1309.0</td>\n      <td>-2508.0</td>\n      <td>-7092.0</td>\n      <td>4.0</td>\n      <td>0.0</td>\n      <td>0.0</td>\n      <td>0.0</td>\n      <td>0.0</td>\n      <td>...</td>\n      <td>0.0</td>\n      <td>0.0</td>\n      <td>0.0</td>\n      <td>0.0</td>\n      <td>0.0</td>\n      <td>0.0</td>\n      <td>0.0</td>\n      <td>0.0</td>\n      <td>0.0</td>\n      <td>0.0</td>\n    </tr>\n    <tr>\n      <th>9</th>\n      <td>NaN</td>\n      <td>NaN</td>\n      <td>NaN</td>\n      <td>NaN</td>\n      <td>NaN</td>\n      <td>NaN</td>\n      <td>NaN</td>\n      <td>NaN</td>\n      <td>NaN</td>\n      <td>NaN</td>\n      <td>...</td>\n      <td>NaN</td>\n      <td>NaN</td>\n      <td>NaN</td>\n      <td>NaN</td>\n      <td>NaN</td>\n      <td>NaN</td>\n      <td>NaN</td>\n      <td>NaN</td>\n      <td>NaN</td>\n      <td>NaN</td>\n    </tr>\n  </tbody>\n</table>\n<p>10 rows × 106 columns</p>\n</div>"
     },
     "execution_count": 26,
     "metadata": {},
     "output_type": "execute_result"
    }
   ]
  },
  {
   "metadata": {
    "_uuid": "a30770ca960821a6c915f6acd54161a37bffb432"
   },
   "cell_type": "markdown",
   "source": [
    "### Function to Handle Categorical Variables\n",
    "\n",
    "To make the code more efficient, we can now write a function to handle the categorical variables for us. This will take the same form as the `agg_numeric` function in that it accepts a dataframe and a grouping variable. Then it will calculate the counts and normalized counts of each category for all categorical variables in the dataframe."
   ]
  },
  {
   "metadata": {
    "_uuid": "ddc7decf9497eaa536255d601f76c3a6259fca6b",
    "collapsed": true,
    "trusted": true
   },
   "cell_type": "code",
   "source": [
    "def count_categorical(df, group_var, df_name):\n",
    "    \"\"\"Computes counts and normalized counts for each observation\n",
    "    of `group_var` of each unique category in every categorical variable\n",
    "    \n",
    "    Parameters\n",
    "    --------\n",
    "    df : dataframe \n",
    "        The dataframe to calculate the value counts for.\n",
    "        \n",
    "    group_var : string\n",
    "        The variable by which to group the dataframe. For each unique\n",
    "        value of this variable, the final dataframe will have one row\n",
    "        \n",
    "    df_name : string\n",
    "        Variable added to the front of column names to keep track of columns\n",
    "\n",
    "    \n",
    "    Return\n",
    "    --------\n",
    "    categorical : dataframe\n",
    "        A dataframe with counts and normalized counts of each unique category in every categorical variable\n",
    "        with one row for every unique value of the `group_var`.\n",
    "        \n",
    "    \"\"\"\n",
    "\n",
    "    # Select the categorical columns\n",
    "    categorical = pd.get_dummies(df.select_dtypes('object'))\n",
    "\n",
    "    # Make sure to put the identifying id on the column\n",
    "    categorical[group_var] = df[group_var]\n",
    "\n",
    "    # Groupby the group var and calculate the sum and mean\n",
    "    categorical = categorical.groupby(group_var).agg(['sum', 'mean'])\n",
    "\n",
    "    column_names = []\n",
    "\n",
    "    # Iterate through the columns in level 0\n",
    "    for var in categorical.columns.levels[0]:\n",
    "        # Iterate through the stats in level 1\n",
    "        for stat in ['count', 'count_norm']:\n",
    "            # Make a new column name\n",
    "            column_names.append('%s_%s_%s' % (df_name, var, stat))\n",
    "\n",
    "    categorical.columns = column_names\n",
    "\n",
    "    return categorical"
   ],
   "execution_count": 27,
   "outputs": []
  },
  {
   "metadata": {
    "_uuid": "d0f1629b07ec6e75e98da459f22611d275fcb282",
    "trusted": true
   },
   "cell_type": "code",
   "source": [
    "bureau_counts = count_categorical(bureau, group_var='SK_ID_CURR', df_name='bureau')\n",
    "bureau_counts.head()"
   ],
   "execution_count": 28,
   "outputs": [
    {
     "data": {
      "text/plain": "            bureau_CREDIT_ACTIVE_Active_count  \\\nSK_ID_CURR                                      \n100001                                      3   \n100002                                      2   \n100003                                      1   \n100004                                      0   \n100005                                      2   \n\n            bureau_CREDIT_ACTIVE_Active_count_norm  \\\nSK_ID_CURR                                           \n100001                                    0.428571   \n100002                                    0.250000   \n100003                                    0.250000   \n100004                                    0.000000   \n100005                                    0.666667   \n\n            bureau_CREDIT_ACTIVE_Bad debt_count  \\\nSK_ID_CURR                                        \n100001                                        0   \n100002                                        0   \n100003                                        0   \n100004                                        0   \n100005                                        0   \n\n            bureau_CREDIT_ACTIVE_Bad debt_count_norm  \\\nSK_ID_CURR                                             \n100001                                           0.0   \n100002                                           0.0   \n100003                                           0.0   \n100004                                           0.0   \n100005                                           0.0   \n\n            bureau_CREDIT_ACTIVE_Closed_count  \\\nSK_ID_CURR                                      \n100001                                      4   \n100002                                      6   \n100003                                      3   \n100004                                      2   \n100005                                      1   \n\n            bureau_CREDIT_ACTIVE_Closed_count_norm  \\\nSK_ID_CURR                                           \n100001                                    0.571429   \n100002                                    0.750000   \n100003                                    0.750000   \n100004                                    1.000000   \n100005                                    0.333333   \n\n            bureau_CREDIT_ACTIVE_Sold_count  \\\nSK_ID_CURR                                    \n100001                                    0   \n100002                                    0   \n100003                                    0   \n100004                                    0   \n100005                                    0   \n\n            bureau_CREDIT_ACTIVE_Sold_count_norm  \\\nSK_ID_CURR                                         \n100001                                       0.0   \n100002                                       0.0   \n100003                                       0.0   \n100004                                       0.0   \n100005                                       0.0   \n\n            bureau_CREDIT_CURRENCY_currency 1_count  \\\nSK_ID_CURR                                            \n100001                                            7   \n100002                                            8   \n100003                                            4   \n100004                                            2   \n100005                                            3   \n\n            bureau_CREDIT_CURRENCY_currency 1_count_norm  ...  \\\nSK_ID_CURR                                                ...   \n100001                                               1.0  ...   \n100002                                               1.0  ...   \n100003                                               1.0  ...   \n100004                                               1.0  ...   \n100005                                               1.0  ...   \n\n            bureau_CREDIT_TYPE_Microloan_count  \\\nSK_ID_CURR                                       \n100001                                       0   \n100002                                       0   \n100003                                       0   \n100004                                       0   \n100005                                       0   \n\n            bureau_CREDIT_TYPE_Microloan_count_norm  \\\nSK_ID_CURR                                            \n100001                                          0.0   \n100002                                          0.0   \n100003                                          0.0   \n100004                                          0.0   \n100005                                          0.0   \n\n            bureau_CREDIT_TYPE_Mobile operator loan_count  \\\nSK_ID_CURR                                                  \n100001                                                  0   \n100002                                                  0   \n100003                                                  0   \n100004                                                  0   \n100005                                                  0   \n\n            bureau_CREDIT_TYPE_Mobile operator loan_count_norm  \\\nSK_ID_CURR                                                       \n100001                                                    0.0    \n100002                                                    0.0    \n100003                                                    0.0    \n100004                                                    0.0    \n100005                                                    0.0    \n\n            bureau_CREDIT_TYPE_Mortgage_count  \\\nSK_ID_CURR                                      \n100001                                      0   \n100002                                      0   \n100003                                      0   \n100004                                      0   \n100005                                      0   \n\n            bureau_CREDIT_TYPE_Mortgage_count_norm  \\\nSK_ID_CURR                                           \n100001                                         0.0   \n100002                                         0.0   \n100003                                         0.0   \n100004                                         0.0   \n100005                                         0.0   \n\n            bureau_CREDIT_TYPE_Real estate loan_count  \\\nSK_ID_CURR                                              \n100001                                              0   \n100002                                              0   \n100003                                              0   \n100004                                              0   \n100005                                              0   \n\n            bureau_CREDIT_TYPE_Real estate loan_count_norm  \\\nSK_ID_CURR                                                   \n100001                                                 0.0   \n100002                                                 0.0   \n100003                                                 0.0   \n100004                                                 0.0   \n100005                                                 0.0   \n\n            bureau_CREDIT_TYPE_Unknown type of loan_count  \\\nSK_ID_CURR                                                  \n100001                                                  0   \n100002                                                  0   \n100003                                                  0   \n100004                                                  0   \n100005                                                  0   \n\n            bureau_CREDIT_TYPE_Unknown type of loan_count_norm  \nSK_ID_CURR                                                      \n100001                                                    0.0   \n100002                                                    0.0   \n100003                                                    0.0   \n100004                                                    0.0   \n100005                                                    0.0   \n\n[5 rows x 46 columns]",
      "text/html": "<div>\n<style scoped>\n    .dataframe tbody tr th:only-of-type {\n        vertical-align: middle;\n    }\n\n    .dataframe tbody tr th {\n        vertical-align: top;\n    }\n\n    .dataframe thead th {\n        text-align: right;\n    }\n</style>\n<table border=\"1\" class=\"dataframe\">\n  <thead>\n    <tr style=\"text-align: right;\">\n      <th></th>\n      <th>bureau_CREDIT_ACTIVE_Active_count</th>\n      <th>bureau_CREDIT_ACTIVE_Active_count_norm</th>\n      <th>bureau_CREDIT_ACTIVE_Bad debt_count</th>\n      <th>bureau_CREDIT_ACTIVE_Bad debt_count_norm</th>\n      <th>bureau_CREDIT_ACTIVE_Closed_count</th>\n      <th>bureau_CREDIT_ACTIVE_Closed_count_norm</th>\n      <th>bureau_CREDIT_ACTIVE_Sold_count</th>\n      <th>bureau_CREDIT_ACTIVE_Sold_count_norm</th>\n      <th>bureau_CREDIT_CURRENCY_currency 1_count</th>\n      <th>bureau_CREDIT_CURRENCY_currency 1_count_norm</th>\n      <th>...</th>\n      <th>bureau_CREDIT_TYPE_Microloan_count</th>\n      <th>bureau_CREDIT_TYPE_Microloan_count_norm</th>\n      <th>bureau_CREDIT_TYPE_Mobile operator loan_count</th>\n      <th>bureau_CREDIT_TYPE_Mobile operator loan_count_norm</th>\n      <th>bureau_CREDIT_TYPE_Mortgage_count</th>\n      <th>bureau_CREDIT_TYPE_Mortgage_count_norm</th>\n      <th>bureau_CREDIT_TYPE_Real estate loan_count</th>\n      <th>bureau_CREDIT_TYPE_Real estate loan_count_norm</th>\n      <th>bureau_CREDIT_TYPE_Unknown type of loan_count</th>\n      <th>bureau_CREDIT_TYPE_Unknown type of loan_count_norm</th>\n    </tr>\n    <tr>\n      <th>SK_ID_CURR</th>\n      <th></th>\n      <th></th>\n      <th></th>\n      <th></th>\n      <th></th>\n      <th></th>\n      <th></th>\n      <th></th>\n      <th></th>\n      <th></th>\n      <th></th>\n      <th></th>\n      <th></th>\n      <th></th>\n      <th></th>\n      <th></th>\n      <th></th>\n      <th></th>\n      <th></th>\n      <th></th>\n      <th></th>\n    </tr>\n  </thead>\n  <tbody>\n    <tr>\n      <th>100001</th>\n      <td>3</td>\n      <td>0.428571</td>\n      <td>0</td>\n      <td>0.0</td>\n      <td>4</td>\n      <td>0.571429</td>\n      <td>0</td>\n      <td>0.0</td>\n      <td>7</td>\n      <td>1.0</td>\n      <td>...</td>\n      <td>0</td>\n      <td>0.0</td>\n      <td>0</td>\n      <td>0.0</td>\n      <td>0</td>\n      <td>0.0</td>\n      <td>0</td>\n      <td>0.0</td>\n      <td>0</td>\n      <td>0.0</td>\n    </tr>\n    <tr>\n      <th>100002</th>\n      <td>2</td>\n      <td>0.250000</td>\n      <td>0</td>\n      <td>0.0</td>\n      <td>6</td>\n      <td>0.750000</td>\n      <td>0</td>\n      <td>0.0</td>\n      <td>8</td>\n      <td>1.0</td>\n      <td>...</td>\n      <td>0</td>\n      <td>0.0</td>\n      <td>0</td>\n      <td>0.0</td>\n      <td>0</td>\n      <td>0.0</td>\n      <td>0</td>\n      <td>0.0</td>\n      <td>0</td>\n      <td>0.0</td>\n    </tr>\n    <tr>\n      <th>100003</th>\n      <td>1</td>\n      <td>0.250000</td>\n      <td>0</td>\n      <td>0.0</td>\n      <td>3</td>\n      <td>0.750000</td>\n      <td>0</td>\n      <td>0.0</td>\n      <td>4</td>\n      <td>1.0</td>\n      <td>...</td>\n      <td>0</td>\n      <td>0.0</td>\n      <td>0</td>\n      <td>0.0</td>\n      <td>0</td>\n      <td>0.0</td>\n      <td>0</td>\n      <td>0.0</td>\n      <td>0</td>\n      <td>0.0</td>\n    </tr>\n    <tr>\n      <th>100004</th>\n      <td>0</td>\n      <td>0.000000</td>\n      <td>0</td>\n      <td>0.0</td>\n      <td>2</td>\n      <td>1.000000</td>\n      <td>0</td>\n      <td>0.0</td>\n      <td>2</td>\n      <td>1.0</td>\n      <td>...</td>\n      <td>0</td>\n      <td>0.0</td>\n      <td>0</td>\n      <td>0.0</td>\n      <td>0</td>\n      <td>0.0</td>\n      <td>0</td>\n      <td>0.0</td>\n      <td>0</td>\n      <td>0.0</td>\n    </tr>\n    <tr>\n      <th>100005</th>\n      <td>2</td>\n      <td>0.666667</td>\n      <td>0</td>\n      <td>0.0</td>\n      <td>1</td>\n      <td>0.333333</td>\n      <td>0</td>\n      <td>0.0</td>\n      <td>3</td>\n      <td>1.0</td>\n      <td>...</td>\n      <td>0</td>\n      <td>0.0</td>\n      <td>0</td>\n      <td>0.0</td>\n      <td>0</td>\n      <td>0.0</td>\n      <td>0</td>\n      <td>0.0</td>\n      <td>0</td>\n      <td>0.0</td>\n    </tr>\n  </tbody>\n</table>\n<p>5 rows × 46 columns</p>\n</div>"
     },
     "execution_count": 28,
     "metadata": {},
     "output_type": "execute_result"
    }
   ]
  },
  {
   "metadata": {
    "_uuid": "cecd442561b3a8405721875878bcbb90c94f2517"
   },
   "cell_type": "markdown",
   "source": [
    "### Applying Operations to another dataframe\n",
    "\n",
    "We will now turn to the bureau balance dataframe. This dataframe has monthly information about each client's previous loan(s) with other financial institutions. Instead of grouping this dataframe by the `SK_ID_CURR` which is the client id, we will first group the dataframe by the `SK_ID_BUREAU` which is the id of the previous loan. This will give us one row of the dataframe for each loan. Then, we can group by the `SK_ID_CURR` and calculate the aggregations across the loans of each client. The final result will be a dataframe with one row for each client, with stats calculated for their loans."
   ]
  },
  {
   "metadata": {
    "_uuid": "b49d1c1553eb3c0a8887d967fe9c981b015a7e40",
    "trusted": true
   },
   "cell_type": "code",
   "source": [
    "# Read in bureau balance\n",
    "bureau_balance = pd.read_csv('./input/bureau_balance.csv')\n",
    "bureau_balance.head()"
   ],
   "execution_count": 29,
   "outputs": [
    {
     "data": {
      "text/plain": "   SK_ID_BUREAU  MONTHS_BALANCE STATUS\n0       5715448               0      C\n1       5715448              -1      C\n2       5715448              -2      C\n3       5715448              -3      C\n4       5715448              -4      C",
      "text/html": "<div>\n<style scoped>\n    .dataframe tbody tr th:only-of-type {\n        vertical-align: middle;\n    }\n\n    .dataframe tbody tr th {\n        vertical-align: top;\n    }\n\n    .dataframe thead th {\n        text-align: right;\n    }\n</style>\n<table border=\"1\" class=\"dataframe\">\n  <thead>\n    <tr style=\"text-align: right;\">\n      <th></th>\n      <th>SK_ID_BUREAU</th>\n      <th>MONTHS_BALANCE</th>\n      <th>STATUS</th>\n    </tr>\n  </thead>\n  <tbody>\n    <tr>\n      <th>0</th>\n      <td>5715448</td>\n      <td>0</td>\n      <td>C</td>\n    </tr>\n    <tr>\n      <th>1</th>\n      <td>5715448</td>\n      <td>-1</td>\n      <td>C</td>\n    </tr>\n    <tr>\n      <th>2</th>\n      <td>5715448</td>\n      <td>-2</td>\n      <td>C</td>\n    </tr>\n    <tr>\n      <th>3</th>\n      <td>5715448</td>\n      <td>-3</td>\n      <td>C</td>\n    </tr>\n    <tr>\n      <th>4</th>\n      <td>5715448</td>\n      <td>-4</td>\n      <td>C</td>\n    </tr>\n  </tbody>\n</table>\n</div>"
     },
     "execution_count": 29,
     "metadata": {},
     "output_type": "execute_result"
    }
   ]
  },
  {
   "metadata": {
    "_uuid": "815ea915661653e3322e5cbf0f60614754411526"
   },
   "cell_type": "markdown",
   "source": [
    "First, we can calculate the value counts of each status for each loan. Fortunately, we already have a function that does this for us! "
   ]
  },
  {
   "metadata": {
    "_uuid": "891d69c6cf3634d2fab71b0c8cc1eb212f433083",
    "trusted": true
   },
   "cell_type": "code",
   "source": [
    "# Counts of each type of status for each previous loan\n",
    "bureau_balance_counts = count_categorical(bureau_balance, group_var='SK_ID_BUREAU', df_name='bureau_balance')\n",
    "bureau_balance_counts.head()"
   ],
   "execution_count": 30,
   "outputs": [
    {
     "data": {
      "text/plain": "              bureau_balance_STATUS_0_count  \\\nSK_ID_BUREAU                                  \n5001709                                   0   \n5001710                                   5   \n5001711                                   3   \n5001712                                  10   \n5001713                                   0   \n\n              bureau_balance_STATUS_0_count_norm  \\\nSK_ID_BUREAU                                       \n5001709                                 0.000000   \n5001710                                 0.060241   \n5001711                                 0.750000   \n5001712                                 0.526316   \n5001713                                 0.000000   \n\n              bureau_balance_STATUS_1_count  \\\nSK_ID_BUREAU                                  \n5001709                                   0   \n5001710                                   0   \n5001711                                   0   \n5001712                                   0   \n5001713                                   0   \n\n              bureau_balance_STATUS_1_count_norm  \\\nSK_ID_BUREAU                                       \n5001709                                      0.0   \n5001710                                      0.0   \n5001711                                      0.0   \n5001712                                      0.0   \n5001713                                      0.0   \n\n              bureau_balance_STATUS_2_count  \\\nSK_ID_BUREAU                                  \n5001709                                   0   \n5001710                                   0   \n5001711                                   0   \n5001712                                   0   \n5001713                                   0   \n\n              bureau_balance_STATUS_2_count_norm  \\\nSK_ID_BUREAU                                       \n5001709                                      0.0   \n5001710                                      0.0   \n5001711                                      0.0   \n5001712                                      0.0   \n5001713                                      0.0   \n\n              bureau_balance_STATUS_3_count  \\\nSK_ID_BUREAU                                  \n5001709                                   0   \n5001710                                   0   \n5001711                                   0   \n5001712                                   0   \n5001713                                   0   \n\n              bureau_balance_STATUS_3_count_norm  \\\nSK_ID_BUREAU                                       \n5001709                                      0.0   \n5001710                                      0.0   \n5001711                                      0.0   \n5001712                                      0.0   \n5001713                                      0.0   \n\n              bureau_balance_STATUS_4_count  \\\nSK_ID_BUREAU                                  \n5001709                                   0   \n5001710                                   0   \n5001711                                   0   \n5001712                                   0   \n5001713                                   0   \n\n              bureau_balance_STATUS_4_count_norm  \\\nSK_ID_BUREAU                                       \n5001709                                      0.0   \n5001710                                      0.0   \n5001711                                      0.0   \n5001712                                      0.0   \n5001713                                      0.0   \n\n              bureau_balance_STATUS_5_count  \\\nSK_ID_BUREAU                                  \n5001709                                   0   \n5001710                                   0   \n5001711                                   0   \n5001712                                   0   \n5001713                                   0   \n\n              bureau_balance_STATUS_5_count_norm  \\\nSK_ID_BUREAU                                       \n5001709                                      0.0   \n5001710                                      0.0   \n5001711                                      0.0   \n5001712                                      0.0   \n5001713                                      0.0   \n\n              bureau_balance_STATUS_C_count  \\\nSK_ID_BUREAU                                  \n5001709                                  86   \n5001710                                  48   \n5001711                                   0   \n5001712                                   9   \n5001713                                   0   \n\n              bureau_balance_STATUS_C_count_norm  \\\nSK_ID_BUREAU                                       \n5001709                                 0.886598   \n5001710                                 0.578313   \n5001711                                 0.000000   \n5001712                                 0.473684   \n5001713                                 0.000000   \n\n              bureau_balance_STATUS_X_count  \\\nSK_ID_BUREAU                                  \n5001709                                  11   \n5001710                                  30   \n5001711                                   1   \n5001712                                   0   \n5001713                                  22   \n\n              bureau_balance_STATUS_X_count_norm  \nSK_ID_BUREAU                                      \n5001709                                 0.113402  \n5001710                                 0.361446  \n5001711                                 0.250000  \n5001712                                 0.000000  \n5001713                                 1.000000  ",
      "text/html": "<div>\n<style scoped>\n    .dataframe tbody tr th:only-of-type {\n        vertical-align: middle;\n    }\n\n    .dataframe tbody tr th {\n        vertical-align: top;\n    }\n\n    .dataframe thead th {\n        text-align: right;\n    }\n</style>\n<table border=\"1\" class=\"dataframe\">\n  <thead>\n    <tr style=\"text-align: right;\">\n      <th></th>\n      <th>bureau_balance_STATUS_0_count</th>\n      <th>bureau_balance_STATUS_0_count_norm</th>\n      <th>bureau_balance_STATUS_1_count</th>\n      <th>bureau_balance_STATUS_1_count_norm</th>\n      <th>bureau_balance_STATUS_2_count</th>\n      <th>bureau_balance_STATUS_2_count_norm</th>\n      <th>bureau_balance_STATUS_3_count</th>\n      <th>bureau_balance_STATUS_3_count_norm</th>\n      <th>bureau_balance_STATUS_4_count</th>\n      <th>bureau_balance_STATUS_4_count_norm</th>\n      <th>bureau_balance_STATUS_5_count</th>\n      <th>bureau_balance_STATUS_5_count_norm</th>\n      <th>bureau_balance_STATUS_C_count</th>\n      <th>bureau_balance_STATUS_C_count_norm</th>\n      <th>bureau_balance_STATUS_X_count</th>\n      <th>bureau_balance_STATUS_X_count_norm</th>\n    </tr>\n    <tr>\n      <th>SK_ID_BUREAU</th>\n      <th></th>\n      <th></th>\n      <th></th>\n      <th></th>\n      <th></th>\n      <th></th>\n      <th></th>\n      <th></th>\n      <th></th>\n      <th></th>\n      <th></th>\n      <th></th>\n      <th></th>\n      <th></th>\n      <th></th>\n      <th></th>\n    </tr>\n  </thead>\n  <tbody>\n    <tr>\n      <th>5001709</th>\n      <td>0</td>\n      <td>0.000000</td>\n      <td>0</td>\n      <td>0.0</td>\n      <td>0</td>\n      <td>0.0</td>\n      <td>0</td>\n      <td>0.0</td>\n      <td>0</td>\n      <td>0.0</td>\n      <td>0</td>\n      <td>0.0</td>\n      <td>86</td>\n      <td>0.886598</td>\n      <td>11</td>\n      <td>0.113402</td>\n    </tr>\n    <tr>\n      <th>5001710</th>\n      <td>5</td>\n      <td>0.060241</td>\n      <td>0</td>\n      <td>0.0</td>\n      <td>0</td>\n      <td>0.0</td>\n      <td>0</td>\n      <td>0.0</td>\n      <td>0</td>\n      <td>0.0</td>\n      <td>0</td>\n      <td>0.0</td>\n      <td>48</td>\n      <td>0.578313</td>\n      <td>30</td>\n      <td>0.361446</td>\n    </tr>\n    <tr>\n      <th>5001711</th>\n      <td>3</td>\n      <td>0.750000</td>\n      <td>0</td>\n      <td>0.0</td>\n      <td>0</td>\n      <td>0.0</td>\n      <td>0</td>\n      <td>0.0</td>\n      <td>0</td>\n      <td>0.0</td>\n      <td>0</td>\n      <td>0.0</td>\n      <td>0</td>\n      <td>0.000000</td>\n      <td>1</td>\n      <td>0.250000</td>\n    </tr>\n    <tr>\n      <th>5001712</th>\n      <td>10</td>\n      <td>0.526316</td>\n      <td>0</td>\n      <td>0.0</td>\n      <td>0</td>\n      <td>0.0</td>\n      <td>0</td>\n      <td>0.0</td>\n      <td>0</td>\n      <td>0.0</td>\n      <td>0</td>\n      <td>0.0</td>\n      <td>9</td>\n      <td>0.473684</td>\n      <td>0</td>\n      <td>0.000000</td>\n    </tr>\n    <tr>\n      <th>5001713</th>\n      <td>0</td>\n      <td>0.000000</td>\n      <td>0</td>\n      <td>0.0</td>\n      <td>0</td>\n      <td>0.0</td>\n      <td>0</td>\n      <td>0.0</td>\n      <td>0</td>\n      <td>0.0</td>\n      <td>0</td>\n      <td>0.0</td>\n      <td>0</td>\n      <td>0.000000</td>\n      <td>22</td>\n      <td>1.000000</td>\n    </tr>\n  </tbody>\n</table>\n</div>"
     },
     "execution_count": 30,
     "metadata": {},
     "output_type": "execute_result"
    }
   ]
  },
  {
   "metadata": {
    "_uuid": "4b1b1623a426efd45f7488636ffffc6b54c68d8e"
   },
   "cell_type": "markdown",
   "source": [
    "Now we can handle the one numeric column. The `MONTHS_BALANCE` column has the \"months of balance relative to application date.\" This might not necessarily be that important as a numeric variable, and in future work we might want to consider this as a time variable. For now, we can just calculate the same aggregation statistics as previously. "
   ]
  },
  {
   "metadata": {
    "_uuid": "da531864649dc2b8dab18c31019fc36d6ec6469d",
    "trusted": true
   },
   "cell_type": "code",
   "source": [
    "# Calculate value count statistics for each `SK_ID_CURR` \n",
    "bureau_balance_agg = agg_numeric(bureau_balance, group_var='SK_ID_BUREAU', df_name='bureau_balance')\n",
    "bureau_balance_agg.head()"
   ],
   "execution_count": 31,
   "outputs": [
    {
     "data": {
      "text/plain": "   SK_ID_BUREAU  bureau_balance_MONTHS_BALANCE_count  \\\n0       5001709                                   97   \n1       5001710                                   83   \n2       5001711                                    4   \n3       5001712                                   19   \n4       5001713                                   22   \n\n   bureau_balance_MONTHS_BALANCE_mean  bureau_balance_MONTHS_BALANCE_max  \\\n0                               -48.0                                  0   \n1                               -41.0                                  0   \n2                                -1.5                                  0   \n3                                -9.0                                  0   \n4                               -10.5                                  0   \n\n   bureau_balance_MONTHS_BALANCE_min  bureau_balance_MONTHS_BALANCE_sum  \n0                                -96                              -4656  \n1                                -82                              -3403  \n2                                 -3                                 -6  \n3                                -18                               -171  \n4                                -21                               -231  ",
      "text/html": "<div>\n<style scoped>\n    .dataframe tbody tr th:only-of-type {\n        vertical-align: middle;\n    }\n\n    .dataframe tbody tr th {\n        vertical-align: top;\n    }\n\n    .dataframe thead th {\n        text-align: right;\n    }\n</style>\n<table border=\"1\" class=\"dataframe\">\n  <thead>\n    <tr style=\"text-align: right;\">\n      <th></th>\n      <th>SK_ID_BUREAU</th>\n      <th>bureau_balance_MONTHS_BALANCE_count</th>\n      <th>bureau_balance_MONTHS_BALANCE_mean</th>\n      <th>bureau_balance_MONTHS_BALANCE_max</th>\n      <th>bureau_balance_MONTHS_BALANCE_min</th>\n      <th>bureau_balance_MONTHS_BALANCE_sum</th>\n    </tr>\n  </thead>\n  <tbody>\n    <tr>\n      <th>0</th>\n      <td>5001709</td>\n      <td>97</td>\n      <td>-48.0</td>\n      <td>0</td>\n      <td>-96</td>\n      <td>-4656</td>\n    </tr>\n    <tr>\n      <th>1</th>\n      <td>5001710</td>\n      <td>83</td>\n      <td>-41.0</td>\n      <td>0</td>\n      <td>-82</td>\n      <td>-3403</td>\n    </tr>\n    <tr>\n      <th>2</th>\n      <td>5001711</td>\n      <td>4</td>\n      <td>-1.5</td>\n      <td>0</td>\n      <td>-3</td>\n      <td>-6</td>\n    </tr>\n    <tr>\n      <th>3</th>\n      <td>5001712</td>\n      <td>19</td>\n      <td>-9.0</td>\n      <td>0</td>\n      <td>-18</td>\n      <td>-171</td>\n    </tr>\n    <tr>\n      <th>4</th>\n      <td>5001713</td>\n      <td>22</td>\n      <td>-10.5</td>\n      <td>0</td>\n      <td>-21</td>\n      <td>-231</td>\n    </tr>\n  </tbody>\n</table>\n</div>"
     },
     "execution_count": 31,
     "metadata": {},
     "output_type": "execute_result"
    }
   ]
  },
  {
   "metadata": {
    "_uuid": "50b714b2165463138c29715ad68919bcc47aac2d"
   },
   "cell_type": "markdown",
   "source": [
    "The above dataframes have the calculations done on each _loan_. Now we need to aggregate these for each _client_. We can do this by merging the dataframes together first and then since all the variables are numeric, we just need to aggregate the statistics again, this time grouping by the `SK_ID_CURR`. "
   ]
  },
  {
   "metadata": {
    "_uuid": "dbd657d3cbe3cf9948ba8d7543f6653e61025bc6",
    "trusted": true
   },
   "cell_type": "code",
   "source": [
    "# Dataframe grouped by the loan\n",
    "bureau_by_loan = bureau_balance_agg.merge(bureau_balance_counts, right_index=True, left_on='SK_ID_BUREAU', how='outer')\n",
    "\n",
    "# Merge to include the SK_ID_CURR\n",
    "bureau_by_loan = bureau_by_loan.merge(bureau[['SK_ID_BUREAU', 'SK_ID_CURR']], on='SK_ID_BUREAU', how='left')\n",
    "\n",
    "bureau_by_loan.head()"
   ],
   "execution_count": 32,
   "outputs": [
    {
     "data": {
      "text/plain": "   SK_ID_BUREAU  bureau_balance_MONTHS_BALANCE_count  \\\n0       5001709                                   97   \n1       5001710                                   83   \n2       5001711                                    4   \n3       5001712                                   19   \n4       5001713                                   22   \n\n   bureau_balance_MONTHS_BALANCE_mean  bureau_balance_MONTHS_BALANCE_max  \\\n0                               -48.0                                  0   \n1                               -41.0                                  0   \n2                                -1.5                                  0   \n3                                -9.0                                  0   \n4                               -10.5                                  0   \n\n   bureau_balance_MONTHS_BALANCE_min  bureau_balance_MONTHS_BALANCE_sum  \\\n0                                -96                              -4656   \n1                                -82                              -3403   \n2                                 -3                                 -6   \n3                                -18                               -171   \n4                                -21                               -231   \n\n   bureau_balance_STATUS_0_count  bureau_balance_STATUS_0_count_norm  \\\n0                              0                            0.000000   \n1                              5                            0.060241   \n2                              3                            0.750000   \n3                             10                            0.526316   \n4                              0                            0.000000   \n\n   bureau_balance_STATUS_1_count  bureau_balance_STATUS_1_count_norm  ...  \\\n0                              0                                 0.0  ...   \n1                              0                                 0.0  ...   \n2                              0                                 0.0  ...   \n3                              0                                 0.0  ...   \n4                              0                                 0.0  ...   \n\n   bureau_balance_STATUS_3_count_norm  bureau_balance_STATUS_4_count  \\\n0                                 0.0                              0   \n1                                 0.0                              0   \n2                                 0.0                              0   \n3                                 0.0                              0   \n4                                 0.0                              0   \n\n   bureau_balance_STATUS_4_count_norm  bureau_balance_STATUS_5_count  \\\n0                                 0.0                              0   \n1                                 0.0                              0   \n2                                 0.0                              0   \n3                                 0.0                              0   \n4                                 0.0                              0   \n\n   bureau_balance_STATUS_5_count_norm  bureau_balance_STATUS_C_count  \\\n0                                 0.0                             86   \n1                                 0.0                             48   \n2                                 0.0                              0   \n3                                 0.0                              9   \n4                                 0.0                              0   \n\n   bureau_balance_STATUS_C_count_norm  bureau_balance_STATUS_X_count  \\\n0                            0.886598                             11   \n1                            0.578313                             30   \n2                            0.000000                              1   \n3                            0.473684                              0   \n4                            0.000000                             22   \n\n   bureau_balance_STATUS_X_count_norm  SK_ID_CURR  \n0                            0.113402         NaN  \n1                            0.361446    162368.0  \n2                            0.250000    162368.0  \n3                            0.000000    162368.0  \n4                            1.000000    150635.0  \n\n[5 rows x 23 columns]",
      "text/html": "<div>\n<style scoped>\n    .dataframe tbody tr th:only-of-type {\n        vertical-align: middle;\n    }\n\n    .dataframe tbody tr th {\n        vertical-align: top;\n    }\n\n    .dataframe thead th {\n        text-align: right;\n    }\n</style>\n<table border=\"1\" class=\"dataframe\">\n  <thead>\n    <tr style=\"text-align: right;\">\n      <th></th>\n      <th>SK_ID_BUREAU</th>\n      <th>bureau_balance_MONTHS_BALANCE_count</th>\n      <th>bureau_balance_MONTHS_BALANCE_mean</th>\n      <th>bureau_balance_MONTHS_BALANCE_max</th>\n      <th>bureau_balance_MONTHS_BALANCE_min</th>\n      <th>bureau_balance_MONTHS_BALANCE_sum</th>\n      <th>bureau_balance_STATUS_0_count</th>\n      <th>bureau_balance_STATUS_0_count_norm</th>\n      <th>bureau_balance_STATUS_1_count</th>\n      <th>bureau_balance_STATUS_1_count_norm</th>\n      <th>...</th>\n      <th>bureau_balance_STATUS_3_count_norm</th>\n      <th>bureau_balance_STATUS_4_count</th>\n      <th>bureau_balance_STATUS_4_count_norm</th>\n      <th>bureau_balance_STATUS_5_count</th>\n      <th>bureau_balance_STATUS_5_count_norm</th>\n      <th>bureau_balance_STATUS_C_count</th>\n      <th>bureau_balance_STATUS_C_count_norm</th>\n      <th>bureau_balance_STATUS_X_count</th>\n      <th>bureau_balance_STATUS_X_count_norm</th>\n      <th>SK_ID_CURR</th>\n    </tr>\n  </thead>\n  <tbody>\n    <tr>\n      <th>0</th>\n      <td>5001709</td>\n      <td>97</td>\n      <td>-48.0</td>\n      <td>0</td>\n      <td>-96</td>\n      <td>-4656</td>\n      <td>0</td>\n      <td>0.000000</td>\n      <td>0</td>\n      <td>0.0</td>\n      <td>...</td>\n      <td>0.0</td>\n      <td>0</td>\n      <td>0.0</td>\n      <td>0</td>\n      <td>0.0</td>\n      <td>86</td>\n      <td>0.886598</td>\n      <td>11</td>\n      <td>0.113402</td>\n      <td>NaN</td>\n    </tr>\n    <tr>\n      <th>1</th>\n      <td>5001710</td>\n      <td>83</td>\n      <td>-41.0</td>\n      <td>0</td>\n      <td>-82</td>\n      <td>-3403</td>\n      <td>5</td>\n      <td>0.060241</td>\n      <td>0</td>\n      <td>0.0</td>\n      <td>...</td>\n      <td>0.0</td>\n      <td>0</td>\n      <td>0.0</td>\n      <td>0</td>\n      <td>0.0</td>\n      <td>48</td>\n      <td>0.578313</td>\n      <td>30</td>\n      <td>0.361446</td>\n      <td>162368.0</td>\n    </tr>\n    <tr>\n      <th>2</th>\n      <td>5001711</td>\n      <td>4</td>\n      <td>-1.5</td>\n      <td>0</td>\n      <td>-3</td>\n      <td>-6</td>\n      <td>3</td>\n      <td>0.750000</td>\n      <td>0</td>\n      <td>0.0</td>\n      <td>...</td>\n      <td>0.0</td>\n      <td>0</td>\n      <td>0.0</td>\n      <td>0</td>\n      <td>0.0</td>\n      <td>0</td>\n      <td>0.000000</td>\n      <td>1</td>\n      <td>0.250000</td>\n      <td>162368.0</td>\n    </tr>\n    <tr>\n      <th>3</th>\n      <td>5001712</td>\n      <td>19</td>\n      <td>-9.0</td>\n      <td>0</td>\n      <td>-18</td>\n      <td>-171</td>\n      <td>10</td>\n      <td>0.526316</td>\n      <td>0</td>\n      <td>0.0</td>\n      <td>...</td>\n      <td>0.0</td>\n      <td>0</td>\n      <td>0.0</td>\n      <td>0</td>\n      <td>0.0</td>\n      <td>9</td>\n      <td>0.473684</td>\n      <td>0</td>\n      <td>0.000000</td>\n      <td>162368.0</td>\n    </tr>\n    <tr>\n      <th>4</th>\n      <td>5001713</td>\n      <td>22</td>\n      <td>-10.5</td>\n      <td>0</td>\n      <td>-21</td>\n      <td>-231</td>\n      <td>0</td>\n      <td>0.000000</td>\n      <td>0</td>\n      <td>0.0</td>\n      <td>...</td>\n      <td>0.0</td>\n      <td>0</td>\n      <td>0.0</td>\n      <td>0</td>\n      <td>0.0</td>\n      <td>0</td>\n      <td>0.000000</td>\n      <td>22</td>\n      <td>1.000000</td>\n      <td>150635.0</td>\n    </tr>\n  </tbody>\n</table>\n<p>5 rows × 23 columns</p>\n</div>"
     },
     "execution_count": 32,
     "metadata": {},
     "output_type": "execute_result"
    }
   ]
  },
  {
   "metadata": {
    "_uuid": "ae22ded2231b37858d9d1d0c3c5b0eb72202c6ab",
    "trusted": true
   },
   "cell_type": "code",
   "source": [
    "bureau_balance_by_client = agg_numeric(bureau_by_loan.drop(columns=['SK_ID_BUREAU']), group_var='SK_ID_CURR', df_name='client')\n",
    "bureau_balance_by_client.head()"
   ],
   "execution_count": 33,
   "outputs": [
    {
     "data": {
      "text/plain": "   SK_ID_CURR  client_bureau_balance_MONTHS_BALANCE_count_count  \\\n0    100001.0                                                 7   \n1    100002.0                                                 8   \n2    100005.0                                                 3   \n3    100010.0                                                 2   \n4    100013.0                                                 4   \n\n   client_bureau_balance_MONTHS_BALANCE_count_mean  \\\n0                                        24.571429   \n1                                        13.750000   \n2                                         7.000000   \n3                                        36.000000   \n4                                        57.500000   \n\n   client_bureau_balance_MONTHS_BALANCE_count_max  \\\n0                                              52   \n1                                              22   \n2                                              13   \n3                                              36   \n4                                              69   \n\n   client_bureau_balance_MONTHS_BALANCE_count_min  \\\n0                                               2   \n1                                               4   \n2                                               3   \n3                                              36   \n4                                              40   \n\n   client_bureau_balance_MONTHS_BALANCE_count_sum  \\\n0                                             172   \n1                                             110   \n2                                              21   \n3                                              72   \n4                                             230   \n\n   client_bureau_balance_MONTHS_BALANCE_mean_count  \\\n0                                                7   \n1                                                8   \n2                                                3   \n3                                                2   \n4                                                4   \n\n   client_bureau_balance_MONTHS_BALANCE_mean_mean  \\\n0                                      -11.785714   \n1                                      -21.875000   \n2                                       -3.000000   \n3                                      -46.000000   \n4                                      -28.250000   \n\n   client_bureau_balance_MONTHS_BALANCE_mean_max  \\\n0                                           -0.5   \n1                                           -1.5   \n2                                           -1.0   \n3                                          -19.5   \n4                                          -19.5   \n\n   client_bureau_balance_MONTHS_BALANCE_mean_min  ...  \\\n0                                          -25.5  ...   \n1                                          -39.5  ...   \n2                                           -6.0  ...   \n3                                          -72.5  ...   \n4                                          -34.0  ...   \n\n   client_bureau_balance_STATUS_X_count_count  \\\n0                                           7   \n1                                           8   \n2                                           3   \n3                                           2   \n4                                           4   \n\n   client_bureau_balance_STATUS_X_count_mean  \\\n0                                   4.285714   \n1                                   1.875000   \n2                                   0.666667   \n3                                   0.000000   \n4                                  10.250000   \n\n   client_bureau_balance_STATUS_X_count_max  \\\n0                                         9   \n1                                         3   \n2                                         1   \n3                                         0   \n4                                        40   \n\n   client_bureau_balance_STATUS_X_count_min  \\\n0                                         0   \n1                                         0   \n2                                         0   \n3                                         0   \n4                                         0   \n\n   client_bureau_balance_STATUS_X_count_sum  \\\n0                                      30.0   \n1                                      15.0   \n2                                       2.0   \n3                                       0.0   \n4                                      41.0   \n\n   client_bureau_balance_STATUS_X_count_norm_count  \\\n0                                                7   \n1                                                8   \n2                                                3   \n3                                                2   \n4                                                4   \n\n   client_bureau_balance_STATUS_X_count_norm_mean  \\\n0                                        0.214590   \n1                                        0.161932   \n2                                        0.136752   \n3                                        0.000000   \n4                                        0.254545   \n\n   client_bureau_balance_STATUS_X_count_norm_max  \\\n0                                       0.500000   \n1                                       0.500000   \n2                                       0.333333   \n3                                       0.000000   \n4                                       1.000000   \n\n   client_bureau_balance_STATUS_X_count_norm_min  \\\n0                                            0.0   \n1                                            0.0   \n2                                            0.0   \n3                                            0.0   \n4                                            0.0   \n\n   client_bureau_balance_STATUS_X_count_norm_sum  \n0                                       1.502129  \n1                                       1.295455  \n2                                       0.410256  \n3                                       0.000000  \n4                                       1.018182  \n\n[5 rows x 106 columns]",
      "text/html": "<div>\n<style scoped>\n    .dataframe tbody tr th:only-of-type {\n        vertical-align: middle;\n    }\n\n    .dataframe tbody tr th {\n        vertical-align: top;\n    }\n\n    .dataframe thead th {\n        text-align: right;\n    }\n</style>\n<table border=\"1\" class=\"dataframe\">\n  <thead>\n    <tr style=\"text-align: right;\">\n      <th></th>\n      <th>SK_ID_CURR</th>\n      <th>client_bureau_balance_MONTHS_BALANCE_count_count</th>\n      <th>client_bureau_balance_MONTHS_BALANCE_count_mean</th>\n      <th>client_bureau_balance_MONTHS_BALANCE_count_max</th>\n      <th>client_bureau_balance_MONTHS_BALANCE_count_min</th>\n      <th>client_bureau_balance_MONTHS_BALANCE_count_sum</th>\n      <th>client_bureau_balance_MONTHS_BALANCE_mean_count</th>\n      <th>client_bureau_balance_MONTHS_BALANCE_mean_mean</th>\n      <th>client_bureau_balance_MONTHS_BALANCE_mean_max</th>\n      <th>client_bureau_balance_MONTHS_BALANCE_mean_min</th>\n      <th>...</th>\n      <th>client_bureau_balance_STATUS_X_count_count</th>\n      <th>client_bureau_balance_STATUS_X_count_mean</th>\n      <th>client_bureau_balance_STATUS_X_count_max</th>\n      <th>client_bureau_balance_STATUS_X_count_min</th>\n      <th>client_bureau_balance_STATUS_X_count_sum</th>\n      <th>client_bureau_balance_STATUS_X_count_norm_count</th>\n      <th>client_bureau_balance_STATUS_X_count_norm_mean</th>\n      <th>client_bureau_balance_STATUS_X_count_norm_max</th>\n      <th>client_bureau_balance_STATUS_X_count_norm_min</th>\n      <th>client_bureau_balance_STATUS_X_count_norm_sum</th>\n    </tr>\n  </thead>\n  <tbody>\n    <tr>\n      <th>0</th>\n      <td>100001.0</td>\n      <td>7</td>\n      <td>24.571429</td>\n      <td>52</td>\n      <td>2</td>\n      <td>172</td>\n      <td>7</td>\n      <td>-11.785714</td>\n      <td>-0.5</td>\n      <td>-25.5</td>\n      <td>...</td>\n      <td>7</td>\n      <td>4.285714</td>\n      <td>9</td>\n      <td>0</td>\n      <td>30.0</td>\n      <td>7</td>\n      <td>0.214590</td>\n      <td>0.500000</td>\n      <td>0.0</td>\n      <td>1.502129</td>\n    </tr>\n    <tr>\n      <th>1</th>\n      <td>100002.0</td>\n      <td>8</td>\n      <td>13.750000</td>\n      <td>22</td>\n      <td>4</td>\n      <td>110</td>\n      <td>8</td>\n      <td>-21.875000</td>\n      <td>-1.5</td>\n      <td>-39.5</td>\n      <td>...</td>\n      <td>8</td>\n      <td>1.875000</td>\n      <td>3</td>\n      <td>0</td>\n      <td>15.0</td>\n      <td>8</td>\n      <td>0.161932</td>\n      <td>0.500000</td>\n      <td>0.0</td>\n      <td>1.295455</td>\n    </tr>\n    <tr>\n      <th>2</th>\n      <td>100005.0</td>\n      <td>3</td>\n      <td>7.000000</td>\n      <td>13</td>\n      <td>3</td>\n      <td>21</td>\n      <td>3</td>\n      <td>-3.000000</td>\n      <td>-1.0</td>\n      <td>-6.0</td>\n      <td>...</td>\n      <td>3</td>\n      <td>0.666667</td>\n      <td>1</td>\n      <td>0</td>\n      <td>2.0</td>\n      <td>3</td>\n      <td>0.136752</td>\n      <td>0.333333</td>\n      <td>0.0</td>\n      <td>0.410256</td>\n    </tr>\n    <tr>\n      <th>3</th>\n      <td>100010.0</td>\n      <td>2</td>\n      <td>36.000000</td>\n      <td>36</td>\n      <td>36</td>\n      <td>72</td>\n      <td>2</td>\n      <td>-46.000000</td>\n      <td>-19.5</td>\n      <td>-72.5</td>\n      <td>...</td>\n      <td>2</td>\n      <td>0.000000</td>\n      <td>0</td>\n      <td>0</td>\n      <td>0.0</td>\n      <td>2</td>\n      <td>0.000000</td>\n      <td>0.000000</td>\n      <td>0.0</td>\n      <td>0.000000</td>\n    </tr>\n    <tr>\n      <th>4</th>\n      <td>100013.0</td>\n      <td>4</td>\n      <td>57.500000</td>\n      <td>69</td>\n      <td>40</td>\n      <td>230</td>\n      <td>4</td>\n      <td>-28.250000</td>\n      <td>-19.5</td>\n      <td>-34.0</td>\n      <td>...</td>\n      <td>4</td>\n      <td>10.250000</td>\n      <td>40</td>\n      <td>0</td>\n      <td>41.0</td>\n      <td>4</td>\n      <td>0.254545</td>\n      <td>1.000000</td>\n      <td>0.0</td>\n      <td>1.018182</td>\n    </tr>\n  </tbody>\n</table>\n<p>5 rows × 106 columns</p>\n</div>"
     },
     "execution_count": 33,
     "metadata": {},
     "output_type": "execute_result"
    }
   ]
  },
  {
   "metadata": {
    "_uuid": "fb037a66b921c2dbf837e8d6ddb5179be51e8446"
   },
   "cell_type": "markdown",
   "source": [
    "To recap, for the `bureau_balance` dataframe we:\n",
    "\n",
    "1. Calculated numeric stats grouping by each loan\n",
    "2. Made value counts of each categorical variable grouping by loan\n",
    "3. Merged the stats and the value counts on the loans\n",
    "4. Calculated numeric stats for the resulting dataframe grouping by the client id\n",
    "\n",
    "The final resulting dataframe has one row for each client, with statistics calculated for all of their loans with monthly balance information. \n",
    "\n",
    "Some of these variables are a little confusing, so let's try to explain a few:\n",
    "\n",
    "* `client_bureau_balance_MONTHS_BALANCE_mean_mean`: For each loan calculate the mean value of `MONTHS_BALANCE`. Then for each client, calculate the mean of this value for all of their loans. \n",
    "* `client_bureau_balance_STATUS_X_count_norm_sum`: For each loan, calculate the number of occurences of `STATUS` == X divided by the number of total `STATUS` values for the loan. Then, for each client, add up the values for each loan. "
   ]
  },
  {
   "metadata": {
    "_uuid": "e7c7be26bc22cacc8168f907d01c2c259ad6c867"
   },
   "cell_type": "markdown",
   "source": [
    "We will hold off on calculating the correlations until we have all the variables together in one dataframe. "
   ]
  },
  {
   "metadata": {
    "_uuid": "90aa8e57fbff00777a1e62b060c2c06cf7845381"
   },
   "cell_type": "markdown",
   "source": [
    "# Putting the Functions Together\n",
    "\n",
    "We now have all the pieces in place to take the information from the previous loans at other institutions and the monthly payments information about these loans and put them into the main training dataframe. Let's do a reset of all the variables and then use the functions we built to do this from the ground up. This demonstrate the benefit of using functions for repeatable workflows! "
   ]
  },
  {
   "metadata": {
    "_uuid": "26848bd0252a31559e254c454b905305701ee522",
    "trusted": true
   },
   "cell_type": "code",
   "source": [
    "# Free up memory by deleting old objects\n",
    "import gc\n",
    "\n",
    "gc.enable()\n",
    "del train, bureau, bureau_balance, bureau_agg, bureau_agg_new, bureau_balance_agg, bureau_balance_counts, bureau_by_loan, bureau_balance_by_client, bureau_counts\n",
    "gc.collect()"
   ],
   "execution_count": 34,
   "outputs": [
    {
     "data": {
      "text/plain": "3470"
     },
     "execution_count": 34,
     "metadata": {},
     "output_type": "execute_result"
    }
   ]
  },
  {
   "metadata": {
    "_uuid": "dc574b9486fb40f72146e6481b341931dd180e3d",
    "collapsed": true,
    "trusted": true
   },
   "cell_type": "code",
   "source": [
    "# Read in new copies of all the dataframes\n",
    "train = pd.read_csv('./input/application_train.csv')\n",
    "bureau = pd.read_csv('./input/bureau.csv')\n",
    "bureau_balance = pd.read_csv('./input/bureau_balance.csv')"
   ],
   "execution_count": 35,
   "outputs": []
  },
  {
   "metadata": {
    "_uuid": "feba956fa449260cc71505cb9156887a62ca8337"
   },
   "cell_type": "markdown",
   "source": [
    "### Counts of Bureau Dataframe"
   ]
  },
  {
   "metadata": {
    "_uuid": "491f45986682beb4ee2bd62c32c622830b3b0e76",
    "trusted": true
   },
   "cell_type": "code",
   "source": [
    "bureau_counts = count_categorical(bureau, group_var='SK_ID_CURR', df_name='bureau')\n",
    "bureau_counts.head()"
   ],
   "execution_count": 36,
   "outputs": [
    {
     "data": {
      "text/plain": "            bureau_CREDIT_ACTIVE_Active_count  \\\nSK_ID_CURR                                      \n100001                                      3   \n100002                                      2   \n100003                                      1   \n100004                                      0   \n100005                                      2   \n\n            bureau_CREDIT_ACTIVE_Active_count_norm  \\\nSK_ID_CURR                                           \n100001                                    0.428571   \n100002                                    0.250000   \n100003                                    0.250000   \n100004                                    0.000000   \n100005                                    0.666667   \n\n            bureau_CREDIT_ACTIVE_Bad debt_count  \\\nSK_ID_CURR                                        \n100001                                        0   \n100002                                        0   \n100003                                        0   \n100004                                        0   \n100005                                        0   \n\n            bureau_CREDIT_ACTIVE_Bad debt_count_norm  \\\nSK_ID_CURR                                             \n100001                                           0.0   \n100002                                           0.0   \n100003                                           0.0   \n100004                                           0.0   \n100005                                           0.0   \n\n            bureau_CREDIT_ACTIVE_Closed_count  \\\nSK_ID_CURR                                      \n100001                                      4   \n100002                                      6   \n100003                                      3   \n100004                                      2   \n100005                                      1   \n\n            bureau_CREDIT_ACTIVE_Closed_count_norm  \\\nSK_ID_CURR                                           \n100001                                    0.571429   \n100002                                    0.750000   \n100003                                    0.750000   \n100004                                    1.000000   \n100005                                    0.333333   \n\n            bureau_CREDIT_ACTIVE_Sold_count  \\\nSK_ID_CURR                                    \n100001                                    0   \n100002                                    0   \n100003                                    0   \n100004                                    0   \n100005                                    0   \n\n            bureau_CREDIT_ACTIVE_Sold_count_norm  \\\nSK_ID_CURR                                         \n100001                                       0.0   \n100002                                       0.0   \n100003                                       0.0   \n100004                                       0.0   \n100005                                       0.0   \n\n            bureau_CREDIT_CURRENCY_currency 1_count  \\\nSK_ID_CURR                                            \n100001                                            7   \n100002                                            8   \n100003                                            4   \n100004                                            2   \n100005                                            3   \n\n            bureau_CREDIT_CURRENCY_currency 1_count_norm  ...  \\\nSK_ID_CURR                                                ...   \n100001                                               1.0  ...   \n100002                                               1.0  ...   \n100003                                               1.0  ...   \n100004                                               1.0  ...   \n100005                                               1.0  ...   \n\n            bureau_CREDIT_TYPE_Microloan_count  \\\nSK_ID_CURR                                       \n100001                                       0   \n100002                                       0   \n100003                                       0   \n100004                                       0   \n100005                                       0   \n\n            bureau_CREDIT_TYPE_Microloan_count_norm  \\\nSK_ID_CURR                                            \n100001                                          0.0   \n100002                                          0.0   \n100003                                          0.0   \n100004                                          0.0   \n100005                                          0.0   \n\n            bureau_CREDIT_TYPE_Mobile operator loan_count  \\\nSK_ID_CURR                                                  \n100001                                                  0   \n100002                                                  0   \n100003                                                  0   \n100004                                                  0   \n100005                                                  0   \n\n            bureau_CREDIT_TYPE_Mobile operator loan_count_norm  \\\nSK_ID_CURR                                                       \n100001                                                    0.0    \n100002                                                    0.0    \n100003                                                    0.0    \n100004                                                    0.0    \n100005                                                    0.0    \n\n            bureau_CREDIT_TYPE_Mortgage_count  \\\nSK_ID_CURR                                      \n100001                                      0   \n100002                                      0   \n100003                                      0   \n100004                                      0   \n100005                                      0   \n\n            bureau_CREDIT_TYPE_Mortgage_count_norm  \\\nSK_ID_CURR                                           \n100001                                         0.0   \n100002                                         0.0   \n100003                                         0.0   \n100004                                         0.0   \n100005                                         0.0   \n\n            bureau_CREDIT_TYPE_Real estate loan_count  \\\nSK_ID_CURR                                              \n100001                                              0   \n100002                                              0   \n100003                                              0   \n100004                                              0   \n100005                                              0   \n\n            bureau_CREDIT_TYPE_Real estate loan_count_norm  \\\nSK_ID_CURR                                                   \n100001                                                 0.0   \n100002                                                 0.0   \n100003                                                 0.0   \n100004                                                 0.0   \n100005                                                 0.0   \n\n            bureau_CREDIT_TYPE_Unknown type of loan_count  \\\nSK_ID_CURR                                                  \n100001                                                  0   \n100002                                                  0   \n100003                                                  0   \n100004                                                  0   \n100005                                                  0   \n\n            bureau_CREDIT_TYPE_Unknown type of loan_count_norm  \nSK_ID_CURR                                                      \n100001                                                    0.0   \n100002                                                    0.0   \n100003                                                    0.0   \n100004                                                    0.0   \n100005                                                    0.0   \n\n[5 rows x 46 columns]",
      "text/html": "<div>\n<style scoped>\n    .dataframe tbody tr th:only-of-type {\n        vertical-align: middle;\n    }\n\n    .dataframe tbody tr th {\n        vertical-align: top;\n    }\n\n    .dataframe thead th {\n        text-align: right;\n    }\n</style>\n<table border=\"1\" class=\"dataframe\">\n  <thead>\n    <tr style=\"text-align: right;\">\n      <th></th>\n      <th>bureau_CREDIT_ACTIVE_Active_count</th>\n      <th>bureau_CREDIT_ACTIVE_Active_count_norm</th>\n      <th>bureau_CREDIT_ACTIVE_Bad debt_count</th>\n      <th>bureau_CREDIT_ACTIVE_Bad debt_count_norm</th>\n      <th>bureau_CREDIT_ACTIVE_Closed_count</th>\n      <th>bureau_CREDIT_ACTIVE_Closed_count_norm</th>\n      <th>bureau_CREDIT_ACTIVE_Sold_count</th>\n      <th>bureau_CREDIT_ACTIVE_Sold_count_norm</th>\n      <th>bureau_CREDIT_CURRENCY_currency 1_count</th>\n      <th>bureau_CREDIT_CURRENCY_currency 1_count_norm</th>\n      <th>...</th>\n      <th>bureau_CREDIT_TYPE_Microloan_count</th>\n      <th>bureau_CREDIT_TYPE_Microloan_count_norm</th>\n      <th>bureau_CREDIT_TYPE_Mobile operator loan_count</th>\n      <th>bureau_CREDIT_TYPE_Mobile operator loan_count_norm</th>\n      <th>bureau_CREDIT_TYPE_Mortgage_count</th>\n      <th>bureau_CREDIT_TYPE_Mortgage_count_norm</th>\n      <th>bureau_CREDIT_TYPE_Real estate loan_count</th>\n      <th>bureau_CREDIT_TYPE_Real estate loan_count_norm</th>\n      <th>bureau_CREDIT_TYPE_Unknown type of loan_count</th>\n      <th>bureau_CREDIT_TYPE_Unknown type of loan_count_norm</th>\n    </tr>\n    <tr>\n      <th>SK_ID_CURR</th>\n      <th></th>\n      <th></th>\n      <th></th>\n      <th></th>\n      <th></th>\n      <th></th>\n      <th></th>\n      <th></th>\n      <th></th>\n      <th></th>\n      <th></th>\n      <th></th>\n      <th></th>\n      <th></th>\n      <th></th>\n      <th></th>\n      <th></th>\n      <th></th>\n      <th></th>\n      <th></th>\n      <th></th>\n    </tr>\n  </thead>\n  <tbody>\n    <tr>\n      <th>100001</th>\n      <td>3</td>\n      <td>0.428571</td>\n      <td>0</td>\n      <td>0.0</td>\n      <td>4</td>\n      <td>0.571429</td>\n      <td>0</td>\n      <td>0.0</td>\n      <td>7</td>\n      <td>1.0</td>\n      <td>...</td>\n      <td>0</td>\n      <td>0.0</td>\n      <td>0</td>\n      <td>0.0</td>\n      <td>0</td>\n      <td>0.0</td>\n      <td>0</td>\n      <td>0.0</td>\n      <td>0</td>\n      <td>0.0</td>\n    </tr>\n    <tr>\n      <th>100002</th>\n      <td>2</td>\n      <td>0.250000</td>\n      <td>0</td>\n      <td>0.0</td>\n      <td>6</td>\n      <td>0.750000</td>\n      <td>0</td>\n      <td>0.0</td>\n      <td>8</td>\n      <td>1.0</td>\n      <td>...</td>\n      <td>0</td>\n      <td>0.0</td>\n      <td>0</td>\n      <td>0.0</td>\n      <td>0</td>\n      <td>0.0</td>\n      <td>0</td>\n      <td>0.0</td>\n      <td>0</td>\n      <td>0.0</td>\n    </tr>\n    <tr>\n      <th>100003</th>\n      <td>1</td>\n      <td>0.250000</td>\n      <td>0</td>\n      <td>0.0</td>\n      <td>3</td>\n      <td>0.750000</td>\n      <td>0</td>\n      <td>0.0</td>\n      <td>4</td>\n      <td>1.0</td>\n      <td>...</td>\n      <td>0</td>\n      <td>0.0</td>\n      <td>0</td>\n      <td>0.0</td>\n      <td>0</td>\n      <td>0.0</td>\n      <td>0</td>\n      <td>0.0</td>\n      <td>0</td>\n      <td>0.0</td>\n    </tr>\n    <tr>\n      <th>100004</th>\n      <td>0</td>\n      <td>0.000000</td>\n      <td>0</td>\n      <td>0.0</td>\n      <td>2</td>\n      <td>1.000000</td>\n      <td>0</td>\n      <td>0.0</td>\n      <td>2</td>\n      <td>1.0</td>\n      <td>...</td>\n      <td>0</td>\n      <td>0.0</td>\n      <td>0</td>\n      <td>0.0</td>\n      <td>0</td>\n      <td>0.0</td>\n      <td>0</td>\n      <td>0.0</td>\n      <td>0</td>\n      <td>0.0</td>\n    </tr>\n    <tr>\n      <th>100005</th>\n      <td>2</td>\n      <td>0.666667</td>\n      <td>0</td>\n      <td>0.0</td>\n      <td>1</td>\n      <td>0.333333</td>\n      <td>0</td>\n      <td>0.0</td>\n      <td>3</td>\n      <td>1.0</td>\n      <td>...</td>\n      <td>0</td>\n      <td>0.0</td>\n      <td>0</td>\n      <td>0.0</td>\n      <td>0</td>\n      <td>0.0</td>\n      <td>0</td>\n      <td>0.0</td>\n      <td>0</td>\n      <td>0.0</td>\n    </tr>\n  </tbody>\n</table>\n<p>5 rows × 46 columns</p>\n</div>"
     },
     "execution_count": 36,
     "metadata": {},
     "output_type": "execute_result"
    }
   ]
  },
  {
   "metadata": {
    "_uuid": "c4c80230ee098fa39f4446b7161f105cd18965bc"
   },
   "cell_type": "markdown",
   "source": [
    "### Aggregated Stats of Bureau Dataframe"
   ]
  },
  {
   "metadata": {
    "_uuid": "5f9d2491e244da4811f78f0340fd9d42127e9076",
    "trusted": true
   },
   "cell_type": "code",
   "source": [
    "bureau_agg = agg_numeric(bureau.drop(columns=['SK_ID_BUREAU']), group_var='SK_ID_CURR', df_name='bureau')\n",
    "bureau_agg.head()"
   ],
   "execution_count": 37,
   "outputs": [
    {
     "data": {
      "text/plain": "   SK_ID_CURR  bureau_DAYS_CREDIT_count  bureau_DAYS_CREDIT_mean  \\\n0      100001                         7              -735.000000   \n1      100002                         8              -874.000000   \n2      100003                         4             -1400.750000   \n3      100004                         2              -867.000000   \n4      100005                         3              -190.666667   \n\n   bureau_DAYS_CREDIT_max  bureau_DAYS_CREDIT_min  bureau_DAYS_CREDIT_sum  \\\n0                     -49                   -1572                   -5145   \n1                    -103                   -1437                   -6992   \n2                    -606                   -2586                   -5603   \n3                    -408                   -1326                   -1734   \n4                     -62                    -373                    -572   \n\n   bureau_CREDIT_DAY_OVERDUE_count  bureau_CREDIT_DAY_OVERDUE_mean  \\\n0                                7                             0.0   \n1                                8                             0.0   \n2                                4                             0.0   \n3                                2                             0.0   \n4                                3                             0.0   \n\n   bureau_CREDIT_DAY_OVERDUE_max  bureau_CREDIT_DAY_OVERDUE_min  ...  \\\n0                              0                              0  ...   \n1                              0                              0  ...   \n2                              0                              0  ...   \n3                              0                              0  ...   \n4                              0                              0  ...   \n\n   bureau_DAYS_CREDIT_UPDATE_count  bureau_DAYS_CREDIT_UPDATE_mean  \\\n0                                7                      -93.142857   \n1                                8                     -499.875000   \n2                                4                     -816.000000   \n3                                2                     -532.000000   \n4                                3                      -54.333333   \n\n   bureau_DAYS_CREDIT_UPDATE_max  bureau_DAYS_CREDIT_UPDATE_min  \\\n0                             -6                           -155   \n1                             -7                          -1185   \n2                            -43                          -2131   \n3                           -382                           -682   \n4                            -11                           -121   \n\n   bureau_DAYS_CREDIT_UPDATE_sum  bureau_AMT_ANNUITY_count  \\\n0                           -652                         7   \n1                          -3999                         7   \n2                          -3264                         0   \n3                          -1064                         0   \n4                           -163                         3   \n\n   bureau_AMT_ANNUITY_mean  bureau_AMT_ANNUITY_max  bureau_AMT_ANNUITY_min  \\\n0              3545.357143                 10822.5                     0.0   \n1                 0.000000                     0.0                     0.0   \n2                      NaN                     NaN                     NaN   \n3                      NaN                     NaN                     NaN   \n4              1420.500000                  4261.5                     0.0   \n\n   bureau_AMT_ANNUITY_sum  \n0                 24817.5  \n1                     0.0  \n2                     0.0  \n3                     0.0  \n4                  4261.5  \n\n[5 rows x 61 columns]",
      "text/html": "<div>\n<style scoped>\n    .dataframe tbody tr th:only-of-type {\n        vertical-align: middle;\n    }\n\n    .dataframe tbody tr th {\n        vertical-align: top;\n    }\n\n    .dataframe thead th {\n        text-align: right;\n    }\n</style>\n<table border=\"1\" class=\"dataframe\">\n  <thead>\n    <tr style=\"text-align: right;\">\n      <th></th>\n      <th>SK_ID_CURR</th>\n      <th>bureau_DAYS_CREDIT_count</th>\n      <th>bureau_DAYS_CREDIT_mean</th>\n      <th>bureau_DAYS_CREDIT_max</th>\n      <th>bureau_DAYS_CREDIT_min</th>\n      <th>bureau_DAYS_CREDIT_sum</th>\n      <th>bureau_CREDIT_DAY_OVERDUE_count</th>\n      <th>bureau_CREDIT_DAY_OVERDUE_mean</th>\n      <th>bureau_CREDIT_DAY_OVERDUE_max</th>\n      <th>bureau_CREDIT_DAY_OVERDUE_min</th>\n      <th>...</th>\n      <th>bureau_DAYS_CREDIT_UPDATE_count</th>\n      <th>bureau_DAYS_CREDIT_UPDATE_mean</th>\n      <th>bureau_DAYS_CREDIT_UPDATE_max</th>\n      <th>bureau_DAYS_CREDIT_UPDATE_min</th>\n      <th>bureau_DAYS_CREDIT_UPDATE_sum</th>\n      <th>bureau_AMT_ANNUITY_count</th>\n      <th>bureau_AMT_ANNUITY_mean</th>\n      <th>bureau_AMT_ANNUITY_max</th>\n      <th>bureau_AMT_ANNUITY_min</th>\n      <th>bureau_AMT_ANNUITY_sum</th>\n    </tr>\n  </thead>\n  <tbody>\n    <tr>\n      <th>0</th>\n      <td>100001</td>\n      <td>7</td>\n      <td>-735.000000</td>\n      <td>-49</td>\n      <td>-1572</td>\n      <td>-5145</td>\n      <td>7</td>\n      <td>0.0</td>\n      <td>0</td>\n      <td>0</td>\n      <td>...</td>\n      <td>7</td>\n      <td>-93.142857</td>\n      <td>-6</td>\n      <td>-155</td>\n      <td>-652</td>\n      <td>7</td>\n      <td>3545.357143</td>\n      <td>10822.5</td>\n      <td>0.0</td>\n      <td>24817.5</td>\n    </tr>\n    <tr>\n      <th>1</th>\n      <td>100002</td>\n      <td>8</td>\n      <td>-874.000000</td>\n      <td>-103</td>\n      <td>-1437</td>\n      <td>-6992</td>\n      <td>8</td>\n      <td>0.0</td>\n      <td>0</td>\n      <td>0</td>\n      <td>...</td>\n      <td>8</td>\n      <td>-499.875000</td>\n      <td>-7</td>\n      <td>-1185</td>\n      <td>-3999</td>\n      <td>7</td>\n      <td>0.000000</td>\n      <td>0.0</td>\n      <td>0.0</td>\n      <td>0.0</td>\n    </tr>\n    <tr>\n      <th>2</th>\n      <td>100003</td>\n      <td>4</td>\n      <td>-1400.750000</td>\n      <td>-606</td>\n      <td>-2586</td>\n      <td>-5603</td>\n      <td>4</td>\n      <td>0.0</td>\n      <td>0</td>\n      <td>0</td>\n      <td>...</td>\n      <td>4</td>\n      <td>-816.000000</td>\n      <td>-43</td>\n      <td>-2131</td>\n      <td>-3264</td>\n      <td>0</td>\n      <td>NaN</td>\n      <td>NaN</td>\n      <td>NaN</td>\n      <td>0.0</td>\n    </tr>\n    <tr>\n      <th>3</th>\n      <td>100004</td>\n      <td>2</td>\n      <td>-867.000000</td>\n      <td>-408</td>\n      <td>-1326</td>\n      <td>-1734</td>\n      <td>2</td>\n      <td>0.0</td>\n      <td>0</td>\n      <td>0</td>\n      <td>...</td>\n      <td>2</td>\n      <td>-532.000000</td>\n      <td>-382</td>\n      <td>-682</td>\n      <td>-1064</td>\n      <td>0</td>\n      <td>NaN</td>\n      <td>NaN</td>\n      <td>NaN</td>\n      <td>0.0</td>\n    </tr>\n    <tr>\n      <th>4</th>\n      <td>100005</td>\n      <td>3</td>\n      <td>-190.666667</td>\n      <td>-62</td>\n      <td>-373</td>\n      <td>-572</td>\n      <td>3</td>\n      <td>0.0</td>\n      <td>0</td>\n      <td>0</td>\n      <td>...</td>\n      <td>3</td>\n      <td>-54.333333</td>\n      <td>-11</td>\n      <td>-121</td>\n      <td>-163</td>\n      <td>3</td>\n      <td>1420.500000</td>\n      <td>4261.5</td>\n      <td>0.0</td>\n      <td>4261.5</td>\n    </tr>\n  </tbody>\n</table>\n<p>5 rows × 61 columns</p>\n</div>"
     },
     "execution_count": 37,
     "metadata": {},
     "output_type": "execute_result"
    }
   ]
  },
  {
   "metadata": {
    "_uuid": "3ce2211679505e646121cc0b2f8b217ab9718ba6"
   },
   "cell_type": "markdown",
   "source": [
    "### Value counts of Bureau Balance dataframe by loan"
   ]
  },
  {
   "metadata": {
    "_uuid": "0e55cc0b41e66e77dfd19ac1b808edc4581a1206",
    "trusted": true
   },
   "cell_type": "code",
   "source": [
    "bureau_balance_counts = count_categorical(bureau_balance, group_var='SK_ID_BUREAU', df_name='bureau_balance')\n",
    "bureau_balance_counts.head()"
   ],
   "execution_count": 38,
   "outputs": [
    {
     "data": {
      "text/plain": "              bureau_balance_STATUS_0_count  \\\nSK_ID_BUREAU                                  \n5001709                                   0   \n5001710                                   5   \n5001711                                   3   \n5001712                                  10   \n5001713                                   0   \n\n              bureau_balance_STATUS_0_count_norm  \\\nSK_ID_BUREAU                                       \n5001709                                 0.000000   \n5001710                                 0.060241   \n5001711                                 0.750000   \n5001712                                 0.526316   \n5001713                                 0.000000   \n\n              bureau_balance_STATUS_1_count  \\\nSK_ID_BUREAU                                  \n5001709                                   0   \n5001710                                   0   \n5001711                                   0   \n5001712                                   0   \n5001713                                   0   \n\n              bureau_balance_STATUS_1_count_norm  \\\nSK_ID_BUREAU                                       \n5001709                                      0.0   \n5001710                                      0.0   \n5001711                                      0.0   \n5001712                                      0.0   \n5001713                                      0.0   \n\n              bureau_balance_STATUS_2_count  \\\nSK_ID_BUREAU                                  \n5001709                                   0   \n5001710                                   0   \n5001711                                   0   \n5001712                                   0   \n5001713                                   0   \n\n              bureau_balance_STATUS_2_count_norm  \\\nSK_ID_BUREAU                                       \n5001709                                      0.0   \n5001710                                      0.0   \n5001711                                      0.0   \n5001712                                      0.0   \n5001713                                      0.0   \n\n              bureau_balance_STATUS_3_count  \\\nSK_ID_BUREAU                                  \n5001709                                   0   \n5001710                                   0   \n5001711                                   0   \n5001712                                   0   \n5001713                                   0   \n\n              bureau_balance_STATUS_3_count_norm  \\\nSK_ID_BUREAU                                       \n5001709                                      0.0   \n5001710                                      0.0   \n5001711                                      0.0   \n5001712                                      0.0   \n5001713                                      0.0   \n\n              bureau_balance_STATUS_4_count  \\\nSK_ID_BUREAU                                  \n5001709                                   0   \n5001710                                   0   \n5001711                                   0   \n5001712                                   0   \n5001713                                   0   \n\n              bureau_balance_STATUS_4_count_norm  \\\nSK_ID_BUREAU                                       \n5001709                                      0.0   \n5001710                                      0.0   \n5001711                                      0.0   \n5001712                                      0.0   \n5001713                                      0.0   \n\n              bureau_balance_STATUS_5_count  \\\nSK_ID_BUREAU                                  \n5001709                                   0   \n5001710                                   0   \n5001711                                   0   \n5001712                                   0   \n5001713                                   0   \n\n              bureau_balance_STATUS_5_count_norm  \\\nSK_ID_BUREAU                                       \n5001709                                      0.0   \n5001710                                      0.0   \n5001711                                      0.0   \n5001712                                      0.0   \n5001713                                      0.0   \n\n              bureau_balance_STATUS_C_count  \\\nSK_ID_BUREAU                                  \n5001709                                  86   \n5001710                                  48   \n5001711                                   0   \n5001712                                   9   \n5001713                                   0   \n\n              bureau_balance_STATUS_C_count_norm  \\\nSK_ID_BUREAU                                       \n5001709                                 0.886598   \n5001710                                 0.578313   \n5001711                                 0.000000   \n5001712                                 0.473684   \n5001713                                 0.000000   \n\n              bureau_balance_STATUS_X_count  \\\nSK_ID_BUREAU                                  \n5001709                                  11   \n5001710                                  30   \n5001711                                   1   \n5001712                                   0   \n5001713                                  22   \n\n              bureau_balance_STATUS_X_count_norm  \nSK_ID_BUREAU                                      \n5001709                                 0.113402  \n5001710                                 0.361446  \n5001711                                 0.250000  \n5001712                                 0.000000  \n5001713                                 1.000000  ",
      "text/html": "<div>\n<style scoped>\n    .dataframe tbody tr th:only-of-type {\n        vertical-align: middle;\n    }\n\n    .dataframe tbody tr th {\n        vertical-align: top;\n    }\n\n    .dataframe thead th {\n        text-align: right;\n    }\n</style>\n<table border=\"1\" class=\"dataframe\">\n  <thead>\n    <tr style=\"text-align: right;\">\n      <th></th>\n      <th>bureau_balance_STATUS_0_count</th>\n      <th>bureau_balance_STATUS_0_count_norm</th>\n      <th>bureau_balance_STATUS_1_count</th>\n      <th>bureau_balance_STATUS_1_count_norm</th>\n      <th>bureau_balance_STATUS_2_count</th>\n      <th>bureau_balance_STATUS_2_count_norm</th>\n      <th>bureau_balance_STATUS_3_count</th>\n      <th>bureau_balance_STATUS_3_count_norm</th>\n      <th>bureau_balance_STATUS_4_count</th>\n      <th>bureau_balance_STATUS_4_count_norm</th>\n      <th>bureau_balance_STATUS_5_count</th>\n      <th>bureau_balance_STATUS_5_count_norm</th>\n      <th>bureau_balance_STATUS_C_count</th>\n      <th>bureau_balance_STATUS_C_count_norm</th>\n      <th>bureau_balance_STATUS_X_count</th>\n      <th>bureau_balance_STATUS_X_count_norm</th>\n    </tr>\n    <tr>\n      <th>SK_ID_BUREAU</th>\n      <th></th>\n      <th></th>\n      <th></th>\n      <th></th>\n      <th></th>\n      <th></th>\n      <th></th>\n      <th></th>\n      <th></th>\n      <th></th>\n      <th></th>\n      <th></th>\n      <th></th>\n      <th></th>\n      <th></th>\n      <th></th>\n    </tr>\n  </thead>\n  <tbody>\n    <tr>\n      <th>5001709</th>\n      <td>0</td>\n      <td>0.000000</td>\n      <td>0</td>\n      <td>0.0</td>\n      <td>0</td>\n      <td>0.0</td>\n      <td>0</td>\n      <td>0.0</td>\n      <td>0</td>\n      <td>0.0</td>\n      <td>0</td>\n      <td>0.0</td>\n      <td>86</td>\n      <td>0.886598</td>\n      <td>11</td>\n      <td>0.113402</td>\n    </tr>\n    <tr>\n      <th>5001710</th>\n      <td>5</td>\n      <td>0.060241</td>\n      <td>0</td>\n      <td>0.0</td>\n      <td>0</td>\n      <td>0.0</td>\n      <td>0</td>\n      <td>0.0</td>\n      <td>0</td>\n      <td>0.0</td>\n      <td>0</td>\n      <td>0.0</td>\n      <td>48</td>\n      <td>0.578313</td>\n      <td>30</td>\n      <td>0.361446</td>\n    </tr>\n    <tr>\n      <th>5001711</th>\n      <td>3</td>\n      <td>0.750000</td>\n      <td>0</td>\n      <td>0.0</td>\n      <td>0</td>\n      <td>0.0</td>\n      <td>0</td>\n      <td>0.0</td>\n      <td>0</td>\n      <td>0.0</td>\n      <td>0</td>\n      <td>0.0</td>\n      <td>0</td>\n      <td>0.000000</td>\n      <td>1</td>\n      <td>0.250000</td>\n    </tr>\n    <tr>\n      <th>5001712</th>\n      <td>10</td>\n      <td>0.526316</td>\n      <td>0</td>\n      <td>0.0</td>\n      <td>0</td>\n      <td>0.0</td>\n      <td>0</td>\n      <td>0.0</td>\n      <td>0</td>\n      <td>0.0</td>\n      <td>0</td>\n      <td>0.0</td>\n      <td>9</td>\n      <td>0.473684</td>\n      <td>0</td>\n      <td>0.000000</td>\n    </tr>\n    <tr>\n      <th>5001713</th>\n      <td>0</td>\n      <td>0.000000</td>\n      <td>0</td>\n      <td>0.0</td>\n      <td>0</td>\n      <td>0.0</td>\n      <td>0</td>\n      <td>0.0</td>\n      <td>0</td>\n      <td>0.0</td>\n      <td>0</td>\n      <td>0.0</td>\n      <td>0</td>\n      <td>0.000000</td>\n      <td>22</td>\n      <td>1.000000</td>\n    </tr>\n  </tbody>\n</table>\n</div>"
     },
     "execution_count": 38,
     "metadata": {},
     "output_type": "execute_result"
    }
   ]
  },
  {
   "metadata": {
    "_uuid": "7c2378a4fc130bc7de954c454d50e26adda6f9f6"
   },
   "cell_type": "markdown",
   "source": [
    "### Aggregated stats of Bureau Balance dataframe by loan"
   ]
  },
  {
   "metadata": {
    "_uuid": "eb25294df7f998058e15e6ae24438c772d4ae86c",
    "trusted": true
   },
   "cell_type": "code",
   "source": [
    "bureau_balance_agg = agg_numeric(bureau_balance, group_var='SK_ID_BUREAU', df_name='bureau_balance')\n",
    "bureau_balance_agg.head()"
   ],
   "execution_count": 39,
   "outputs": [
    {
     "data": {
      "text/plain": "   SK_ID_BUREAU  bureau_balance_MONTHS_BALANCE_count  \\\n0       5001709                                   97   \n1       5001710                                   83   \n2       5001711                                    4   \n3       5001712                                   19   \n4       5001713                                   22   \n\n   bureau_balance_MONTHS_BALANCE_mean  bureau_balance_MONTHS_BALANCE_max  \\\n0                               -48.0                                  0   \n1                               -41.0                                  0   \n2                                -1.5                                  0   \n3                                -9.0                                  0   \n4                               -10.5                                  0   \n\n   bureau_balance_MONTHS_BALANCE_min  bureau_balance_MONTHS_BALANCE_sum  \n0                                -96                              -4656  \n1                                -82                              -3403  \n2                                 -3                                 -6  \n3                                -18                               -171  \n4                                -21                               -231  ",
      "text/html": "<div>\n<style scoped>\n    .dataframe tbody tr th:only-of-type {\n        vertical-align: middle;\n    }\n\n    .dataframe tbody tr th {\n        vertical-align: top;\n    }\n\n    .dataframe thead th {\n        text-align: right;\n    }\n</style>\n<table border=\"1\" class=\"dataframe\">\n  <thead>\n    <tr style=\"text-align: right;\">\n      <th></th>\n      <th>SK_ID_BUREAU</th>\n      <th>bureau_balance_MONTHS_BALANCE_count</th>\n      <th>bureau_balance_MONTHS_BALANCE_mean</th>\n      <th>bureau_balance_MONTHS_BALANCE_max</th>\n      <th>bureau_balance_MONTHS_BALANCE_min</th>\n      <th>bureau_balance_MONTHS_BALANCE_sum</th>\n    </tr>\n  </thead>\n  <tbody>\n    <tr>\n      <th>0</th>\n      <td>5001709</td>\n      <td>97</td>\n      <td>-48.0</td>\n      <td>0</td>\n      <td>-96</td>\n      <td>-4656</td>\n    </tr>\n    <tr>\n      <th>1</th>\n      <td>5001710</td>\n      <td>83</td>\n      <td>-41.0</td>\n      <td>0</td>\n      <td>-82</td>\n      <td>-3403</td>\n    </tr>\n    <tr>\n      <th>2</th>\n      <td>5001711</td>\n      <td>4</td>\n      <td>-1.5</td>\n      <td>0</td>\n      <td>-3</td>\n      <td>-6</td>\n    </tr>\n    <tr>\n      <th>3</th>\n      <td>5001712</td>\n      <td>19</td>\n      <td>-9.0</td>\n      <td>0</td>\n      <td>-18</td>\n      <td>-171</td>\n    </tr>\n    <tr>\n      <th>4</th>\n      <td>5001713</td>\n      <td>22</td>\n      <td>-10.5</td>\n      <td>0</td>\n      <td>-21</td>\n      <td>-231</td>\n    </tr>\n  </tbody>\n</table>\n</div>"
     },
     "execution_count": 39,
     "metadata": {},
     "output_type": "execute_result"
    }
   ]
  },
  {
   "metadata": {
    "_uuid": "f7343f605c4bc38c0c3af1b53bc258699e480dcf"
   },
   "cell_type": "markdown",
   "source": [
    "### Aggregated Stats of Bureau Balance by Client"
   ]
  },
  {
   "metadata": {
    "_uuid": "9315370e38f25339af200a45809387f211464ce9",
    "collapsed": true,
    "trusted": true
   },
   "cell_type": "code",
   "source": [
    "# Dataframe grouped by the loan\n",
    "bureau_by_loan = bureau_balance_agg.merge(bureau_balance_counts, right_index=True, left_on='SK_ID_BUREAU', how='outer')\n",
    "\n",
    "# Merge to include the SK_ID_CURR\n",
    "bureau_by_loan = bureau[['SK_ID_BUREAU', 'SK_ID_CURR']].merge(bureau_by_loan, on='SK_ID_BUREAU', how='left')\n",
    "\n",
    "# Aggregate the stats for each client\n",
    "bureau_balance_by_client = agg_numeric(bureau_by_loan.drop(columns=['SK_ID_BUREAU']), group_var='SK_ID_CURR', df_name='client')"
   ],
   "execution_count": 40,
   "outputs": []
  },
  {
   "metadata": {
    "_uuid": "1f8f616b645ba974517be24adb30b4af4cf1afe3"
   },
   "cell_type": "markdown",
   "source": [
    "## Insert Computed Features into Training Data"
   ]
  },
  {
   "metadata": {
    "_uuid": "f61f183707d7ca8d363a344b073dd9122acfdcc5",
    "trusted": true
   },
   "cell_type": "code",
   "source": [
    "original_features = list(train.columns)\n",
    "print('Original Number of Features: ', len(original_features))"
   ],
   "execution_count": 41,
   "outputs": [
    {
     "name": "stdout",
     "output_type": "stream",
     "text": [
      "Original Number of Features:  122\n"
     ]
    }
   ]
  },
  {
   "metadata": {
    "_uuid": "02f4310f7485d299c1588805ce24f3360afa6f42",
    "collapsed": true,
    "trusted": true
   },
   "cell_type": "code",
   "source": [
    "# Merge with the value counts of bureau\n",
    "train = train.merge(bureau_counts, on='SK_ID_CURR', how='left')\n",
    "\n",
    "# Merge with the stats of bureau\n",
    "train = train.merge(bureau_agg, on='SK_ID_CURR', how='left')\n",
    "\n",
    "# Merge with the monthly information grouped by client\n",
    "train = train.merge(bureau_balance_by_client, on='SK_ID_CURR', how='left')"
   ],
   "execution_count": 42,
   "outputs": []
  },
  {
   "metadata": {
    "_uuid": "f672226eee3059311d476c0eb68946988f9f5712",
    "trusted": true
   },
   "cell_type": "code",
   "source": [
    "new_features = list(train.columns)\n",
    "print('Number of features using previous loans from other institutions data: ', len(new_features))"
   ],
   "execution_count": 43,
   "outputs": [
    {
     "name": "stdout",
     "output_type": "stream",
     "text": [
      "Number of features using previous loans from other institutions data:  333\n"
     ]
    }
   ]
  },
  {
   "metadata": {
    "_uuid": "e16d0c10cf2a0cc778db576a4ad233960c70a028"
   },
   "cell_type": "markdown",
   "source": [
    "# Feature Engineering Outcomes\n",
    "\n",
    "After all that work, now we want to take a look at the variables we have created. We can look at the percentage of missing values, the correlations of variables with the target, and also the correlation of variables with the other variables. The correlations between variables can show if we have collinear varibles, that is, variables that are highly correlated with one another. Often, we want to remove one in a pair of collinear variables because having both variables would be redundant. We can also use the percentage of missing values to remove features with a substantial majority of values that are not present. __Feature selection__ will be an important focus going forward, because reducing the number of features can help the model learn during training and also generalize better to the testing data. The \"curse of dimensionality\" is the name given to the issues caused by having too many features (too high of a dimension). As the number of variables increases, the number of datapoints needed to learn the relationship between these variables and the target value increases exponentially. \n",
    "\n",
    "Feature selection is the process of removing variables to help our model to learn and generalize better to the testing set. The objective is to remove useless/redundant variables while preserving those that are useful. There are a number of tools we can use for this process, but in this notebook we will stick to removing columns with a high percentage of missing values and variables that have a high correlation with one another. Later we can look at using the feature importances returned from models such as the `Gradient Boosting Machine` or `Random Forest` to perform feature selection."
   ]
  },
  {
   "metadata": {
    "_uuid": "ab576d2c245270ca843f825afab02583c091897d"
   },
   "cell_type": "markdown",
   "source": [
    "## Missing Values\n",
    "\n",
    "An important consideration is the missing values in the dataframe. Columns with too many missing values might have to be dropped. "
   ]
  },
  {
   "metadata": {
    "_uuid": "eef874f5edd28e7449e198264987b93566a5227a",
    "collapsed": true,
    "trusted": true
   },
   "cell_type": "code",
   "source": [
    "# Function to calculate missing values by column# Funct \n",
    "def missing_values_table(df):\n",
    "    # Total missing values\n",
    "    mis_val = df.isnull().sum()\n",
    "\n",
    "    # Percentage of missing values\n",
    "    mis_val_percent = 100 * df.isnull().sum() / len(df)\n",
    "\n",
    "    # Make a table with the results\n",
    "    mis_val_table = pd.concat([mis_val, mis_val_percent], axis=1)\n",
    "\n",
    "    # Rename the columns\n",
    "    mis_val_table_ren_columns = mis_val_table.rename(\n",
    "        columns={0: 'Missing Values', 1: '% of Total Values'})\n",
    "\n",
    "    # Sort the table by percentage of missing descending\n",
    "    mis_val_table_ren_columns = mis_val_table_ren_columns[\n",
    "        mis_val_table_ren_columns.iloc[:, 1] != 0].sort_values(\n",
    "        '% of Total Values', ascending=False).round(1)\n",
    "\n",
    "    # Print some summary information\n",
    "    print(\"Your selected dataframe has \" + str(df.shape[1]) + \" columns.\\n\"\n",
    "                                                              \"There are \" + str(mis_val_table_ren_columns.shape[0]) +\n",
    "          \" columns that have missing values.\")\n",
    "\n",
    "    # Return the dataframe with missing information\n",
    "    return mis_val_table_ren_columns"
   ],
   "execution_count": 44,
   "outputs": []
  },
  {
   "metadata": {
    "_uuid": "dba1e683347bbd9b07a162675a4f79e08c28db0a",
    "trusted": true
   },
   "cell_type": "code",
   "source": [
    "missing_train = missing_values_table(train)\n",
    "missing_train.head(10)"
   ],
   "execution_count": 45,
   "outputs": [
    {
     "name": "stdout",
     "output_type": "stream",
     "text": [
      "Your selected dataframe has 333 columns.\n",
      "There are 278 columns that have missing values.\n"
     ]
    },
    {
     "data": {
      "text/plain": "                                                Missing Values  \\\nbureau_AMT_ANNUITY_min                                  227502   \nbureau_AMT_ANNUITY_max                                  227502   \nbureau_AMT_ANNUITY_mean                                 227502   \nclient_bureau_balance_STATUS_4_count_min                215280   \nclient_bureau_balance_STATUS_3_count_norm_mean          215280   \nclient_bureau_balance_MONTHS_BALANCE_count_min          215280   \nclient_bureau_balance_STATUS_4_count_max                215280   \nclient_bureau_balance_STATUS_4_count_mean               215280   \nclient_bureau_balance_STATUS_3_count_norm_min           215280   \nclient_bureau_balance_STATUS_3_count_norm_max           215280   \n\n                                                % of Total Values  \nbureau_AMT_ANNUITY_min                                       74.0  \nbureau_AMT_ANNUITY_max                                       74.0  \nbureau_AMT_ANNUITY_mean                                      74.0  \nclient_bureau_balance_STATUS_4_count_min                     70.0  \nclient_bureau_balance_STATUS_3_count_norm_mean               70.0  \nclient_bureau_balance_MONTHS_BALANCE_count_min               70.0  \nclient_bureau_balance_STATUS_4_count_max                     70.0  \nclient_bureau_balance_STATUS_4_count_mean                    70.0  \nclient_bureau_balance_STATUS_3_count_norm_min                70.0  \nclient_bureau_balance_STATUS_3_count_norm_max                70.0  ",
      "text/html": "<div>\n<style scoped>\n    .dataframe tbody tr th:only-of-type {\n        vertical-align: middle;\n    }\n\n    .dataframe tbody tr th {\n        vertical-align: top;\n    }\n\n    .dataframe thead th {\n        text-align: right;\n    }\n</style>\n<table border=\"1\" class=\"dataframe\">\n  <thead>\n    <tr style=\"text-align: right;\">\n      <th></th>\n      <th>Missing Values</th>\n      <th>% of Total Values</th>\n    </tr>\n  </thead>\n  <tbody>\n    <tr>\n      <th>bureau_AMT_ANNUITY_min</th>\n      <td>227502</td>\n      <td>74.0</td>\n    </tr>\n    <tr>\n      <th>bureau_AMT_ANNUITY_max</th>\n      <td>227502</td>\n      <td>74.0</td>\n    </tr>\n    <tr>\n      <th>bureau_AMT_ANNUITY_mean</th>\n      <td>227502</td>\n      <td>74.0</td>\n    </tr>\n    <tr>\n      <th>client_bureau_balance_STATUS_4_count_min</th>\n      <td>215280</td>\n      <td>70.0</td>\n    </tr>\n    <tr>\n      <th>client_bureau_balance_STATUS_3_count_norm_mean</th>\n      <td>215280</td>\n      <td>70.0</td>\n    </tr>\n    <tr>\n      <th>client_bureau_balance_MONTHS_BALANCE_count_min</th>\n      <td>215280</td>\n      <td>70.0</td>\n    </tr>\n    <tr>\n      <th>client_bureau_balance_STATUS_4_count_max</th>\n      <td>215280</td>\n      <td>70.0</td>\n    </tr>\n    <tr>\n      <th>client_bureau_balance_STATUS_4_count_mean</th>\n      <td>215280</td>\n      <td>70.0</td>\n    </tr>\n    <tr>\n      <th>client_bureau_balance_STATUS_3_count_norm_min</th>\n      <td>215280</td>\n      <td>70.0</td>\n    </tr>\n    <tr>\n      <th>client_bureau_balance_STATUS_3_count_norm_max</th>\n      <td>215280</td>\n      <td>70.0</td>\n    </tr>\n  </tbody>\n</table>\n</div>"
     },
     "execution_count": 45,
     "metadata": {},
     "output_type": "execute_result"
    }
   ]
  },
  {
   "metadata": {
    "_uuid": "f0defbc704277c67350cf2064b511800a3cdbad2"
   },
   "cell_type": "markdown",
   "source": [
    "We see there are a number of columns with a high percentage of missing values. There is no well-established threshold for removing missing values, and the best course of action depends on the problem. Here, to reduce the number of features, we will remove any columns in either the training or the testing data that have greater than 90% missing values."
   ]
  },
  {
   "metadata": {
    "_uuid": "5739842767f1a58e9c33a6683d5b0f32c97b69b3",
    "trusted": true
   },
   "cell_type": "code",
   "source": [
    "missing_train_vars = list(missing_train.index[missing_train['% of Total Values'] > 90])\n",
    "len(missing_train_vars)"
   ],
   "execution_count": 46,
   "outputs": [
    {
     "data": {
      "text/plain": "0"
     },
     "execution_count": 46,
     "metadata": {},
     "output_type": "execute_result"
    }
   ]
  },
  {
   "metadata": {
    "_uuid": "055b96cb462b6876d6ae7f0e0c348426ddfc5cca"
   },
   "cell_type": "markdown",
   "source": [
    "Before we remove the missing values, we will find the missing value percentages in the testing data. We'll then remove any columns with greater than 90% missing values in either the training or testing data.\n",
    "Let's now read in the testing data, perform the same operations, and look at the missing values in the testing data. We already have calculated all the counts and aggregation statistics, so we only need to merge the testing data with the appropriate data. "
   ]
  },
  {
   "metadata": {
    "_uuid": "dc3921576a8fb644b36f5119f169b88d30a51c01"
   },
   "cell_type": "markdown",
   "source": [
    "## Calculate Information for Testing Data"
   ]
  },
  {
   "metadata": {
    "_uuid": "48be68ba3403d8e3f208b436219003b1f6097fad",
    "trusted": true,
    "collapsed": true
   },
   "cell_type": "code",
   "source": [
    "# Read in the test dataframe\n",
    "test = pd.read_csv('./input/application_test.csv')\n",
    "\n",
    "# Merge with the value counts of bureau\n",
    "test = test.merge(bureau_counts, on='SK_ID_CURR', how='left')\n",
    "\n",
    "# Merge with the stats of bureau\n",
    "test = test.merge(bureau_agg, on='SK_ID_CURR', how='left')\n",
    "\n",
    "# Merge with the value counts of bureau balance\n",
    "test = test.merge(bureau_balance_by_client, on='SK_ID_CURR', how='left')"
   ],
   "execution_count": 47,
   "outputs": []
  },
  {
   "metadata": {
    "_uuid": "0ee6595328bd2eab6a89b542475500aaaa4b3947",
    "trusted": true
   },
   "cell_type": "code",
   "source": [
    "print('Shape of Testing Data: ', test.shape)"
   ],
   "execution_count": 48,
   "outputs": [
    {
     "name": "stdout",
     "output_type": "stream",
     "text": [
      "Shape of Testing Data:  (48744, 332)\n"
     ]
    }
   ]
  },
  {
   "metadata": {
    "_uuid": "518da486b84f28f7ca9c1b366fdb2719f0e19f38"
   },
   "cell_type": "markdown",
   "source": [
    "We need to align the testing and training dataframes, which means matching up the columns so they have the exact same columns. This shouldn't be an issue here, but when we one-hot encode variables, we need to align the dataframes to make sure they have the same columns."
   ]
  },
  {
   "metadata": {
    "_uuid": "39d6e6a2b8af1bb15df0f98ff5eb601c2e828099",
    "collapsed": true,
    "trusted": true
   },
   "cell_type": "code",
   "source": [
    "train_labels = train['TARGET']\n",
    "\n",
    "# Align the dataframes, this will remove the 'TARGET' column\n",
    "train, test = train.align(test, join='inner', axis=1)\n",
    "\n",
    "train['TARGET'] = train_labels"
   ],
   "execution_count": 49,
   "outputs": []
  },
  {
   "metadata": {
    "_uuid": "f3d3fcc7cf9a68208a6d6303565883cd58e7c531",
    "trusted": true
   },
   "cell_type": "code",
   "source": [
    "print('Training Data Shape: ', train.shape)\n",
    "print('Testing Data Shape: ', test.shape)"
   ],
   "execution_count": 50,
   "outputs": [
    {
     "name": "stdout",
     "output_type": "stream",
     "text": [
      "Training Data Shape:  (307511, 333)\n",
      "Testing Data Shape:  (48744, 332)\n"
     ]
    }
   ]
  },
  {
   "metadata": {
    "_uuid": "77cd0cbc96158d555ca156b93906497364cbdabd"
   },
   "cell_type": "markdown",
   "source": [
    "The dataframes now have the same columns (with the exception of the `TARGET` column in the training data). This means we can use them in a machine learning model which needs to see the same columns in both the training and testing dataframes.\n",
    "\n",
    "Let's now look at the percentage of missing values in the testing data so we can figure out the columns that should be dropped."
   ]
  },
  {
   "metadata": {
    "_uuid": "ff8e3932b44097ae679ea7bb9b0464a077e07727",
    "trusted": true,
    "collapsed": true
   },
   "cell_type": "code",
   "source": [
    "missing_test = missing_values_table(test)\n",
    "missing_test.head(10)"
   ],
   "execution_count": 51,
   "outputs": [
    {
     "name": "stdout",
     "output_type": "stream",
     "text": [
      "Your selected dataframe has 332 columns.\n",
      "There are 275 columns that have missing values.\n"
     ]
    },
    {
     "data": {
      "text/plain": "                          Missing Values  % of Total Values\nCOMMONAREA_MEDI                    33495               68.7\nCOMMONAREA_MODE                    33495               68.7\nCOMMONAREA_AVG                     33495               68.7\nNONLIVINGAPARTMENTS_MEDI           33347               68.4\nNONLIVINGAPARTMENTS_AVG            33347               68.4\nNONLIVINGAPARTMENTS_MODE           33347               68.4\nFONDKAPREMONT_MODE                 32797               67.3\nLIVINGAPARTMENTS_MEDI              32780               67.2\nLIVINGAPARTMENTS_MODE              32780               67.2\nLIVINGAPARTMENTS_AVG               32780               67.2",
      "text/html": "<div>\n<style scoped>\n    .dataframe tbody tr th:only-of-type {\n        vertical-align: middle;\n    }\n\n    .dataframe tbody tr th {\n        vertical-align: top;\n    }\n\n    .dataframe thead th {\n        text-align: right;\n    }\n</style>\n<table border=\"1\" class=\"dataframe\">\n  <thead>\n    <tr style=\"text-align: right;\">\n      <th></th>\n      <th>Missing Values</th>\n      <th>% of Total Values</th>\n    </tr>\n  </thead>\n  <tbody>\n    <tr>\n      <th>COMMONAREA_MEDI</th>\n      <td>33495</td>\n      <td>68.7</td>\n    </tr>\n    <tr>\n      <th>COMMONAREA_MODE</th>\n      <td>33495</td>\n      <td>68.7</td>\n    </tr>\n    <tr>\n      <th>COMMONAREA_AVG</th>\n      <td>33495</td>\n      <td>68.7</td>\n    </tr>\n    <tr>\n      <th>NONLIVINGAPARTMENTS_MEDI</th>\n      <td>33347</td>\n      <td>68.4</td>\n    </tr>\n    <tr>\n      <th>NONLIVINGAPARTMENTS_AVG</th>\n      <td>33347</td>\n      <td>68.4</td>\n    </tr>\n    <tr>\n      <th>NONLIVINGAPARTMENTS_MODE</th>\n      <td>33347</td>\n      <td>68.4</td>\n    </tr>\n    <tr>\n      <th>FONDKAPREMONT_MODE</th>\n      <td>32797</td>\n      <td>67.3</td>\n    </tr>\n    <tr>\n      <th>LIVINGAPARTMENTS_MEDI</th>\n      <td>32780</td>\n      <td>67.2</td>\n    </tr>\n    <tr>\n      <th>LIVINGAPARTMENTS_MODE</th>\n      <td>32780</td>\n      <td>67.2</td>\n    </tr>\n    <tr>\n      <th>LIVINGAPARTMENTS_AVG</th>\n      <td>32780</td>\n      <td>67.2</td>\n    </tr>\n  </tbody>\n</table>\n</div>"
     },
     "execution_count": 51,
     "metadata": {},
     "output_type": "execute_result"
    }
   ]
  },
  {
   "metadata": {
    "_uuid": "1ecf51b6455fdef32ea7b50cdaf05eed211b15e7",
    "trusted": true,
    "collapsed": true
   },
   "cell_type": "code",
   "source": [
    "missing_test_vars = list(missing_test.index[missing_test['% of Total Values'] > 90])\n",
    "len(missing_test_vars)"
   ],
   "execution_count": 52,
   "outputs": [
    {
     "data": {
      "text/plain": "0"
     },
     "execution_count": 52,
     "metadata": {},
     "output_type": "execute_result"
    }
   ]
  },
  {
   "metadata": {
    "_uuid": "caa333e30cf19898f4b902d64fbd790659c8f035",
    "trusted": true,
    "collapsed": true
   },
   "cell_type": "code",
   "source": [
    "missing_columns = list(set(missing_test_vars + missing_train_vars))\n",
    "print('There are %d columns with more than 90%% missing in either the training or testing data.' % len(missing_columns))"
   ],
   "execution_count": 53,
   "outputs": [
    {
     "name": "stdout",
     "output_type": "stream",
     "text": [
      "There are 0 columns with more than 90% missing in either the training or testing data.\n"
     ]
    }
   ]
  },
  {
   "metadata": {
    "_uuid": "3ae7c69dc4112159c5e1356b06821ba169ac595d",
    "collapsed": true,
    "trusted": true
   },
   "cell_type": "code",
   "source": [
    "# Drop the missing columns\n",
    "train = train.drop(columns=missing_columns)\n",
    "test = test.drop(columns=missing_columns)"
   ],
   "execution_count": 54,
   "outputs": []
  },
  {
   "metadata": {
    "_uuid": "ba618f25fe2fb25681228d518cc56f88572cf7fd"
   },
   "cell_type": "markdown",
   "source": [
    "We ended up removing no columns in this round because there are no columns with more than 90% missing values. We might have to apply another feature selection method to reduce the dimensionality. "
   ]
  },
  {
   "metadata": {
    "_uuid": "91197da37fcd84538520f03b50e0b060a19cc71d"
   },
   "cell_type": "markdown",
   "source": [
    "At this point we will save both the training and testing data. I encourage anyone to try different percentages for dropping the missing columns and compare the outcomes. "
   ]
  },
  {
   "metadata": {
    "_uuid": "a7d15638e419b84bf164b20e5195db37885e3e0d",
    "collapsed": true,
    "trusted": true
   },
   "cell_type": "code",
   "source": [
    "train.to_csv('./output/train_bureau_raw.csv', index=False)\n",
    "test.to_csv('./output/test_bureau_raw.csv', index=False)"
   ],
   "execution_count": 55,
   "outputs": []
  },
  {
   "metadata": {
    "_uuid": "9425c558df0c882cffe4fc07da41394a6fb3b422"
   },
   "cell_type": "markdown",
   "source": [
    "## Correlations\n",
    "\n",
    "First let's look at the correlations of the variables with the target. We can see in any of the variables we created have a greater correlation than those already present in the training data (from `application`). "
   ]
  },
  {
   "metadata": {
    "_uuid": "87c47e087eaacb846572ffdd58c22ca1f0ce0010",
    "collapsed": true,
    "trusted": true
   },
   "cell_type": "code",
   "source": [
    "# Calculate all correlations in dataframe\n",
    "corrs = train.corr()"
   ],
   "execution_count": 56,
   "outputs": []
  },
  {
   "metadata": {
    "_uuid": "75c757ae81ff84d9e3453ca7c74ce59326e24b84",
    "trusted": true,
    "collapsed": true
   },
   "cell_type": "code",
   "source": [
    "corrs = corrs.sort_values('TARGET', ascending=False)\n",
    "\n",
    "# Ten most positive correlations\n",
    "pd.DataFrame(corrs['TARGET'].head(10))"
   ],
   "execution_count": 57,
   "outputs": [
    {
     "data": {
      "text/plain": "                                                  TARGET\nTARGET                                          1.000000\nbureau_DAYS_CREDIT_mean                         0.089729\nclient_bureau_balance_MONTHS_BALANCE_min_mean   0.089038\nDAYS_BIRTH                                      0.078239\nbureau_CREDIT_ACTIVE_Active_count_norm          0.077356\nclient_bureau_balance_MONTHS_BALANCE_mean_mean  0.076424\nbureau_DAYS_CREDIT_min                          0.075248\nclient_bureau_balance_MONTHS_BALANCE_min_min    0.073225\nclient_bureau_balance_MONTHS_BALANCE_sum_mean   0.072606\nbureau_DAYS_CREDIT_UPDATE_mean                  0.068927",
      "text/html": "<div>\n<style scoped>\n    .dataframe tbody tr th:only-of-type {\n        vertical-align: middle;\n    }\n\n    .dataframe tbody tr th {\n        vertical-align: top;\n    }\n\n    .dataframe thead th {\n        text-align: right;\n    }\n</style>\n<table border=\"1\" class=\"dataframe\">\n  <thead>\n    <tr style=\"text-align: right;\">\n      <th></th>\n      <th>TARGET</th>\n    </tr>\n  </thead>\n  <tbody>\n    <tr>\n      <th>TARGET</th>\n      <td>1.000000</td>\n    </tr>\n    <tr>\n      <th>bureau_DAYS_CREDIT_mean</th>\n      <td>0.089729</td>\n    </tr>\n    <tr>\n      <th>client_bureau_balance_MONTHS_BALANCE_min_mean</th>\n      <td>0.089038</td>\n    </tr>\n    <tr>\n      <th>DAYS_BIRTH</th>\n      <td>0.078239</td>\n    </tr>\n    <tr>\n      <th>bureau_CREDIT_ACTIVE_Active_count_norm</th>\n      <td>0.077356</td>\n    </tr>\n    <tr>\n      <th>client_bureau_balance_MONTHS_BALANCE_mean_mean</th>\n      <td>0.076424</td>\n    </tr>\n    <tr>\n      <th>bureau_DAYS_CREDIT_min</th>\n      <td>0.075248</td>\n    </tr>\n    <tr>\n      <th>client_bureau_balance_MONTHS_BALANCE_min_min</th>\n      <td>0.073225</td>\n    </tr>\n    <tr>\n      <th>client_bureau_balance_MONTHS_BALANCE_sum_mean</th>\n      <td>0.072606</td>\n    </tr>\n    <tr>\n      <th>bureau_DAYS_CREDIT_UPDATE_mean</th>\n      <td>0.068927</td>\n    </tr>\n  </tbody>\n</table>\n</div>"
     },
     "execution_count": 57,
     "metadata": {},
     "output_type": "execute_result"
    }
   ]
  },
  {
   "metadata": {
    "_uuid": "6774bdef9c97bc58191101414a0a067561f12160",
    "trusted": true,
    "collapsed": true
   },
   "cell_type": "code",
   "source": [
    "# Ten most negative correlations\n",
    "pd.DataFrame(corrs['TARGET'].dropna().tail(10))"
   ],
   "execution_count": 58,
   "outputs": [
    {
     "data": {
      "text/plain": "                                                   TARGET\nclient_bureau_balance_MONTHS_BALANCE_count_min  -0.048224\nclient_bureau_balance_STATUS_C_count_norm_mean  -0.055936\nclient_bureau_balance_STATUS_C_count_max        -0.061083\nclient_bureau_balance_STATUS_C_count_mean       -0.062954\nclient_bureau_balance_MONTHS_BALANCE_count_max  -0.068792\nbureau_CREDIT_ACTIVE_Closed_count_norm          -0.079369\nclient_bureau_balance_MONTHS_BALANCE_count_mean -0.080193\nEXT_SOURCE_1                                    -0.155317\nEXT_SOURCE_2                                    -0.160472\nEXT_SOURCE_3                                    -0.178919",
      "text/html": "<div>\n<style scoped>\n    .dataframe tbody tr th:only-of-type {\n        vertical-align: middle;\n    }\n\n    .dataframe tbody tr th {\n        vertical-align: top;\n    }\n\n    .dataframe thead th {\n        text-align: right;\n    }\n</style>\n<table border=\"1\" class=\"dataframe\">\n  <thead>\n    <tr style=\"text-align: right;\">\n      <th></th>\n      <th>TARGET</th>\n    </tr>\n  </thead>\n  <tbody>\n    <tr>\n      <th>client_bureau_balance_MONTHS_BALANCE_count_min</th>\n      <td>-0.048224</td>\n    </tr>\n    <tr>\n      <th>client_bureau_balance_STATUS_C_count_norm_mean</th>\n      <td>-0.055936</td>\n    </tr>\n    <tr>\n      <th>client_bureau_balance_STATUS_C_count_max</th>\n      <td>-0.061083</td>\n    </tr>\n    <tr>\n      <th>client_bureau_balance_STATUS_C_count_mean</th>\n      <td>-0.062954</td>\n    </tr>\n    <tr>\n      <th>client_bureau_balance_MONTHS_BALANCE_count_max</th>\n      <td>-0.068792</td>\n    </tr>\n    <tr>\n      <th>bureau_CREDIT_ACTIVE_Closed_count_norm</th>\n      <td>-0.079369</td>\n    </tr>\n    <tr>\n      <th>client_bureau_balance_MONTHS_BALANCE_count_mean</th>\n      <td>-0.080193</td>\n    </tr>\n    <tr>\n      <th>EXT_SOURCE_1</th>\n      <td>-0.155317</td>\n    </tr>\n    <tr>\n      <th>EXT_SOURCE_2</th>\n      <td>-0.160472</td>\n    </tr>\n    <tr>\n      <th>EXT_SOURCE_3</th>\n      <td>-0.178919</td>\n    </tr>\n  </tbody>\n</table>\n</div>"
     },
     "execution_count": 58,
     "metadata": {},
     "output_type": "execute_result"
    }
   ]
  },
  {
   "metadata": {
    "_uuid": "0d98ec8d33f097aa3702933cfb64d82bfbd62232"
   },
   "cell_type": "markdown",
   "source": [
    "The highest correlated variable with the target (other than the `TARGET` which of course has a correlation of 1), is a variable we created. However, just because the variable is correlated does not mean that it will be useful, and we have to remember that if we generate hundreds of new variables, some are going to be correlated with the target simply because of random noise. \n",
    "\n",
    "Viewing the correlations skeptically, it does appear that several of the newly created variables may be useful. To assess the \"usefulness\" of variables, we will look at the feature importances returned by the model. For curiousity's sake (and because we already wrote the function) we can make a kde plot of two of the newly created variables."
   ]
  },
  {
   "metadata": {
    "_uuid": "c92a7810a7e0e6fd5d92e1be50749e427fae7c11",
    "trusted": true,
    "collapsed": true
   },
   "cell_type": "code",
   "source": [
    "kde_target(var_name='client_bureau_balance_counts_mean', df=train)"
   ],
   "execution_count": 59,
   "outputs": [
    {
     "ename": "KeyError",
     "evalue": "'client_bureau_balance_counts_mean'",
     "output_type": "error",
     "traceback": [
      "\u001B[1;31m---------------------------------------------------------------------------\u001B[0m",
      "\u001B[1;31mKeyError\u001B[0m                                  Traceback (most recent call last)",
      "\u001B[1;32m~\\AppData\\Local\\Programs\\Python\\Python310\\lib\\site-packages\\pandas\\core\\indexes\\base.py\u001B[0m in \u001B[0;36mget_loc\u001B[1;34m(self, key, method, tolerance)\u001B[0m\n\u001B[0;32m   3360\u001B[0m             \u001B[1;32mtry\u001B[0m\u001B[1;33m:\u001B[0m\u001B[1;33m\u001B[0m\u001B[1;33m\u001B[0m\u001B[0m\n\u001B[1;32m-> 3361\u001B[1;33m                 \u001B[1;32mreturn\u001B[0m \u001B[0mself\u001B[0m\u001B[1;33m.\u001B[0m\u001B[0m_engine\u001B[0m\u001B[1;33m.\u001B[0m\u001B[0mget_loc\u001B[0m\u001B[1;33m(\u001B[0m\u001B[0mcasted_key\u001B[0m\u001B[1;33m)\u001B[0m\u001B[1;33m\u001B[0m\u001B[1;33m\u001B[0m\u001B[0m\n\u001B[0m\u001B[0;32m   3362\u001B[0m             \u001B[1;32mexcept\u001B[0m \u001B[0mKeyError\u001B[0m \u001B[1;32mas\u001B[0m \u001B[0merr\u001B[0m\u001B[1;33m:\u001B[0m\u001B[1;33m\u001B[0m\u001B[1;33m\u001B[0m\u001B[0m\n",
      "\u001B[1;32m~\\AppData\\Local\\Programs\\Python\\Python310\\lib\\site-packages\\pandas\\_libs\\index.pyx\u001B[0m in \u001B[0;36mpandas._libs.index.IndexEngine.get_loc\u001B[1;34m()\u001B[0m\n",
      "\u001B[1;32m~\\AppData\\Local\\Programs\\Python\\Python310\\lib\\site-packages\\pandas\\_libs\\index.pyx\u001B[0m in \u001B[0;36mpandas._libs.index.IndexEngine.get_loc\u001B[1;34m()\u001B[0m\n",
      "\u001B[1;32mpandas\\_libs\\hashtable_class_helper.pxi\u001B[0m in \u001B[0;36mpandas._libs.hashtable.PyObjectHashTable.get_item\u001B[1;34m()\u001B[0m\n",
      "\u001B[1;32mpandas\\_libs\\hashtable_class_helper.pxi\u001B[0m in \u001B[0;36mpandas._libs.hashtable.PyObjectHashTable.get_item\u001B[1;34m()\u001B[0m\n",
      "\u001B[1;31mKeyError\u001B[0m: 'client_bureau_balance_counts_mean'",
      "\nThe above exception was the direct cause of the following exception:\n",
      "\u001B[1;31mKeyError\u001B[0m                                  Traceback (most recent call last)",
      "\u001B[1;32m~\\AppData\\Local\\Temp/ipykernel_11364/122394034.py\u001B[0m in \u001B[0;36m<module>\u001B[1;34m\u001B[0m\n\u001B[1;32m----> 1\u001B[1;33m \u001B[0mkde_target\u001B[0m\u001B[1;33m(\u001B[0m\u001B[0mvar_name\u001B[0m\u001B[1;33m=\u001B[0m\u001B[1;34m'client_bureau_balance_counts_mean'\u001B[0m\u001B[1;33m,\u001B[0m \u001B[0mdf\u001B[0m\u001B[1;33m=\u001B[0m\u001B[0mtrain\u001B[0m\u001B[1;33m)\u001B[0m\u001B[1;33m\u001B[0m\u001B[1;33m\u001B[0m\u001B[0m\n\u001B[0m\u001B[0;32m      2\u001B[0m \u001B[1;33m\u001B[0m\u001B[0m\n",
      "\u001B[1;32m~\\AppData\\Local\\Temp/ipykernel_11364/1320733999.py\u001B[0m in \u001B[0;36mkde_target\u001B[1;34m(var_name, df)\u001B[0m\n\u001B[0;32m      2\u001B[0m \u001B[1;32mdef\u001B[0m \u001B[0mkde_target\u001B[0m\u001B[1;33m(\u001B[0m\u001B[0mvar_name\u001B[0m\u001B[1;33m,\u001B[0m \u001B[0mdf\u001B[0m\u001B[1;33m)\u001B[0m\u001B[1;33m:\u001B[0m\u001B[1;33m\u001B[0m\u001B[1;33m\u001B[0m\u001B[0m\n\u001B[0;32m      3\u001B[0m     \u001B[1;31m# Calculate the correlation coefficient between the new variable and the target\u001B[0m\u001B[1;33m\u001B[0m\u001B[1;33m\u001B[0m\u001B[0m\n\u001B[1;32m----> 4\u001B[1;33m     \u001B[0mcorr\u001B[0m \u001B[1;33m=\u001B[0m \u001B[0mdf\u001B[0m\u001B[1;33m[\u001B[0m\u001B[1;34m'TARGET'\u001B[0m\u001B[1;33m]\u001B[0m\u001B[1;33m.\u001B[0m\u001B[0mcorr\u001B[0m\u001B[1;33m(\u001B[0m\u001B[0mdf\u001B[0m\u001B[1;33m[\u001B[0m\u001B[0mvar_name\u001B[0m\u001B[1;33m]\u001B[0m\u001B[1;33m)\u001B[0m\u001B[1;33m\u001B[0m\u001B[1;33m\u001B[0m\u001B[0m\n\u001B[0m\u001B[0;32m      5\u001B[0m \u001B[1;33m\u001B[0m\u001B[0m\n\u001B[0;32m      6\u001B[0m     \u001B[1;31m# Calculate medians for repaid vs not repaid\u001B[0m\u001B[1;33m\u001B[0m\u001B[1;33m\u001B[0m\u001B[0m\n",
      "\u001B[1;32m~\\AppData\\Local\\Programs\\Python\\Python310\\lib\\site-packages\\pandas\\core\\frame.py\u001B[0m in \u001B[0;36m__getitem__\u001B[1;34m(self, key)\u001B[0m\n\u001B[0;32m   3456\u001B[0m             \u001B[1;32mif\u001B[0m \u001B[0mself\u001B[0m\u001B[1;33m.\u001B[0m\u001B[0mcolumns\u001B[0m\u001B[1;33m.\u001B[0m\u001B[0mnlevels\u001B[0m \u001B[1;33m>\u001B[0m \u001B[1;36m1\u001B[0m\u001B[1;33m:\u001B[0m\u001B[1;33m\u001B[0m\u001B[1;33m\u001B[0m\u001B[0m\n\u001B[0;32m   3457\u001B[0m                 \u001B[1;32mreturn\u001B[0m \u001B[0mself\u001B[0m\u001B[1;33m.\u001B[0m\u001B[0m_getitem_multilevel\u001B[0m\u001B[1;33m(\u001B[0m\u001B[0mkey\u001B[0m\u001B[1;33m)\u001B[0m\u001B[1;33m\u001B[0m\u001B[1;33m\u001B[0m\u001B[0m\n\u001B[1;32m-> 3458\u001B[1;33m             \u001B[0mindexer\u001B[0m \u001B[1;33m=\u001B[0m \u001B[0mself\u001B[0m\u001B[1;33m.\u001B[0m\u001B[0mcolumns\u001B[0m\u001B[1;33m.\u001B[0m\u001B[0mget_loc\u001B[0m\u001B[1;33m(\u001B[0m\u001B[0mkey\u001B[0m\u001B[1;33m)\u001B[0m\u001B[1;33m\u001B[0m\u001B[1;33m\u001B[0m\u001B[0m\n\u001B[0m\u001B[0;32m   3459\u001B[0m             \u001B[1;32mif\u001B[0m \u001B[0mis_integer\u001B[0m\u001B[1;33m(\u001B[0m\u001B[0mindexer\u001B[0m\u001B[1;33m)\u001B[0m\u001B[1;33m:\u001B[0m\u001B[1;33m\u001B[0m\u001B[1;33m\u001B[0m\u001B[0m\n\u001B[0;32m   3460\u001B[0m                 \u001B[0mindexer\u001B[0m \u001B[1;33m=\u001B[0m \u001B[1;33m[\u001B[0m\u001B[0mindexer\u001B[0m\u001B[1;33m]\u001B[0m\u001B[1;33m\u001B[0m\u001B[1;33m\u001B[0m\u001B[0m\n",
      "\u001B[1;32m~\\AppData\\Local\\Programs\\Python\\Python310\\lib\\site-packages\\pandas\\core\\indexes\\base.py\u001B[0m in \u001B[0;36mget_loc\u001B[1;34m(self, key, method, tolerance)\u001B[0m\n\u001B[0;32m   3361\u001B[0m                 \u001B[1;32mreturn\u001B[0m \u001B[0mself\u001B[0m\u001B[1;33m.\u001B[0m\u001B[0m_engine\u001B[0m\u001B[1;33m.\u001B[0m\u001B[0mget_loc\u001B[0m\u001B[1;33m(\u001B[0m\u001B[0mcasted_key\u001B[0m\u001B[1;33m)\u001B[0m\u001B[1;33m\u001B[0m\u001B[1;33m\u001B[0m\u001B[0m\n\u001B[0;32m   3362\u001B[0m             \u001B[1;32mexcept\u001B[0m \u001B[0mKeyError\u001B[0m \u001B[1;32mas\u001B[0m \u001B[0merr\u001B[0m\u001B[1;33m:\u001B[0m\u001B[1;33m\u001B[0m\u001B[1;33m\u001B[0m\u001B[0m\n\u001B[1;32m-> 3363\u001B[1;33m                 \u001B[1;32mraise\u001B[0m \u001B[0mKeyError\u001B[0m\u001B[1;33m(\u001B[0m\u001B[0mkey\u001B[0m\u001B[1;33m)\u001B[0m \u001B[1;32mfrom\u001B[0m \u001B[0merr\u001B[0m\u001B[1;33m\u001B[0m\u001B[1;33m\u001B[0m\u001B[0m\n\u001B[0m\u001B[0;32m   3364\u001B[0m \u001B[1;33m\u001B[0m\u001B[0m\n\u001B[0;32m   3365\u001B[0m         \u001B[1;32mif\u001B[0m \u001B[0mis_scalar\u001B[0m\u001B[1;33m(\u001B[0m\u001B[0mkey\u001B[0m\u001B[1;33m)\u001B[0m \u001B[1;32mand\u001B[0m \u001B[0misna\u001B[0m\u001B[1;33m(\u001B[0m\u001B[0mkey\u001B[0m\u001B[1;33m)\u001B[0m \u001B[1;32mand\u001B[0m \u001B[1;32mnot\u001B[0m \u001B[0mself\u001B[0m\u001B[1;33m.\u001B[0m\u001B[0mhasnans\u001B[0m\u001B[1;33m:\u001B[0m\u001B[1;33m\u001B[0m\u001B[1;33m\u001B[0m\u001B[0m\n",
      "\u001B[1;31mKeyError\u001B[0m: 'client_bureau_balance_counts_mean'"
     ]
    }
   ]
  },
  {
   "metadata": {
    "_uuid": "b8c47b227c6c4130ea9d3454a789b82c422d20a5"
   },
   "cell_type": "markdown",
   "source": [
    "This variable represents the average number of monthly records per loan for each client. For example, if a client had three previous loans with 3, 4, and 5 records in the monthly data, the value of this variable for them would be 4. Based on the distribution, clients with a greater number of average monthly records per loan were more likely to repay their loans with Home Credit. Let's not read too much into this value, but it could indicate that clients who have had more previous credit history are generally more likely to repay a loan."
   ]
  },
  {
   "metadata": {
    "_uuid": "17e1cb7c492b1c122556ac16472fbbdee5a1030a",
    "trusted": true,
    "collapsed": true
   },
   "cell_type": "code",
   "source": [
    "kde_target(var_name='bureau_CREDIT_ACTIVE_Active_count_norm', df=train)"
   ],
   "execution_count": null,
   "outputs": []
  },
  {
   "metadata": {
    "_uuid": "dd71a301ca0fe799b5f36ddd07cf3224c03e1cd9"
   },
   "cell_type": "markdown",
   "source": [
    "Well this distribution is all over the place. This variable represents the number of previous loans with a `CREDIT_ACTIVE` value of `Active` divided by the total number of previous loans for a client. The correlation here is so weak that I do not think we should draw any conclusions! "
   ]
  },
  {
   "metadata": {
    "_uuid": "e6ed8ce92d28415771fe4e4cc872117a18357181"
   },
   "cell_type": "markdown",
   "source": [
    "### Collinear Variables\n",
    "\n",
    "We can calculate not only the correlations of the variables with the target, but also the correlation of each variable with every other variable. This will allow us to see if there are highly collinear variables that should perhaps be removed from the data. \n",
    "\n",
    "Let's look for any variables that have a greather than 0.8 correlation with other variables."
   ]
  },
  {
   "metadata": {
    "_uuid": "7330e7311864a70afa75b7e7c33ad4b3d77df040",
    "collapsed": true,
    "trusted": true
   },
   "cell_type": "code",
   "source": [
    "# Set the threshold\n",
    "threshold = 0.8\n",
    "\n",
    "# Empty dictionary to hold correlated variables\n",
    "above_threshold_vars = {}\n",
    "\n",
    "# For each column, record the variables that are above the threshold\n",
    "for col in corrs:\n",
    "    above_threshold_vars[col] = list(corrs.index[corrs[col] > threshold])"
   ],
   "execution_count": null,
   "outputs": []
  },
  {
   "metadata": {
    "_uuid": "8dcfa3892d84efa2e0db448b9542c9effad01e85"
   },
   "cell_type": "markdown",
   "source": [
    "For each of these pairs of highly correlated variables, we only want to remove one of the variables. The following code creates a set of variables to remove by only adding one of each pair. "
   ]
  },
  {
   "metadata": {
    "_uuid": "0134543670e895436769c64a58bbdee7eb7a255f",
    "trusted": true,
    "collapsed": true
   },
   "cell_type": "code",
   "source": [
    "# Track columns to remove and columns already examined\n",
    "cols_to_remove = []\n",
    "cols_seen = []\n",
    "cols_to_remove_pair = []\n",
    "\n",
    "# Iterate through columns and correlated columns\n",
    "for key, value in above_threshold_vars.items():\n",
    "    # Keep track of columns already examined\n",
    "    cols_seen.append(key)\n",
    "    for x in value:\n",
    "        if x == key:\n",
    "            next\n",
    "        else:\n",
    "            # Only want to remove one in a pair\n",
    "            if x not in cols_seen:\n",
    "                cols_to_remove.append(x)\n",
    "                cols_to_remove_pair.append(key)\n",
    "\n",
    "cols_to_remove = list(set(cols_to_remove))\n",
    "print('Number of columns to remove: ', len(cols_to_remove))"
   ],
   "execution_count": null,
   "outputs": []
  },
  {
   "metadata": {
    "_uuid": "be37ec11c061291e143c01102703103c0915ffcb"
   },
   "cell_type": "markdown",
   "source": [
    "We can remove these columns from both the training and the testing datasets. We will have to compare performance after removing these variables with performance keeping these variables (the raw csv files we saved earlier)."
   ]
  },
  {
   "metadata": {
    "_uuid": "0fedcbce9bce99809bf7d4559b6ad93e8ecca8ea",
    "trusted": true,
    "collapsed": true
   },
   "cell_type": "code",
   "source": [
    "train_corrs_removed = train.drop(columns=cols_to_remove)\n",
    "test_corrs_removed = test.drop(columns=cols_to_remove)\n",
    "\n",
    "print('Training Corrs Removed Shape: ', train_corrs_removed.shape)\n",
    "print('Testing Corrs Removed Shape: ', test_corrs_removed.shape)"
   ],
   "execution_count": null,
   "outputs": []
  },
  {
   "metadata": {
    "_uuid": "2f4443a62f6e8987c0be2e3162589444ecd7d275",
    "collapsed": true,
    "trusted": true
   },
   "cell_type": "code",
   "source": [
    "train_corrs_removed.to_csv('./output/train_bureau_corrs_removed.csv', index=False)\n",
    "test_corrs_removed.to_csv('./output/test_bureau_corrs_removed.csv', index=False)"
   ],
   "execution_count": null,
   "outputs": []
  },
  {
   "metadata": {
    "_uuid": "be48572e88f64f00b4221da7782ac834444c96b0"
   },
   "cell_type": "markdown",
   "source": [
    "# Modeling \n",
    "\n",
    "To actually test the performance of these new datasets, we will try using them for machine learning! Here we will use a function I developed in another notebook to compare the features (the raw version with the highly correlated variables removed). We can run this kind of like an experiment, and the control will be the performance of just the `application` data in this function when submitted to the competition. I've already recorded that performance, \n",
    "so we can list out our control and our two test conditions:\n",
    "\n",
    "__For all datasets, use the model shown below (with the exact hyperparameters).__\n",
    "\n",
    "* control: only the data in the `application` files. \n",
    "* test one: the data in the `application` files with all of the data recorded from the `bureau` and `bureau_balance` files\n",
    "* test two: the data in the `application` files with all of the data recorded from the `bureau` and `bureau_balance` files with highly correlated variables removed. "
   ]
  },
  {
   "metadata": {
    "_uuid": "58aac4a109bde812ca8b75b1c9271550dcf2d397",
    "collapsed": true,
    "trusted": true
   },
   "cell_type": "code",
   "source": [
    "import lightgbm as lgb\n",
    "\n",
    "from sklearn.model_selection import KFold\n",
    "from sklearn.metrics import t\n",
    "from sklearn.preprocessing import LabelEncoder\n",
    "\n",
    "import gc\n",
    "\n",
    "import matplotlib.pyplot as plt"
   ],
   "execution_count": null,
   "outputs": []
  },
  {
   "metadata": {
    "_uuid": "ae2c8a505885482595f027e6139b55966a88861e",
    "collapsed": true,
    "trusted": true
   },
   "cell_type": "code",
   "source": [
    "def model(features, test_features, encoding='ohe', n_folds=5):\n",
    "    \"\"\"Train and test a light gradient boosting model using\n",
    "    cross validation. \n",
    "    \n",
    "    Parameters\n",
    "    --------\n",
    "        features (pd.DataFrame): \n",
    "            dataframe of training features to use \n",
    "            for training a model. Must include the TARGET column.\n",
    "        test_features (pd.DataFrame): \n",
    "            dataframe of testing features to use\n",
    "            for making predictions with the model. \n",
    "        encoding (str, default = 'ohe'): \n",
    "            method for encoding categorical variables. Either 'ohe' for one-hot encoding or 'le' for integer label encoding\n",
    "            n_folds (int, default = 5): number of folds to use for cross validation\n",
    "        \n",
    "    Return\n",
    "    --------\n",
    "        submission (pd.DataFrame): \n",
    "            dataframe with `SK_ID_CURR` and `TARGET` probabilities\n",
    "            predicted by the model.\n",
    "        feature_importances (pd.DataFrame): \n",
    "            dataframe with the feature importances from the model.\n",
    "        valid_metrics (pd.DataFrame): \n",
    "            dataframe with training and validation metrics (ROC AUC) for each fold and overall.\n",
    "        \n",
    "    \"\"\"\n",
    "\n",
    "    # Extract the ids\n",
    "    train_ids = features['SK_ID_CURR']\n",
    "    test_ids = test_features['SK_ID_CURR']\n",
    "\n",
    "    # Extract the labels for training\n",
    "    labels = features['TARGET']\n",
    "\n",
    "    # Remove the ids and target\n",
    "    features = features.drop(columns=['SK_ID_CURR', 'TARGET'])\n",
    "    test_features = test_features.drop(columns=['SK_ID_CURR'])\n",
    "\n",
    "    # One Hot Encoding\n",
    "    if encoding == 'ohe':\n",
    "        features = pd.get_dummies(features)\n",
    "        test_features = pd.get_dummies(test_features)\n",
    "\n",
    "        # Align the dataframes by the columns\n",
    "        features, test_features = features.align(test_features, join='inner', axis=1)\n",
    "\n",
    "        # No categorical indices to record\n",
    "        cat_indices = 'auto'\n",
    "\n",
    "    # Integer label encoding\n",
    "    elif encoding == 'le':\n",
    "\n",
    "        # Create a label encoder\n",
    "        label_encoder = LabelEncoder()\n",
    "\n",
    "        # List for storing categorical indices\n",
    "        cat_indices = []\n",
    "\n",
    "        # Iterate through each column\n",
    "        for i, col in enumerate(features):\n",
    "            if features[col].dtype == 'object':\n",
    "                # Map the categorical features to integers\n",
    "                features[col] = label_encoder.fit_transform(np.array(features[col].astype(str)).reshape((-1,)))\n",
    "                test_features[col] = label_encoder.transform(np.array(test_features[col].astype(str)).reshape((-1,)))\n",
    "\n",
    "                # Record the categorical indices\n",
    "                cat_indices.append(i)\n",
    "\n",
    "    # Catch error if label encoding scheme is not valid\n",
    "    else:\n",
    "        raise ValueError(\"Encoding must be either 'ohe' or 'le'\")\n",
    "\n",
    "    print('Training Data Shape: ', features.shape)\n",
    "    print('Testing Data Shape: ', test_features.shape)\n",
    "\n",
    "    # Extract feature names\n",
    "    feature_names = list(features.columns)\n",
    "\n",
    "    # Convert to np arrays\n",
    "    features = np.array(features)\n",
    "    test_features = np.array(test_features)\n",
    "\n",
    "    # Create the kfold object\n",
    "    k_fold = KFold(n_splits=n_folds, shuffle=False, random_state=50)\n",
    "\n",
    "    # Empty array for feature importances\n",
    "    feature_importance_values = np.zeros(len(feature_names))\n",
    "\n",
    "    # Empty array for test predictions\n",
    "    test_predictions = np.zeros(test_features.shape[0])\n",
    "\n",
    "    # Empty array for out of fold validation predictions\n",
    "    out_of_fold = np.zeros(features.shape[0])\n",
    "\n",
    "    # Lists for recording validation and training scores\n",
    "    valid_scores = []\n",
    "    train_scores = []\n",
    "\n",
    "    # Iterate through each fold\n",
    "    for train_indices, valid_indices in k_fold.split(features):\n",
    "        # Training data for the fold\n",
    "        train_features, train_labels = features[train_indices], labels[train_indices]\n",
    "        # Validation data for the fold\n",
    "        valid_features, valid_labels = features[valid_indices], labels[valid_indices]\n",
    "\n",
    "        # Create the model\n",
    "        model = lgb.LGBMClassifier(n_estimators=10000, objective='binary',\n",
    "                                   class_weight='balanced', learning_rate=0.05,\n",
    "                                   reg_alpha=0.1, reg_lambda=0.1,\n",
    "                                   subsample=0.8, n_jobs=-1, random_state=50)\n",
    "\n",
    "        # Train the model\n",
    "        model.fit(train_features, train_labels, eval_metric='auc',\n",
    "                  eval_set=[(valid_features, valid_labels), (train_features, train_labels)],\n",
    "                  eval_names=['valid', 'train'], categorical_feature=cat_indices,\n",
    "                  early_stopping_rounds=100, verbose=200)\n",
    "\n",
    "        # Record the best iteration\n",
    "        best_iteration = model.best_iteration_\n",
    "\n",
    "        # Record the feature importances\n",
    "        feature_importance_values += model.feature_importances_ / k_fold.n_splits\n",
    "\n",
    "        # Make predictions\n",
    "        test_predictions += model.predict_proba(test_features, num_iteration=best_iteration)[:, 1] / k_fold.n_splits\n",
    "\n",
    "        # Record the out of fold predictions\n",
    "        out_of_fold[valid_indices] = model.predict_proba(valid_features, num_iteration=best_iteration)[:, 1]\n",
    "\n",
    "        # Record the best score\n",
    "        valid_score = model.best_score_['valid']['auc']\n",
    "        train_score = model.best_score_['train']['auc']\n",
    "\n",
    "        valid_scores.append(valid_score)\n",
    "        train_scores.append(train_score)\n",
    "\n",
    "        # Clean up memory\n",
    "        gc.enable()\n",
    "        del model, train_features, valid_features\n",
    "        gc.collect()\n",
    "\n",
    "    # Make the submission dataframe\n",
    "    submission = pd.DataFrame({'SK_ID_CURR': test_ids, 'TARGET': test_predictions})\n",
    "\n",
    "    # Make the feature importance dataframe\n",
    "    feature_importances = pd.DataFrame({'feature': feature_names, 'importance': feature_importance_values})\n",
    "\n",
    "    # Overall validation score\n",
    "    valid_auc = roc_auc_score(labels, out_of_fold)\n",
    "\n",
    "    # Add the overall scores to the metrics\n",
    "    valid_scores.append(valid_auc)\n",
    "    train_scores.append(np.mean(train_scores))\n",
    "\n",
    "    # Needed for creating dataframe of validation scores\n",
    "    fold_names = list(range(n_folds))\n",
    "    fold_names.append('overall')\n",
    "\n",
    "    # Dataframe of validation scores\n",
    "    metrics = pd.DataFrame({'fold': fold_names,\n",
    "                            'train': train_scores,\n",
    "                            'valid': valid_scores})\n",
    "\n",
    "    return submission, feature_importances, metrics"
   ],
   "execution_count": null,
   "outputs": []
  },
  {
   "metadata": {
    "_uuid": "6b39fe9584e0308b7e940c11e6de04b262d123c7",
    "collapsed": true,
    "trusted": true
   },
   "cell_type": "code",
   "source": [
    "def plot_feature_importances(df):\n",
    "    \"\"\"\n",
    "    Plot importances returned by a model. This can work with any measure of\n",
    "    feature importance provided that higher importance is better. \n",
    "    \n",
    "    Args:\n",
    "        df (dataframe): feature importances. Must have the features in a column\n",
    "        called `features` and the importances in a column called `importance\n",
    "        \n",
    "    Returns:\n",
    "        shows a plot of the 15 most importance features\n",
    "        \n",
    "        df (dataframe): feature importances sorted by importance (highest to lowest) \n",
    "        with a column for normalized importance\n",
    "        \"\"\"\n",
    "\n",
    "    # Sort features according to importance\n",
    "    df = df.sort_values('importance', ascending=False).reset_index()\n",
    "\n",
    "    # Normalize the feature importances to add up to one\n",
    "    df['importance_normalized'] = df['importance'] / df['importance'].sum()\n",
    "\n",
    "    # Make a horizontal bar chart of feature importances\n",
    "    plt.figure(figsize=(10, 6))\n",
    "    ax = plt.subplot()\n",
    "\n",
    "    # Need to reverse the index to plot most important on top\n",
    "    ax.barh(list(reversed(list(df.index[:15]))),\n",
    "            df['importance_normalized'].head(15),\n",
    "            align='center', edgecolor='k')\n",
    "\n",
    "    # Set the yticks and labels\n",
    "    ax.set_yticks(list(reversed(list(df.index[:15]))))\n",
    "    ax.set_yticklabels(df['feature'].head(15))\n",
    "\n",
    "    # Plot labeling\n",
    "    plt.xlabel('Normalized Importance');\n",
    "    plt.title('Feature Importances')\n",
    "    plt.show()\n",
    "\n",
    "    return df"
   ],
   "execution_count": null,
   "outputs": []
  },
  {
   "metadata": {
    "_uuid": "52cc81edc0b29905d2325f201f7902e96c321e32"
   },
   "cell_type": "markdown",
   "source": [
    "### Control\n",
    "\n",
    "The first step in any experiment is establishing a control. For this we will use the function defined above (that implements a Gradient Boosting Machine model) and the single main data source (`application`). "
   ]
  },
  {
   "metadata": {
    "_uuid": "7b9f0e5faa3de9403f87032fe3fc339cb732ad17",
    "collapsed": true,
    "trusted": true
   },
   "cell_type": "code",
   "source": [
    "train_control = pd.read_csv('./input/application_train.csv')\n",
    "test_control = pd.read_csv('./input/application_test.csv')"
   ],
   "execution_count": null,
   "outputs": []
  },
  {
   "metadata": {
    "_uuid": "74c09643eee73b19d80acfca60dcd33df8747364"
   },
   "cell_type": "markdown",
   "source": [
    "Fortunately, once we have taken the time to write a function, using it is simple (if there's a central theme in this notebook, it's use functions to make things simpler and reproducible!). The function above returns a `submission` dataframe we can upload to the competition, a `fi` dataframe of feature importances, and a `metrics` dataframe with validation and test performance. "
   ]
  },
  {
   "metadata": {
    "_uuid": "3711f26b43863952e4edba7c3fc33f877ed499b2",
    "trusted": true,
    "collapsed": true
   },
   "cell_type": "code",
   "source": [
    "submission, fi, metrics = model(train_control, test_control)"
   ],
   "execution_count": null,
   "outputs": []
  },
  {
   "metadata": {
    "_uuid": "fed9ad5478719de194aeabec9b151f21effb99f5",
    "trusted": true,
    "collapsed": true
   },
   "cell_type": "code",
   "source": [
    "metrics"
   ],
   "execution_count": null,
   "outputs": []
  },
  {
   "metadata": {
    "_uuid": "4f3382baf72ccfc101660b2f062fee707e7cb041"
   },
   "cell_type": "markdown",
   "source": [
    "The control slightly overfits because the training score is higher than the validation score. We can address this in later notebooks when we look at regularization (we already perform some regularization in this model by using `reg_lambda` and `reg_alpha` as well as early stopping). \n",
    "\n",
    "We can visualize the feature importance with another function, `plot_feature_importances`. The feature importances may be useful when it's time for feature selection. "
   ]
  },
  {
   "metadata": {
    "_uuid": "c09f30bd4fb6e12b55d5a288fab358ffd1fe6f4d",
    "trusted": true,
    "collapsed": true
   },
   "cell_type": "code",
   "source": [
    "fi_sorted = plot_feature_importances(fi)"
   ],
   "execution_count": null,
   "outputs": []
  },
  {
   "metadata": {
    "_uuid": "6fe65cc25940a40c9966101acf9ea8f8477d7b77",
    "collapsed": true,
    "trusted": true
   },
   "cell_type": "code",
   "source": [
    "submission.to_csv('./output/control.csv', index=False)"
   ],
   "execution_count": null,
   "outputs": []
  },
  {
   "metadata": {
    "_uuid": "e502ef191ea2201b05f85cece2202931744fa539"
   },
   "cell_type": "markdown",
   "source": [
    "__The control scores 0.745 when submitted to the competition.__"
   ]
  },
  {
   "metadata": {
    "_uuid": "392da17505a7feb3320242ff9785ac81346ee0b7"
   },
   "cell_type": "markdown",
   "source": [
    "### Test One\n",
    "\n",
    "Let's conduct the first test. We will just need to pass in the data to the function, which does most of the work for us."
   ]
  },
  {
   "metadata": {
    "_uuid": "640bceff24f8c53aed68568c6ee1f70575adab69",
    "trusted": true,
    "collapsed": true
   },
   "cell_type": "code",
   "source": [
    "submission_raw, fi_raw, metrics_raw = model(train, test)"
   ],
   "execution_count": null,
   "outputs": []
  },
  {
   "metadata": {
    "_uuid": "b404e436782d6de379bfa4756d58bed0175396f8",
    "trusted": true,
    "collapsed": true
   },
   "cell_type": "code",
   "source": [
    "metrics_raw"
   ],
   "execution_count": null,
   "outputs": []
  },
  {
   "metadata": {
    "_uuid": "0fcb737753ca178e32afda3fe29bf4c29262c379"
   },
   "cell_type": "markdown",
   "source": [
    "Based on these numbers, the engineered features perform better than the control case. However, we will have to submit the predictions to the leaderboard before we can say if this better validation performance transfers to the testing data. "
   ]
  },
  {
   "metadata": {
    "_uuid": "3313e261d947645ca0e72f824de45827a43de9c1",
    "trusted": true,
    "collapsed": true
   },
   "cell_type": "code",
   "source": [
    "fi_raw_sorted = plot_feature_importances(fi_raw)"
   ],
   "execution_count": null,
   "outputs": []
  },
  {
   "metadata": {
    "_uuid": "3bf21f18e6430cea006cdd6b0139c52cb760d6ee"
   },
   "cell_type": "markdown",
   "source": [
    "Examining the feature improtances, it looks as if a few of the feature we constructed are among the most important. Let's find the percentage of the top 100 most important features that we made in this notebook. However, rather than just compare to the original features, we need to compare to the _one-hot encoded_ original features. These are already recorded for us in `fi` (from the original data). "
   ]
  },
  {
   "metadata": {
    "_uuid": "b5abb37ffe89b767a01f494801c4db5bc3abc6db",
    "trusted": true,
    "collapsed": true
   },
   "cell_type": "code",
   "source": [
    "top_100 = list(fi_raw_sorted['feature'])[:100]\n",
    "new_features = [x for x in top_100 if x not in list(fi['feature'])]\n",
    "\n",
    "print('%% of Top 100 Features created from the bureau data = %d.00' % len(new_features))"
   ],
   "execution_count": null,
   "outputs": []
  },
  {
   "metadata": {
    "_uuid": "4ae9e0771495bdfff89f221f435c5320c8fd27f0"
   },
   "cell_type": "markdown",
   "source": [
    "Over half of the top 100 features were made by us! That should give us confidence that all the hard work we did was worthwhile. "
   ]
  },
  {
   "metadata": {
    "_uuid": "0fe38b12afa98f44ad2a1e20da417f3e1f3728fd",
    "collapsed": true,
    "trusted": true
   },
   "cell_type": "code",
   "source": [
    "submission_raw.to_csv('./output/test_one.csv', index=False)"
   ],
   "execution_count": null,
   "outputs": []
  },
  {
   "metadata": {
    "_uuid": "9bff36a22e3ee286f046f819bcca121c14df27a8"
   },
   "cell_type": "markdown",
   "source": [
    "__Test one scores 0.759 when submitted to the competition.__"
   ]
  },
  {
   "metadata": {
    "_uuid": "9469d920abeeb1c912391b06c1f4bd0175c15780"
   },
   "cell_type": "markdown",
   "source": [
    "### Test Two\n",
    "\n",
    "That was easy, so let's do another run! Same as before but with the highly collinear variables removed. "
   ]
  },
  {
   "metadata": {
    "_uuid": "008b1859c010277339ac2b1c2b52c0516c001774",
    "trusted": true,
    "collapsed": true
   },
   "cell_type": "code",
   "source": [
    "submission_corrs, fi_corrs, metrics_corr = model(train_corrs_removed, test_corrs_removed)"
   ],
   "execution_count": null,
   "outputs": []
  },
  {
   "metadata": {
    "_uuid": "6f91e580802f054053d497495de1c7aa4f4047eb",
    "trusted": true,
    "collapsed": true
   },
   "cell_type": "code",
   "source": [
    "metrics_corr"
   ],
   "execution_count": null,
   "outputs": []
  },
  {
   "metadata": {
    "_uuid": "c1c840d66cb195848d861133e24be78514624f30"
   },
   "cell_type": "markdown",
   "source": [
    "These results are better than the control, but slightly lower than the raw features. "
   ]
  },
  {
   "metadata": {
    "_uuid": "ed8a71b2d72719418dcb9463dea983dfe2b1ade8",
    "trusted": true,
    "collapsed": true
   },
   "cell_type": "code",
   "source": [
    "fi_corrs_sorted = plot_feature_importances(fi_corrs)"
   ],
   "execution_count": null,
   "outputs": []
  },
  {
   "metadata": {
    "_uuid": "521e22fc1ba905c4851ca2d948260298a7527519",
    "collapsed": true,
    "trusted": true
   },
   "cell_type": "code",
   "source": [
    "submission_corrs.to_csv('./output/test_two.csv', index=False)"
   ],
   "execution_count": null,
   "outputs": []
  },
  {
   "metadata": {
    "_uuid": "5cca331fe96700aa942ef56f96ce2fa34ad1933a"
   },
   "cell_type": "markdown",
   "source": "__Test Two scores 0.753 when submitted to the competition.__"
  },
  {
   "metadata": {
    "_uuid": "457467aab25e8c047a2c74a1392730b96203cfa2"
   },
   "cell_type": "markdown",
   "source": "# Results\n\nAfter all that work, we can say that including the extra information did improve performance! The model is definitely not optimized to our data, but we still had a noticeable improvement over the original dataset when using the calculated features. Let's officially summarize the performances:\n\n| __Experiment__ | __Train AUC__ | __Validation AUC__ | __Test AUC__  |\n|------------|-------|------------|-------|\n| __Control__    | 0.815 | 0.760      | 0.745 |\n| __Test One__   | 0.837 | 0.767      | 0.759 |\n| __Test Two__   | 0.826 | 0.765      | 0.753 |\n\n\n(Note that these scores may change from run to run of the notebook. I have not observed that the general ordering changes however.)\n\nAll of our hard work translates to a small improvement of 0.014 ROC AUC over the original testing data. Removing the highly collinear variables slightly decreases performance so we will want to consider a different method for feature selection. Moreover, we can say that some of the features we built are among the most important as judged by the model. \n\nIn a competition such as this, even an improvement of this size is enough to move us up 100s of spots on the leaderboard. By making numerous small improvements such as in this notebook, we can gradually achieve better and better performance. I encourage others to use the results here to make their own improvements, and I will continue to document the steps I take to help others. \n\n## Next Steps\n\nGoing forward, we can now use the functions we developed in this notebook on the other datasets. There are still 4 other data files to use in our model! In the next notebook, we will incorporate the information from these other data files (which contain information on previous loans at Home Credit) into our training data. Then we can build the same model and run more experiments to determine the effect of our feature engineering. There is plenty more work to be done in this competition, and plenty more gains in performance to be had! I'll see you in the next notebook."
  },
  {
   "metadata": {
    "_uuid": "94bdea7d6198e5cf61f073c3c4d0386d5961b564",
    "collapsed": true,
    "trusted": true
   },
   "cell_type": "code",
   "source": "",
   "execution_count": null,
   "outputs": []
  }
 ],
 "metadata": {
  "kernelspec": {
   "display_name": "Python 3",
   "language": "python",
   "name": "python3"
  },
  "language_info": {
   "name": "python",
   "version": "3.6.6",
   "mimetype": "text/x-python",
   "codemirror_mode": {
    "name": "ipython",
    "version": 3
   },
   "pygments_lexer": "ipython3",
   "nbconvert_exporter": "python",
   "file_extension": ".py"
  }
 },
 "nbformat": 4,
 "nbformat_minor": 1
}