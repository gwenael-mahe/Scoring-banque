{
 "cells": [
  {
   "cell_type": "markdown",
   "source": [
    "# Sommaire"
   ],
   "metadata": {
    "collapsed": false
   }
  },
  {
   "cell_type": "markdown",
   "metadata": {
    "collapsed": true,
    "pycharm": {
     "name": "#%% md\n"
    }
   },
   "source": [
    "## Introduction\n",
    "\n",
    "> Il s’agit de développer une solution de scoring permettant d’apporter une aide à la décision pour les chargés de relation client.\n",
    ">\n",
    "> En effet, basée sur des algorithmes de Machine Learning, la solution calcule la probabilité qu’un client rembourse ou non son crédit."
   ]
  },
  {
   "cell_type": "markdown",
   "source": [
    "## Ressources\n",
    "\n",
    "> Pour réaliser votre projet, votre manager, vous a fourni le jeu de données suivant qui contient :\n",
    "- Un historique de prêts\n",
    "- Un historique d’informations financières\n",
    "- Des informations sur le comportement des emprunteurs (si l’emprunteur a fait défaut ou pas)."
   ],
   "metadata": {
    "collapsed": false
   }
  },
  {
   "cell_type": "markdown",
   "source": [
    "## Attentes et livrables\n",
    "\n",
    "> Il vous a également communiqué ses attentes par rapport votre projet :\n",
    "- Ce premier projet autour de l’IA est un bon moyen pour sensibiliser l’équipe à ce domaine. Un meetup sur ce sujet de l’IA et la Finance sera le bienvenue\n",
    "- Un premier POC doit être rapidement réalisé en vue de permettre à nos chargés de relation de tester rapidement la solution\n",
    "- Le modèle doit être interprétable par les équipes qui vont l’utiliser\n",
    "- Votre travail doit être facilement réutilisable par les futurs data scientists qui vont rejoindre l’équipe\n",
    "- Votre approche de la modélisation de la problématique ainsi que votre méthode de gestion de ce projet doivent être présentées à l’équipe\n",
    "\n",
    "> Les livrables attendus :\n",
    "- Un Jupyter Notebook avec un premier tuto d’apprentissage (PIMA, Iris, etc.)\n",
    "- Un Jupyter Notebook présentant les différentes parties de votre travail de modélisation\n",
    "- Un meetup sur le sujet (option pour la veille)\n",
    "- Une solution déployée\n",
    "- Une présentation (PowerPoint)\n",
    "\n",
    "## Critère d'évaluation\n",
    "\n",
    "|Compétences|Critère d'évaluation|\n",
    "|-|-|\n",
    "|Etudes théorique|4 modèles de classifications sont étudiés|\n",
    "|Réalisation de feature engineering|Analyse Exploratoire|\n",
    "|&nbsp;|Au moins 2 approches de feature engineering sont testés dont Boruta|\n",
    "|&nbsp;|Les hypothèses retenues pour la sélection des variables sont justifiées|\n",
    "|Entrainement du modèle|Les modèles ML et les métriques d’évaluation sont choisis en fonction de la problématique métier|\n",
    "|&nbsp;|Au moins 3 modèles ML sont testés|\n",
    "|&nbsp;|Les hyperparamètres des modèles sont identifiés et optimisés (GridSearch)|\n",
    "|&nbsp;|La validation croisé est utilisée|\n",
    "|&nbsp;|Une analyse comparative des modèles est réalisée|\n",
    "|Prise en compte des enjeux de l’IA|Des approches d’interprétabilité des modèles ML sont testées|\n",
    "|&nbsp;|Les résultats du modèle de scoring doivent être présentés à un public non technique (chargés de relation)|\n",
    "|Déploiement de la solution|La solution développée  est mise à disposition de l’utilisateur final|\n",
    "|Qualité des livrables|Un Jupyter Notebook présentant l’ensemble de la démarche|\n",
    "|&nbsp;|Une solution qui répond aux besoins de l’utilisateur final|\n",
    "|&nbsp;|Un support avec la présentation de la problématique et la solution proposée|"
   ],
   "metadata": {
    "collapsed": false,
    "pycharm": {
     "name": "#%% md\n"
    }
   }
  }
 ],
 "metadata": {
  "kernelspec": {
   "display_name": "Python 3",
   "language": "python",
   "name": "python3"
  },
  "language_info": {
   "codemirror_mode": {
    "name": "ipython",
    "version": 2
   },
   "file_extension": ".py",
   "mimetype": "text/x-python",
   "name": "python",
   "nbconvert_exporter": "python",
   "pygments_lexer": "ipython2",
   "version": "2.7.6"
  }
 },
 "nbformat": 4,
 "nbformat_minor": 0
}